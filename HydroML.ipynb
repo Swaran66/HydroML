{
  "cells": [
    {
      "cell_type": "markdown",
      "source": [
        "# HydroML\n",
        "HydroML is a machine learning endeavor focused on predicting Dissolved Oxygen levels in water by exploring various model types. The dataset utilized in this research was obtained from the publicly accessible IEEE website.\n",
        "\n",
        "In this study, we aim to assess the effectiveness and practicality of hybrid ML models against Deep Learning neural networks, seeking insights into their suitability and functionality."
      ],
      "metadata": {
        "id": "DGGZEpMZ1eFk"
      },
      "id": "DGGZEpMZ1eFk"
    },
    {
      "cell_type": "code",
      "execution_count": 1,
      "id": "56a9b360",
      "metadata": {
        "id": "56a9b360"
      },
      "outputs": [],
      "source": [
        "import numpy as np\n",
        "import pandas as pd\n",
        "import warnings\n",
        "warnings.filterwarnings('ignore')"
      ]
    },
    {
      "cell_type": "markdown",
      "source": [
        "## Load the dataset"
      ],
      "metadata": {
        "id": "1svPPABr3NBz"
      },
      "id": "1svPPABr3NBz"
    },
    {
      "cell_type": "code",
      "execution_count": 2,
      "id": "7d167637",
      "metadata": {
        "colab": {
          "base_uri": "https://localhost:8080/",
          "height": 226
        },
        "id": "7d167637",
        "outputId": "b10f0fa0-8bc2-4fc0-ed4d-7d8b333d96b6"
      },
      "outputs": [
        {
          "output_type": "execute_result",
          "data": {
            "text/plain": [
              "        NH3  Turbidity         P         N      KjeN    Inor N       Temp  \\\n",
              "0  0.006067   1.726667  0.142667  1.076000  0.952667  0.400667  18.886667   \n",
              "1  0.006595   2.452381  0.163810  0.968095  0.864048  0.381667  17.392857   \n",
              "2  0.006000   3.763158  0.132105  0.456316  0.357368  0.314737  16.989474   \n",
              "3  0.005571   3.700000  0.090000  0.767143  0.722857  0.252857  20.585714   \n",
              "4  0.004286   5.192857  0.082857  1.375000  1.189286  0.410714  23.400000   \n",
              "\n",
              "          D   Salinity        PH         Fecal         Ecoli        DO  \\\n",
              "0  2.160000  31.546667  7.853333   3960.000000   2840.000000  5.740000   \n",
              "1  2.300000  31.540476  7.980952   4047.619048   3307.142857  5.559524   \n",
              "2  2.568421  31.710526  8.115789   4526.315790   3710.526316  5.626316   \n",
              "3  3.100000  32.385714  7.942857  11428.571430   8342.857143  5.271429   \n",
              "4  2.292857  29.642857  7.707143  22928.571430  16928.571430  4.614286   \n",
              "\n",
              "         COD    Chlo A       BOD  \n",
              "0  74.800000  2.160000  0.600000  \n",
              "1  70.380952  1.559524  0.721429  \n",
              "2  70.526316  1.768421  0.868421  \n",
              "3  71.142857  2.514286  0.700000  \n",
              "4  64.714286  2.635714  0.771429  "
            ],
            "text/html": [
              "\n",
              "  <div id=\"df-b2f3a5c8-a75d-49fc-9a4e-205a9c018378\" class=\"colab-df-container\">\n",
              "    <div>\n",
              "<style scoped>\n",
              "    .dataframe tbody tr th:only-of-type {\n",
              "        vertical-align: middle;\n",
              "    }\n",
              "\n",
              "    .dataframe tbody tr th {\n",
              "        vertical-align: top;\n",
              "    }\n",
              "\n",
              "    .dataframe thead th {\n",
              "        text-align: right;\n",
              "    }\n",
              "</style>\n",
              "<table border=\"1\" class=\"dataframe\">\n",
              "  <thead>\n",
              "    <tr style=\"text-align: right;\">\n",
              "      <th></th>\n",
              "      <th>NH3</th>\n",
              "      <th>Turbidity</th>\n",
              "      <th>P</th>\n",
              "      <th>N</th>\n",
              "      <th>KjeN</th>\n",
              "      <th>Inor N</th>\n",
              "      <th>Temp</th>\n",
              "      <th>D</th>\n",
              "      <th>Salinity</th>\n",
              "      <th>PH</th>\n",
              "      <th>Fecal</th>\n",
              "      <th>Ecoli</th>\n",
              "      <th>DO</th>\n",
              "      <th>COD</th>\n",
              "      <th>Chlo A</th>\n",
              "      <th>BOD</th>\n",
              "    </tr>\n",
              "  </thead>\n",
              "  <tbody>\n",
              "    <tr>\n",
              "      <th>0</th>\n",
              "      <td>0.006067</td>\n",
              "      <td>1.726667</td>\n",
              "      <td>0.142667</td>\n",
              "      <td>1.076000</td>\n",
              "      <td>0.952667</td>\n",
              "      <td>0.400667</td>\n",
              "      <td>18.886667</td>\n",
              "      <td>2.160000</td>\n",
              "      <td>31.546667</td>\n",
              "      <td>7.853333</td>\n",
              "      <td>3960.000000</td>\n",
              "      <td>2840.000000</td>\n",
              "      <td>5.740000</td>\n",
              "      <td>74.800000</td>\n",
              "      <td>2.160000</td>\n",
              "      <td>0.600000</td>\n",
              "    </tr>\n",
              "    <tr>\n",
              "      <th>1</th>\n",
              "      <td>0.006595</td>\n",
              "      <td>2.452381</td>\n",
              "      <td>0.163810</td>\n",
              "      <td>0.968095</td>\n",
              "      <td>0.864048</td>\n",
              "      <td>0.381667</td>\n",
              "      <td>17.392857</td>\n",
              "      <td>2.300000</td>\n",
              "      <td>31.540476</td>\n",
              "      <td>7.980952</td>\n",
              "      <td>4047.619048</td>\n",
              "      <td>3307.142857</td>\n",
              "      <td>5.559524</td>\n",
              "      <td>70.380952</td>\n",
              "      <td>1.559524</td>\n",
              "      <td>0.721429</td>\n",
              "    </tr>\n",
              "    <tr>\n",
              "      <th>2</th>\n",
              "      <td>0.006000</td>\n",
              "      <td>3.763158</td>\n",
              "      <td>0.132105</td>\n",
              "      <td>0.456316</td>\n",
              "      <td>0.357368</td>\n",
              "      <td>0.314737</td>\n",
              "      <td>16.989474</td>\n",
              "      <td>2.568421</td>\n",
              "      <td>31.710526</td>\n",
              "      <td>8.115789</td>\n",
              "      <td>4526.315790</td>\n",
              "      <td>3710.526316</td>\n",
              "      <td>5.626316</td>\n",
              "      <td>70.526316</td>\n",
              "      <td>1.768421</td>\n",
              "      <td>0.868421</td>\n",
              "    </tr>\n",
              "    <tr>\n",
              "      <th>3</th>\n",
              "      <td>0.005571</td>\n",
              "      <td>3.700000</td>\n",
              "      <td>0.090000</td>\n",
              "      <td>0.767143</td>\n",
              "      <td>0.722857</td>\n",
              "      <td>0.252857</td>\n",
              "      <td>20.585714</td>\n",
              "      <td>3.100000</td>\n",
              "      <td>32.385714</td>\n",
              "      <td>7.942857</td>\n",
              "      <td>11428.571430</td>\n",
              "      <td>8342.857143</td>\n",
              "      <td>5.271429</td>\n",
              "      <td>71.142857</td>\n",
              "      <td>2.514286</td>\n",
              "      <td>0.700000</td>\n",
              "    </tr>\n",
              "    <tr>\n",
              "      <th>4</th>\n",
              "      <td>0.004286</td>\n",
              "      <td>5.192857</td>\n",
              "      <td>0.082857</td>\n",
              "      <td>1.375000</td>\n",
              "      <td>1.189286</td>\n",
              "      <td>0.410714</td>\n",
              "      <td>23.400000</td>\n",
              "      <td>2.292857</td>\n",
              "      <td>29.642857</td>\n",
              "      <td>7.707143</td>\n",
              "      <td>22928.571430</td>\n",
              "      <td>16928.571430</td>\n",
              "      <td>4.614286</td>\n",
              "      <td>64.714286</td>\n",
              "      <td>2.635714</td>\n",
              "      <td>0.771429</td>\n",
              "    </tr>\n",
              "  </tbody>\n",
              "</table>\n",
              "</div>\n",
              "    <div class=\"colab-df-buttons\">\n",
              "\n",
              "  <div class=\"colab-df-container\">\n",
              "    <button class=\"colab-df-convert\" onclick=\"convertToInteractive('df-b2f3a5c8-a75d-49fc-9a4e-205a9c018378')\"\n",
              "            title=\"Convert this dataframe to an interactive table.\"\n",
              "            style=\"display:none;\">\n",
              "\n",
              "  <svg xmlns=\"http://www.w3.org/2000/svg\" height=\"24px\" viewBox=\"0 -960 960 960\">\n",
              "    <path d=\"M120-120v-720h720v720H120Zm60-500h600v-160H180v160Zm220 220h160v-160H400v160Zm0 220h160v-160H400v160ZM180-400h160v-160H180v160Zm440 0h160v-160H620v160ZM180-180h160v-160H180v160Zm440 0h160v-160H620v160Z\"/>\n",
              "  </svg>\n",
              "    </button>\n",
              "\n",
              "  <style>\n",
              "    .colab-df-container {\n",
              "      display:flex;\n",
              "      gap: 12px;\n",
              "    }\n",
              "\n",
              "    .colab-df-convert {\n",
              "      background-color: #E8F0FE;\n",
              "      border: none;\n",
              "      border-radius: 50%;\n",
              "      cursor: pointer;\n",
              "      display: none;\n",
              "      fill: #1967D2;\n",
              "      height: 32px;\n",
              "      padding: 0 0 0 0;\n",
              "      width: 32px;\n",
              "    }\n",
              "\n",
              "    .colab-df-convert:hover {\n",
              "      background-color: #E2EBFA;\n",
              "      box-shadow: 0px 1px 2px rgba(60, 64, 67, 0.3), 0px 1px 3px 1px rgba(60, 64, 67, 0.15);\n",
              "      fill: #174EA6;\n",
              "    }\n",
              "\n",
              "    .colab-df-buttons div {\n",
              "      margin-bottom: 4px;\n",
              "    }\n",
              "\n",
              "    [theme=dark] .colab-df-convert {\n",
              "      background-color: #3B4455;\n",
              "      fill: #D2E3FC;\n",
              "    }\n",
              "\n",
              "    [theme=dark] .colab-df-convert:hover {\n",
              "      background-color: #434B5C;\n",
              "      box-shadow: 0px 1px 3px 1px rgba(0, 0, 0, 0.15);\n",
              "      filter: drop-shadow(0px 1px 2px rgba(0, 0, 0, 0.3));\n",
              "      fill: #FFFFFF;\n",
              "    }\n",
              "  </style>\n",
              "\n",
              "    <script>\n",
              "      const buttonEl =\n",
              "        document.querySelector('#df-b2f3a5c8-a75d-49fc-9a4e-205a9c018378 button.colab-df-convert');\n",
              "      buttonEl.style.display =\n",
              "        google.colab.kernel.accessAllowed ? 'block' : 'none';\n",
              "\n",
              "      async function convertToInteractive(key) {\n",
              "        const element = document.querySelector('#df-b2f3a5c8-a75d-49fc-9a4e-205a9c018378');\n",
              "        const dataTable =\n",
              "          await google.colab.kernel.invokeFunction('convertToInteractive',\n",
              "                                                    [key], {});\n",
              "        if (!dataTable) return;\n",
              "\n",
              "        const docLinkHtml = 'Like what you see? Visit the ' +\n",
              "          '<a target=\"_blank\" href=https://colab.research.google.com/notebooks/data_table.ipynb>data table notebook</a>'\n",
              "          + ' to learn more about interactive tables.';\n",
              "        element.innerHTML = '';\n",
              "        dataTable['output_type'] = 'display_data';\n",
              "        await google.colab.output.renderOutput(dataTable, element);\n",
              "        const docLink = document.createElement('div');\n",
              "        docLink.innerHTML = docLinkHtml;\n",
              "        element.appendChild(docLink);\n",
              "      }\n",
              "    </script>\n",
              "  </div>\n",
              "\n",
              "\n",
              "<div id=\"df-b2bbd0eb-41e8-4866-96f7-1d06a795c124\">\n",
              "  <button class=\"colab-df-quickchart\" onclick=\"quickchart('df-b2bbd0eb-41e8-4866-96f7-1d06a795c124')\"\n",
              "            title=\"Suggest charts\"\n",
              "            style=\"display:none;\">\n",
              "\n",
              "<svg xmlns=\"http://www.w3.org/2000/svg\" height=\"24px\"viewBox=\"0 0 24 24\"\n",
              "     width=\"24px\">\n",
              "    <g>\n",
              "        <path d=\"M19 3H5c-1.1 0-2 .9-2 2v14c0 1.1.9 2 2 2h14c1.1 0 2-.9 2-2V5c0-1.1-.9-2-2-2zM9 17H7v-7h2v7zm4 0h-2V7h2v10zm4 0h-2v-4h2v4z\"/>\n",
              "    </g>\n",
              "</svg>\n",
              "  </button>\n",
              "\n",
              "<style>\n",
              "  .colab-df-quickchart {\n",
              "      --bg-color: #E8F0FE;\n",
              "      --fill-color: #1967D2;\n",
              "      --hover-bg-color: #E2EBFA;\n",
              "      --hover-fill-color: #174EA6;\n",
              "      --disabled-fill-color: #AAA;\n",
              "      --disabled-bg-color: #DDD;\n",
              "  }\n",
              "\n",
              "  [theme=dark] .colab-df-quickchart {\n",
              "      --bg-color: #3B4455;\n",
              "      --fill-color: #D2E3FC;\n",
              "      --hover-bg-color: #434B5C;\n",
              "      --hover-fill-color: #FFFFFF;\n",
              "      --disabled-bg-color: #3B4455;\n",
              "      --disabled-fill-color: #666;\n",
              "  }\n",
              "\n",
              "  .colab-df-quickchart {\n",
              "    background-color: var(--bg-color);\n",
              "    border: none;\n",
              "    border-radius: 50%;\n",
              "    cursor: pointer;\n",
              "    display: none;\n",
              "    fill: var(--fill-color);\n",
              "    height: 32px;\n",
              "    padding: 0;\n",
              "    width: 32px;\n",
              "  }\n",
              "\n",
              "  .colab-df-quickchart:hover {\n",
              "    background-color: var(--hover-bg-color);\n",
              "    box-shadow: 0 1px 2px rgba(60, 64, 67, 0.3), 0 1px 3px 1px rgba(60, 64, 67, 0.15);\n",
              "    fill: var(--button-hover-fill-color);\n",
              "  }\n",
              "\n",
              "  .colab-df-quickchart-complete:disabled,\n",
              "  .colab-df-quickchart-complete:disabled:hover {\n",
              "    background-color: var(--disabled-bg-color);\n",
              "    fill: var(--disabled-fill-color);\n",
              "    box-shadow: none;\n",
              "  }\n",
              "\n",
              "  .colab-df-spinner {\n",
              "    border: 2px solid var(--fill-color);\n",
              "    border-color: transparent;\n",
              "    border-bottom-color: var(--fill-color);\n",
              "    animation:\n",
              "      spin 1s steps(1) infinite;\n",
              "  }\n",
              "\n",
              "  @keyframes spin {\n",
              "    0% {\n",
              "      border-color: transparent;\n",
              "      border-bottom-color: var(--fill-color);\n",
              "      border-left-color: var(--fill-color);\n",
              "    }\n",
              "    20% {\n",
              "      border-color: transparent;\n",
              "      border-left-color: var(--fill-color);\n",
              "      border-top-color: var(--fill-color);\n",
              "    }\n",
              "    30% {\n",
              "      border-color: transparent;\n",
              "      border-left-color: var(--fill-color);\n",
              "      border-top-color: var(--fill-color);\n",
              "      border-right-color: var(--fill-color);\n",
              "    }\n",
              "    40% {\n",
              "      border-color: transparent;\n",
              "      border-right-color: var(--fill-color);\n",
              "      border-top-color: var(--fill-color);\n",
              "    }\n",
              "    60% {\n",
              "      border-color: transparent;\n",
              "      border-right-color: var(--fill-color);\n",
              "    }\n",
              "    80% {\n",
              "      border-color: transparent;\n",
              "      border-right-color: var(--fill-color);\n",
              "      border-bottom-color: var(--fill-color);\n",
              "    }\n",
              "    90% {\n",
              "      border-color: transparent;\n",
              "      border-bottom-color: var(--fill-color);\n",
              "    }\n",
              "  }\n",
              "</style>\n",
              "\n",
              "  <script>\n",
              "    async function quickchart(key) {\n",
              "      const quickchartButtonEl =\n",
              "        document.querySelector('#' + key + ' button');\n",
              "      quickchartButtonEl.disabled = true;  // To prevent multiple clicks.\n",
              "      quickchartButtonEl.classList.add('colab-df-spinner');\n",
              "      try {\n",
              "        const charts = await google.colab.kernel.invokeFunction(\n",
              "            'suggestCharts', [key], {});\n",
              "      } catch (error) {\n",
              "        console.error('Error during call to suggestCharts:', error);\n",
              "      }\n",
              "      quickchartButtonEl.classList.remove('colab-df-spinner');\n",
              "      quickchartButtonEl.classList.add('colab-df-quickchart-complete');\n",
              "    }\n",
              "    (() => {\n",
              "      let quickchartButtonEl =\n",
              "        document.querySelector('#df-b2bbd0eb-41e8-4866-96f7-1d06a795c124 button');\n",
              "      quickchartButtonEl.style.display =\n",
              "        google.colab.kernel.accessAllowed ? 'block' : 'none';\n",
              "    })();\n",
              "  </script>\n",
              "</div>\n",
              "\n",
              "    </div>\n",
              "  </div>\n"
            ],
            "application/vnd.google.colaboratory.intrinsic+json": {
              "type": "dataframe",
              "variable_name": "df",
              "summary": "{\n  \"name\": \"df\",\n  \"rows\": 2400,\n  \"fields\": [\n    {\n      \"column\": \"NH3\",\n      \"properties\": {\n        \"dtype\": \"number\",\n        \"std\": 0.003907966272890353,\n        \"min\": 0.001,\n        \"max\": 0.0416,\n        \"num_unique_values\": 1281,\n        \"samples\": [\n          0.005964286,\n          0.004763158,\n          0.005604167\n        ],\n        \"semantic_type\": \"\",\n        \"description\": \"\"\n      }\n    },\n    {\n      \"column\": \"Turbidity\",\n      \"properties\": {\n        \"dtype\": \"number\",\n        \"std\": 7.531966227942168,\n        \"min\": 0.7,\n        \"max\": 198.2344828,\n        \"num_unique_values\": 2103,\n        \"samples\": [\n          5.612,\n          11.34347826,\n          6.15\n        ],\n        \"semantic_type\": \"\",\n        \"description\": \"\"\n      }\n    },\n    {\n      \"column\": \"P\",\n      \"properties\": {\n        \"dtype\": \"number\",\n        \"std\": 0.024255519786184853,\n        \"min\": 0.02,\n        \"max\": 0.246363636,\n        \"num_unique_values\": 1019,\n        \"samples\": [\n          0.050857143,\n          0.103714286,\n          0.077142857\n        ],\n        \"semantic_type\": \"\",\n        \"description\": \"\"\n      }\n    },\n    {\n      \"column\": \"N\",\n      \"properties\": {\n        \"dtype\": \"number\",\n        \"std\": 0.25047553058800526,\n        \"min\": 0.1304,\n        \"max\": 1.762173913,\n        \"num_unique_values\": 1988,\n        \"samples\": [\n          0.593333333,\n          0.704285714,\n          0.565714286\n        ],\n        \"semantic_type\": \"\",\n        \"description\": \"\"\n      }\n    },\n    {\n      \"column\": \"KjeN\",\n      \"properties\": {\n        \"dtype\": \"number\",\n        \"std\": 0.24163576712856508,\n        \"min\": 0.083928571,\n        \"max\": 1.692173913,\n        \"num_unique_values\": 1907,\n        \"samples\": [\n          1.343333333,\n          0.245,\n          0.248857143\n        ],\n        \"semantic_type\": \"\",\n        \"description\": \"\"\n      }\n    },\n    {\n      \"column\": \"Inor N\",\n      \"properties\": {\n        \"dtype\": \"number\",\n        \"std\": 0.13492209378219652,\n        \"min\": 0.068571429,\n        \"max\": 1.222105263,\n        \"num_unique_values\": 1884,\n        \"samples\": [\n          0.440571429,\n          0.236428571,\n          0.433928571\n        ],\n        \"semantic_type\": \"\",\n        \"description\": \"\"\n      }\n    },\n    {\n      \"column\": \"Temp\",\n      \"properties\": {\n        \"dtype\": \"number\",\n        \"std\": 3.8634298501740876,\n        \"min\": 15.2,\n        \"max\": 30.86176471,\n        \"num_unique_values\": 1886,\n        \"samples\": [\n          24.86666667,\n          23.01764706,\n          18.61111111\n        ],\n        \"semantic_type\": \"\",\n        \"description\": \"\"\n      }\n    },\n    {\n      \"column\": \"D\",\n      \"properties\": {\n        \"dtype\": \"number\",\n        \"std\": 0.6176764413708318,\n        \"min\": 0.5,\n        \"max\": 5.368421053,\n        \"num_unique_values\": 1432,\n        \"samples\": [\n          2.809090909,\n          3.185714286,\n          1.507142857\n        ],\n        \"semantic_type\": \"\",\n        \"description\": \"\"\n      }\n    },\n    {\n      \"column\": \"Salinity\",\n      \"properties\": {\n        \"dtype\": \"number\",\n        \"std\": 2.683698146985706,\n        \"min\": 15.15,\n        \"max\": 34.8,\n        \"num_unique_values\": 1900,\n        \"samples\": [\n          32.19666667,\n          27.55625,\n          32.13928571\n        ],\n        \"semantic_type\": \"\",\n        \"description\": \"\"\n      }\n    },\n    {\n      \"column\": \"PH\",\n      \"properties\": {\n        \"dtype\": \"number\",\n        \"std\": 0.20909283843126766,\n        \"min\": 4.754545455,\n        \"max\": 8.488,\n        \"num_unique_values\": 872,\n        \"samples\": [\n          8.127272727,\n          7.517647059,\n          8.065714286\n        ],\n        \"semantic_type\": \"\",\n        \"description\": \"\"\n      }\n    },\n    {\n      \"column\": \"Fecal\",\n      \"properties\": {\n        \"dtype\": \"number\",\n        \"std\": 32891.654976988015,\n        \"min\": 7.25,\n        \"max\": 607200.0,\n        \"num_unique_values\": 2249,\n        \"samples\": [\n          18.75,\n          21104.34783,\n          192.2222222\n        ],\n        \"semantic_type\": \"\",\n        \"description\": \"\"\n      }\n    },\n    {\n      \"column\": \"Ecoli\",\n      \"properties\": {\n        \"dtype\": \"number\",\n        \"std\": 14442.128689203084,\n        \"min\": 2.95,\n        \"max\": 261600.0,\n        \"num_unique_values\": 2258,\n        \"samples\": [\n          1235.918367,\n          1177.55102,\n          1005.666667\n        ],\n        \"semantic_type\": \"\",\n        \"description\": \"\"\n      }\n    },\n    {\n      \"column\": \"DO\",\n      \"properties\": {\n        \"dtype\": \"number\",\n        \"std\": 1.0380581684949672,\n        \"min\": 2.594117647,\n        \"max\": 11.36428571,\n        \"num_unique_values\": 1822,\n        \"samples\": [\n          7.07826087,\n          6.341176471,\n          5.973076923\n        ],\n        \"semantic_type\": \"\",\n        \"description\": \"\"\n      }\n    },\n    {\n      \"column\": \"COD\",\n      \"properties\": {\n        \"dtype\": \"number\",\n        \"std\": 13.37506207064196,\n        \"min\": 37.41176471,\n        \"max\": 166.5714286,\n        \"num_unique_values\": 1875,\n        \"samples\": [\n          69.16129032,\n          130.3548387,\n          59.45454546\n        ],\n        \"semantic_type\": \"\",\n        \"description\": \"\"\n      }\n    },\n    {\n      \"column\": \"Chlo A\",\n      \"properties\": {\n        \"dtype\": \"number\",\n        \"std\": 6.026093977732471,\n        \"min\": 0.2,\n        \"max\": 44.61290323,\n        \"num_unique_values\": 1929,\n        \"samples\": [\n          1.024390244,\n          1.08125,\n          14.07142857\n        ],\n        \"semantic_type\": \"\",\n        \"description\": \"\"\n      }\n    },\n    {\n      \"column\": \"BOD\",\n      \"properties\": {\n        \"dtype\": \"number\",\n        \"std\": 0.5957662365460239,\n        \"min\": 0.1,\n        \"max\": 6.260714286,\n        \"num_unique_values\": 1519,\n        \"samples\": [\n          1.411111111,\n          1.246153846,\n          0.734482759\n        ],\n        \"semantic_type\": \"\",\n        \"description\": \"\"\n      }\n    }\n  ]\n}"
            }
          },
          "metadata": {},
          "execution_count": 2
        }
      ],
      "source": [
        "df = pd.read_csv(r'/content/HK.csv')\n",
        "df.head()"
      ]
    },
    {
      "cell_type": "code",
      "execution_count": 3,
      "id": "e0ec6550",
      "metadata": {
        "id": "e0ec6550"
      },
      "outputs": [],
      "source": [
        "df2 = df.copy()"
      ]
    },
    {
      "cell_type": "code",
      "source": [
        "df2.shape"
      ],
      "metadata": {
        "colab": {
          "base_uri": "https://localhost:8080/"
        },
        "id": "z3JVRx4VZavT",
        "outputId": "9d8e198b-7d59-4d64-fdb1-72ae3bd95ec8"
      },
      "id": "z3JVRx4VZavT",
      "execution_count": 4,
      "outputs": [
        {
          "output_type": "execute_result",
          "data": {
            "text/plain": [
              "(2400, 16)"
            ]
          },
          "metadata": {},
          "execution_count": 4
        }
      ]
    },
    {
      "cell_type": "markdown",
      "source": [
        "## Feature Selection\n",
        "The datset consist of 16 features and using too many features will complicate the modelling task. So, we will first create a basic model and select the features based on feature importance"
      ],
      "metadata": {
        "id": "R2HYjs5q4r68"
      },
      "id": "R2HYjs5q4r68"
    },
    {
      "cell_type": "code",
      "source": [
        "import pandas as pd\n",
        "from sklearn.preprocessing import StandardScaler\n",
        "from sklearn.model_selection import train_test_split\n",
        "\n",
        "# Assuming 'df1' contains your dataframe\n",
        "X = df2.drop(['DO'], axis='columns')  # input\n",
        "y = df2['DO']\n",
        "\n",
        "# Convert X and y to dataframes\n",
        "X = pd.DataFrame(X)\n",
        "y = pd.DataFrame(y)\n",
        "\n",
        "# Scaling the features\n",
        "scaler = StandardScaler()\n",
        "X_scaled = scaler.fit_transform(X)\n",
        "\n",
        "# Splitting the data into training and testing sets\n",
        "X_train, X_test, y_train, y_test = train_test_split(X_scaled, y, test_size=0.3, random_state=10)\n",
        "\n",
        "print(X_train.shape)\n",
        "print(X_test.shape)\n"
      ],
      "metadata": {
        "colab": {
          "base_uri": "https://localhost:8080/"
        },
        "id": "P7SIYIbj5lbz",
        "outputId": "65ae9691-0267-4e08-851b-73d0a5695d75"
      },
      "id": "P7SIYIbj5lbz",
      "execution_count": 5,
      "outputs": [
        {
          "output_type": "stream",
          "name": "stdout",
          "text": [
            "(1680, 15)\n",
            "(720, 15)\n"
          ]
        }
      ]
    },
    {
      "cell_type": "markdown",
      "source": [
        "We will use most commonly used RF and XGBoost to create the rudimentary model"
      ],
      "metadata": {
        "id": "02pQWA2n6KrF"
      },
      "id": "02pQWA2n6KrF"
    },
    {
      "cell_type": "code",
      "source": [
        "from sklearn.ensemble import RandomForestRegressor\n",
        "from xgboost import XGBRegressor\n",
        "from sklearn.model_selection import cross_val_score\n",
        "# Assuming X_train, X_test, y_train, and y_test are your training and testing data\n",
        "\n",
        "# RandomForestRegressor\n",
        "rf_clf = RandomForestRegressor()\n",
        "rf_clf.fit(X_train, y_train)\n",
        "rf_valscore = cross_val_score(rf_clf, X_train, y_train, cv=5).mean()\n",
        "rf_score = cross_val_score(rf_clf, X_test, y_test, cv=5).mean()\n",
        "# Initialize XGBoost regressor\n",
        "xgb_clf = XGBRegressor()\n",
        "xgb_clf.fit(X_train, y_train)\n",
        "xgb_valscore = cross_val_score(xgb_clf, X_train, y_train, cv=5).mean()\n",
        "xgb_score = cross_val_score(rf_clf, X_test, y_test, cv=5).mean()\n",
        "\n",
        "\n",
        "# Print scores\n",
        "print(\"RandomForestRegressor Validation score:\", rf_valscore)\n",
        "print(\"RandomForestRegressor score:\", rf_score)\n",
        "print(\"RandomForestRegressor Validation score:\", xgb_valscore)\n",
        "print(\"Xtreme GradientBoostingRegressor score:\", xgb_score)\n",
        "\n"
      ],
      "metadata": {
        "colab": {
          "base_uri": "https://localhost:8080/"
        },
        "id": "z3fzOGW85vnj",
        "outputId": "0183ef4e-c88b-4422-a9c4-50f953450e3c"
      },
      "id": "z3fzOGW85vnj",
      "execution_count": 7,
      "outputs": [
        {
          "output_type": "stream",
          "name": "stdout",
          "text": [
            "RandomForestRegressor Validation score: 0.9826793653145046\n",
            "RandomForestRegressor score: 0.9789458505384967\n",
            "RandomForestRegressor Validation score: 0.9832267544473167\n",
            "Xtreme GradientBoostingRegressor score: 0.9785573946365697\n"
          ]
        }
      ]
    },
    {
      "cell_type": "code",
      "source": [
        "import pandas as pd\n",
        "from sklearn.ensemble import RandomForestRegressor\n",
        "\n",
        "# Train RandomForestRegressor\n",
        "rf = RandomForestRegressor()\n",
        "rf.fit(X_train, y_train)\n",
        "\n",
        "# Convert X_train to DataFrame\n",
        "X_train_df = pd.DataFrame(X_train, columns=X.columns)\n",
        "\n",
        "# Calculate feature importances\n",
        "feature_importance = rf.feature_importances_\n",
        "\n",
        "# Get column names from the original DataFrame\n",
        "column_names = X_train_df.columns\n",
        "\n",
        "# Sort feature importances in descending order\n",
        "sorted_idx = feature_importance.argsort()[::-1]\n",
        "\n",
        "# Print feature importances with names\n",
        "for i, idx in enumerate(sorted_idx):\n",
        "    print(f\"{i+1}. Feature: {column_names[idx]}, Importance: {feature_importance[idx]}\")\n"
      ],
      "metadata": {
        "colab": {
          "base_uri": "https://localhost:8080/"
        },
        "id": "fuHhXsoe6qYk",
        "outputId": "ae1baafa-398a-4b09-aad8-ac9e0669a513"
      },
      "id": "fuHhXsoe6qYk",
      "execution_count": 8,
      "outputs": [
        {
          "output_type": "stream",
          "name": "stdout",
          "text": [
            "1. Feature: COD, Importance: 0.8818748728581589\n",
            "2. Feature: Temp, Importance: 0.09976178297582465\n",
            "3. Feature: Salinity, Importance: 0.004987122076998903\n",
            "4. Feature: KjeN, Importance: 0.001975177512586828\n",
            "5. Feature: NH3, Importance: 0.0017080603409333037\n",
            "6. Feature: BOD, Importance: 0.0015483079347640748\n",
            "7. Feature: N, Importance: 0.0013028933201654185\n",
            "8. Feature: Chlo A, Importance: 0.0012032142785149277\n",
            "9. Feature: Turbidity, Importance: 0.0010928656258065305\n",
            "10. Feature: P, Importance: 0.001092648339866763\n",
            "11. Feature: Inor N, Importance: 0.0009234504913045301\n",
            "12. Feature: PH, Importance: 0.0008729036222939733\n",
            "13. Feature: D, Importance: 0.0006943928642326384\n",
            "14. Feature: Fecal, Importance: 0.0005400826199610122\n",
            "15. Feature: Ecoli, Importance: 0.0004222251385874781\n"
          ]
        }
      ]
    },
    {
      "cell_type": "code",
      "source": [
        "import pandas as pd\n",
        "import xgboost as xgb\n",
        "\n",
        "# Train XGBoost model\n",
        "xgb_model = xgb.XGBRegressor()\n",
        "xgb_model.fit(X_train, y_train)\n",
        "\n",
        "# Convert X_train to DataFrame\n",
        "X_train_df = pd.DataFrame(X_train, columns=X.columns)\n",
        "\n",
        "# Calculate feature importances\n",
        "feature_importance = xgb_model.feature_importances_\n",
        "\n",
        "# Get column names from the original DataFrame\n",
        "column_names = X_train_df.columns\n",
        "\n",
        "# Sort feature importances in descending order\n",
        "sorted_idx = feature_importance.argsort()[::-1]\n",
        "\n",
        "# Print feature importances with names\n",
        "for i, idx in enumerate(sorted_idx):\n",
        "    print(f\"{i+1}. Feature: {column_names[idx]}, Importance: {feature_importance[idx]}\")\n"
      ],
      "metadata": {
        "colab": {
          "base_uri": "https://localhost:8080/"
        },
        "id": "AKhsu1ir6zkk",
        "outputId": "9227bd4c-1e90-4ac4-bba0-2e763ff34cd0"
      },
      "id": "AKhsu1ir6zkk",
      "execution_count": 9,
      "outputs": [
        {
          "output_type": "stream",
          "name": "stdout",
          "text": [
            "1. Feature: COD, Importance: 0.8716332912445068\n",
            "2. Feature: Temp, Importance: 0.10597298294305801\n",
            "3. Feature: Salinity, Importance: 0.008950237184762955\n",
            "4. Feature: KjeN, Importance: 0.002457516035065055\n",
            "5. Feature: P, Importance: 0.001649042940698564\n",
            "6. Feature: N, Importance: 0.0015820958651602268\n",
            "7. Feature: Inor N, Importance: 0.0013822432374581695\n",
            "8. Feature: BOD, Importance: 0.0013506165705621243\n",
            "9. Feature: Chlo A, Importance: 0.001127894502133131\n",
            "10. Feature: NH3, Importance: 0.0011218530125916004\n",
            "11. Feature: Turbidity, Importance: 0.0009450516663491726\n",
            "12. Feature: PH, Importance: 0.0006959800375625491\n",
            "13. Feature: D, Importance: 0.0004493824962992221\n",
            "14. Feature: Fecal, Importance: 0.0004191382904537022\n",
            "15. Feature: Ecoli, Importance: 0.0002626479836180806\n"
          ]
        }
      ]
    },
    {
      "cell_type": "markdown",
      "source": [
        "In both cases COD and Temp seems to be the most impactful parameter.\n",
        "So we will only use COD and Temp for the modelling"
      ],
      "metadata": {
        "id": "Lj96tDSY62Pe"
      },
      "id": "Lj96tDSY62Pe"
    },
    {
      "cell_type": "code",
      "source": [],
      "metadata": {
        "id": "A7cuZLtz9Fb8"
      },
      "id": "A7cuZLtz9Fb8",
      "execution_count": null,
      "outputs": []
    },
    {
      "cell_type": "code",
      "source": [
        "df = df[['COD','DO','Temp']]"
      ],
      "metadata": {
        "id": "puXaYnbu8Wh7"
      },
      "id": "puXaYnbu8Wh7",
      "execution_count": 3,
      "outputs": []
    },
    {
      "cell_type": "code",
      "source": [
        "df.shape"
      ],
      "metadata": {
        "id": "M7hMnT3586uW",
        "outputId": "e46886dc-3b44-49ac-f05d-91cefeebc4ff",
        "colab": {
          "base_uri": "https://localhost:8080/"
        }
      },
      "id": "M7hMnT3586uW",
      "execution_count": 4,
      "outputs": [
        {
          "output_type": "execute_result",
          "data": {
            "text/plain": [
              "(2400, 3)"
            ]
          },
          "metadata": {},
          "execution_count": 4
        }
      ]
    },
    {
      "cell_type": "code",
      "source": [
        "df.head()"
      ],
      "metadata": {
        "id": "gTna0icv8hYk",
        "outputId": "2482ac31-b4c6-4e28-916e-339ff8d68bf3",
        "colab": {
          "base_uri": "https://localhost:8080/",
          "height": 206
        }
      },
      "id": "gTna0icv8hYk",
      "execution_count": 31,
      "outputs": [
        {
          "output_type": "execute_result",
          "data": {
            "text/plain": [
              "         COD        DO       Temp\n",
              "0  74.800000  5.740000  18.886667\n",
              "1  70.380952  5.559524  17.392857\n",
              "2  70.526316  5.626316  16.989474\n",
              "3  71.142857  5.271429  20.585714\n",
              "4  64.714286  4.614286  23.400000"
            ],
            "text/html": [
              "\n",
              "  <div id=\"df-67787d7f-a9da-462a-abb1-ce1a2d4efefc\" class=\"colab-df-container\">\n",
              "    <div>\n",
              "<style scoped>\n",
              "    .dataframe tbody tr th:only-of-type {\n",
              "        vertical-align: middle;\n",
              "    }\n",
              "\n",
              "    .dataframe tbody tr th {\n",
              "        vertical-align: top;\n",
              "    }\n",
              "\n",
              "    .dataframe thead th {\n",
              "        text-align: right;\n",
              "    }\n",
              "</style>\n",
              "<table border=\"1\" class=\"dataframe\">\n",
              "  <thead>\n",
              "    <tr style=\"text-align: right;\">\n",
              "      <th></th>\n",
              "      <th>COD</th>\n",
              "      <th>DO</th>\n",
              "      <th>Temp</th>\n",
              "    </tr>\n",
              "  </thead>\n",
              "  <tbody>\n",
              "    <tr>\n",
              "      <th>0</th>\n",
              "      <td>74.800000</td>\n",
              "      <td>5.740000</td>\n",
              "      <td>18.886667</td>\n",
              "    </tr>\n",
              "    <tr>\n",
              "      <th>1</th>\n",
              "      <td>70.380952</td>\n",
              "      <td>5.559524</td>\n",
              "      <td>17.392857</td>\n",
              "    </tr>\n",
              "    <tr>\n",
              "      <th>2</th>\n",
              "      <td>70.526316</td>\n",
              "      <td>5.626316</td>\n",
              "      <td>16.989474</td>\n",
              "    </tr>\n",
              "    <tr>\n",
              "      <th>3</th>\n",
              "      <td>71.142857</td>\n",
              "      <td>5.271429</td>\n",
              "      <td>20.585714</td>\n",
              "    </tr>\n",
              "    <tr>\n",
              "      <th>4</th>\n",
              "      <td>64.714286</td>\n",
              "      <td>4.614286</td>\n",
              "      <td>23.400000</td>\n",
              "    </tr>\n",
              "  </tbody>\n",
              "</table>\n",
              "</div>\n",
              "    <div class=\"colab-df-buttons\">\n",
              "\n",
              "  <div class=\"colab-df-container\">\n",
              "    <button class=\"colab-df-convert\" onclick=\"convertToInteractive('df-67787d7f-a9da-462a-abb1-ce1a2d4efefc')\"\n",
              "            title=\"Convert this dataframe to an interactive table.\"\n",
              "            style=\"display:none;\">\n",
              "\n",
              "  <svg xmlns=\"http://www.w3.org/2000/svg\" height=\"24px\" viewBox=\"0 -960 960 960\">\n",
              "    <path d=\"M120-120v-720h720v720H120Zm60-500h600v-160H180v160Zm220 220h160v-160H400v160Zm0 220h160v-160H400v160ZM180-400h160v-160H180v160Zm440 0h160v-160H620v160ZM180-180h160v-160H180v160Zm440 0h160v-160H620v160Z\"/>\n",
              "  </svg>\n",
              "    </button>\n",
              "\n",
              "  <style>\n",
              "    .colab-df-container {\n",
              "      display:flex;\n",
              "      gap: 12px;\n",
              "    }\n",
              "\n",
              "    .colab-df-convert {\n",
              "      background-color: #E8F0FE;\n",
              "      border: none;\n",
              "      border-radius: 50%;\n",
              "      cursor: pointer;\n",
              "      display: none;\n",
              "      fill: #1967D2;\n",
              "      height: 32px;\n",
              "      padding: 0 0 0 0;\n",
              "      width: 32px;\n",
              "    }\n",
              "\n",
              "    .colab-df-convert:hover {\n",
              "      background-color: #E2EBFA;\n",
              "      box-shadow: 0px 1px 2px rgba(60, 64, 67, 0.3), 0px 1px 3px 1px rgba(60, 64, 67, 0.15);\n",
              "      fill: #174EA6;\n",
              "    }\n",
              "\n",
              "    .colab-df-buttons div {\n",
              "      margin-bottom: 4px;\n",
              "    }\n",
              "\n",
              "    [theme=dark] .colab-df-convert {\n",
              "      background-color: #3B4455;\n",
              "      fill: #D2E3FC;\n",
              "    }\n",
              "\n",
              "    [theme=dark] .colab-df-convert:hover {\n",
              "      background-color: #434B5C;\n",
              "      box-shadow: 0px 1px 3px 1px rgba(0, 0, 0, 0.15);\n",
              "      filter: drop-shadow(0px 1px 2px rgba(0, 0, 0, 0.3));\n",
              "      fill: #FFFFFF;\n",
              "    }\n",
              "  </style>\n",
              "\n",
              "    <script>\n",
              "      const buttonEl =\n",
              "        document.querySelector('#df-67787d7f-a9da-462a-abb1-ce1a2d4efefc button.colab-df-convert');\n",
              "      buttonEl.style.display =\n",
              "        google.colab.kernel.accessAllowed ? 'block' : 'none';\n",
              "\n",
              "      async function convertToInteractive(key) {\n",
              "        const element = document.querySelector('#df-67787d7f-a9da-462a-abb1-ce1a2d4efefc');\n",
              "        const dataTable =\n",
              "          await google.colab.kernel.invokeFunction('convertToInteractive',\n",
              "                                                    [key], {});\n",
              "        if (!dataTable) return;\n",
              "\n",
              "        const docLinkHtml = 'Like what you see? Visit the ' +\n",
              "          '<a target=\"_blank\" href=https://colab.research.google.com/notebooks/data_table.ipynb>data table notebook</a>'\n",
              "          + ' to learn more about interactive tables.';\n",
              "        element.innerHTML = '';\n",
              "        dataTable['output_type'] = 'display_data';\n",
              "        await google.colab.output.renderOutput(dataTable, element);\n",
              "        const docLink = document.createElement('div');\n",
              "        docLink.innerHTML = docLinkHtml;\n",
              "        element.appendChild(docLink);\n",
              "      }\n",
              "    </script>\n",
              "  </div>\n",
              "\n",
              "\n",
              "<div id=\"df-ca12d114-7a88-4da3-9c4b-1dd43d666fbd\">\n",
              "  <button class=\"colab-df-quickchart\" onclick=\"quickchart('df-ca12d114-7a88-4da3-9c4b-1dd43d666fbd')\"\n",
              "            title=\"Suggest charts\"\n",
              "            style=\"display:none;\">\n",
              "\n",
              "<svg xmlns=\"http://www.w3.org/2000/svg\" height=\"24px\"viewBox=\"0 0 24 24\"\n",
              "     width=\"24px\">\n",
              "    <g>\n",
              "        <path d=\"M19 3H5c-1.1 0-2 .9-2 2v14c0 1.1.9 2 2 2h14c1.1 0 2-.9 2-2V5c0-1.1-.9-2-2-2zM9 17H7v-7h2v7zm4 0h-2V7h2v10zm4 0h-2v-4h2v4z\"/>\n",
              "    </g>\n",
              "</svg>\n",
              "  </button>\n",
              "\n",
              "<style>\n",
              "  .colab-df-quickchart {\n",
              "      --bg-color: #E8F0FE;\n",
              "      --fill-color: #1967D2;\n",
              "      --hover-bg-color: #E2EBFA;\n",
              "      --hover-fill-color: #174EA6;\n",
              "      --disabled-fill-color: #AAA;\n",
              "      --disabled-bg-color: #DDD;\n",
              "  }\n",
              "\n",
              "  [theme=dark] .colab-df-quickchart {\n",
              "      --bg-color: #3B4455;\n",
              "      --fill-color: #D2E3FC;\n",
              "      --hover-bg-color: #434B5C;\n",
              "      --hover-fill-color: #FFFFFF;\n",
              "      --disabled-bg-color: #3B4455;\n",
              "      --disabled-fill-color: #666;\n",
              "  }\n",
              "\n",
              "  .colab-df-quickchart {\n",
              "    background-color: var(--bg-color);\n",
              "    border: none;\n",
              "    border-radius: 50%;\n",
              "    cursor: pointer;\n",
              "    display: none;\n",
              "    fill: var(--fill-color);\n",
              "    height: 32px;\n",
              "    padding: 0;\n",
              "    width: 32px;\n",
              "  }\n",
              "\n",
              "  .colab-df-quickchart:hover {\n",
              "    background-color: var(--hover-bg-color);\n",
              "    box-shadow: 0 1px 2px rgba(60, 64, 67, 0.3), 0 1px 3px 1px rgba(60, 64, 67, 0.15);\n",
              "    fill: var(--button-hover-fill-color);\n",
              "  }\n",
              "\n",
              "  .colab-df-quickchart-complete:disabled,\n",
              "  .colab-df-quickchart-complete:disabled:hover {\n",
              "    background-color: var(--disabled-bg-color);\n",
              "    fill: var(--disabled-fill-color);\n",
              "    box-shadow: none;\n",
              "  }\n",
              "\n",
              "  .colab-df-spinner {\n",
              "    border: 2px solid var(--fill-color);\n",
              "    border-color: transparent;\n",
              "    border-bottom-color: var(--fill-color);\n",
              "    animation:\n",
              "      spin 1s steps(1) infinite;\n",
              "  }\n",
              "\n",
              "  @keyframes spin {\n",
              "    0% {\n",
              "      border-color: transparent;\n",
              "      border-bottom-color: var(--fill-color);\n",
              "      border-left-color: var(--fill-color);\n",
              "    }\n",
              "    20% {\n",
              "      border-color: transparent;\n",
              "      border-left-color: var(--fill-color);\n",
              "      border-top-color: var(--fill-color);\n",
              "    }\n",
              "    30% {\n",
              "      border-color: transparent;\n",
              "      border-left-color: var(--fill-color);\n",
              "      border-top-color: var(--fill-color);\n",
              "      border-right-color: var(--fill-color);\n",
              "    }\n",
              "    40% {\n",
              "      border-color: transparent;\n",
              "      border-right-color: var(--fill-color);\n",
              "      border-top-color: var(--fill-color);\n",
              "    }\n",
              "    60% {\n",
              "      border-color: transparent;\n",
              "      border-right-color: var(--fill-color);\n",
              "    }\n",
              "    80% {\n",
              "      border-color: transparent;\n",
              "      border-right-color: var(--fill-color);\n",
              "      border-bottom-color: var(--fill-color);\n",
              "    }\n",
              "    90% {\n",
              "      border-color: transparent;\n",
              "      border-bottom-color: var(--fill-color);\n",
              "    }\n",
              "  }\n",
              "</style>\n",
              "\n",
              "  <script>\n",
              "    async function quickchart(key) {\n",
              "      const quickchartButtonEl =\n",
              "        document.querySelector('#' + key + ' button');\n",
              "      quickchartButtonEl.disabled = true;  // To prevent multiple clicks.\n",
              "      quickchartButtonEl.classList.add('colab-df-spinner');\n",
              "      try {\n",
              "        const charts = await google.colab.kernel.invokeFunction(\n",
              "            'suggestCharts', [key], {});\n",
              "      } catch (error) {\n",
              "        console.error('Error during call to suggestCharts:', error);\n",
              "      }\n",
              "      quickchartButtonEl.classList.remove('colab-df-spinner');\n",
              "      quickchartButtonEl.classList.add('colab-df-quickchart-complete');\n",
              "    }\n",
              "    (() => {\n",
              "      let quickchartButtonEl =\n",
              "        document.querySelector('#df-ca12d114-7a88-4da3-9c4b-1dd43d666fbd button');\n",
              "      quickchartButtonEl.style.display =\n",
              "        google.colab.kernel.accessAllowed ? 'block' : 'none';\n",
              "    })();\n",
              "  </script>\n",
              "</div>\n",
              "\n",
              "    </div>\n",
              "  </div>\n"
            ],
            "application/vnd.google.colaboratory.intrinsic+json": {
              "type": "dataframe",
              "variable_name": "df",
              "summary": "{\n  \"name\": \"df\",\n  \"rows\": 2400,\n  \"fields\": [\n    {\n      \"column\": \"COD\",\n      \"properties\": {\n        \"dtype\": \"number\",\n        \"std\": 13.37506207064196,\n        \"min\": 37.41176471,\n        \"max\": 166.5714286,\n        \"num_unique_values\": 1875,\n        \"samples\": [\n          69.16129032,\n          130.3548387,\n          59.45454546\n        ],\n        \"semantic_type\": \"\",\n        \"description\": \"\"\n      }\n    },\n    {\n      \"column\": \"DO\",\n      \"properties\": {\n        \"dtype\": \"number\",\n        \"std\": 1.0380581684949672,\n        \"min\": 2.594117647,\n        \"max\": 11.36428571,\n        \"num_unique_values\": 1822,\n        \"samples\": [\n          7.07826087,\n          6.341176471,\n          5.973076923\n        ],\n        \"semantic_type\": \"\",\n        \"description\": \"\"\n      }\n    },\n    {\n      \"column\": \"Temp\",\n      \"properties\": {\n        \"dtype\": \"number\",\n        \"std\": 3.8634298501740876,\n        \"min\": 15.2,\n        \"max\": 30.86176471,\n        \"num_unique_values\": 1886,\n        \"samples\": [\n          24.86666667,\n          23.01764706,\n          18.61111111\n        ],\n        \"semantic_type\": \"\",\n        \"description\": \"\"\n      }\n    }\n  ]\n}"
            }
          },
          "metadata": {},
          "execution_count": 31
        }
      ]
    },
    {
      "cell_type": "markdown",
      "source": [
        "# ML vs DL"
      ],
      "metadata": {
        "id": "VzqOuCuV7EQj"
      },
      "id": "VzqOuCuV7EQj"
    },
    {
      "cell_type": "markdown",
      "source": [
        "Normally ML models performs better with less amount of data compared to DL models. To asses this axiom we will divide the dataset into 5 section from small to large (the frist section will have least data and sequencially well will increase this data). Then we will use this 5 subsets for prediction using DL and ML and see how they respond"
      ],
      "metadata": {
        "id": "B48L2MvS7JfD"
      },
      "id": "B48L2MvS7JfD"
    },
    {
      "cell_type": "code",
      "source": [
        "sections = []\n",
        "section_sizes = [480, 480, 480, 480, 480]\n",
        "\n",
        "start_index = 0\n",
        "for i, size in enumerate(section_sizes, start=1):\n",
        "    section_name = f\"s{i}\"\n",
        "    globals()[section_name] = df.iloc[start_index:start_index+size].copy()\n",
        "    start_index += size\n"
      ],
      "metadata": {
        "id": "jB3mi4TshrQW"
      },
      "id": "jB3mi4TshrQW",
      "execution_count": 5,
      "outputs": []
    },
    {
      "cell_type": "code",
      "source": [
        "df1 = s1.copy()\n",
        "df1.shape"
      ],
      "metadata": {
        "colab": {
          "base_uri": "https://localhost:8080/"
        },
        "id": "Li6r67cBhstt",
        "outputId": "aa5a4065-4672-40f4-fbb9-bb0e8088a179"
      },
      "id": "Li6r67cBhstt",
      "execution_count": 6,
      "outputs": [
        {
          "output_type": "execute_result",
          "data": {
            "text/plain": [
              "(480, 3)"
            ]
          },
          "metadata": {},
          "execution_count": 6
        }
      ]
    },
    {
      "cell_type": "code",
      "source": [
        "df1.head()"
      ],
      "metadata": {
        "id": "3AGaAhV48BYk",
        "outputId": "4b215e83-2469-48aa-e553-2d03a10d8b0d",
        "colab": {
          "base_uri": "https://localhost:8080/",
          "height": 206
        }
      },
      "id": "3AGaAhV48BYk",
      "execution_count": 7,
      "outputs": [
        {
          "output_type": "execute_result",
          "data": {
            "text/plain": [
              "         COD        DO       Temp\n",
              "0  74.800000  5.740000  18.886667\n",
              "1  70.380952  5.559524  17.392857\n",
              "2  70.526316  5.626316  16.989474\n",
              "3  71.142857  5.271429  20.585714\n",
              "4  64.714286  4.614286  23.400000"
            ],
            "text/html": [
              "\n",
              "  <div id=\"df-28b9d2df-99b9-45be-9f7a-5b2313e858a3\" class=\"colab-df-container\">\n",
              "    <div>\n",
              "<style scoped>\n",
              "    .dataframe tbody tr th:only-of-type {\n",
              "        vertical-align: middle;\n",
              "    }\n",
              "\n",
              "    .dataframe tbody tr th {\n",
              "        vertical-align: top;\n",
              "    }\n",
              "\n",
              "    .dataframe thead th {\n",
              "        text-align: right;\n",
              "    }\n",
              "</style>\n",
              "<table border=\"1\" class=\"dataframe\">\n",
              "  <thead>\n",
              "    <tr style=\"text-align: right;\">\n",
              "      <th></th>\n",
              "      <th>COD</th>\n",
              "      <th>DO</th>\n",
              "      <th>Temp</th>\n",
              "    </tr>\n",
              "  </thead>\n",
              "  <tbody>\n",
              "    <tr>\n",
              "      <th>0</th>\n",
              "      <td>74.800000</td>\n",
              "      <td>5.740000</td>\n",
              "      <td>18.886667</td>\n",
              "    </tr>\n",
              "    <tr>\n",
              "      <th>1</th>\n",
              "      <td>70.380952</td>\n",
              "      <td>5.559524</td>\n",
              "      <td>17.392857</td>\n",
              "    </tr>\n",
              "    <tr>\n",
              "      <th>2</th>\n",
              "      <td>70.526316</td>\n",
              "      <td>5.626316</td>\n",
              "      <td>16.989474</td>\n",
              "    </tr>\n",
              "    <tr>\n",
              "      <th>3</th>\n",
              "      <td>71.142857</td>\n",
              "      <td>5.271429</td>\n",
              "      <td>20.585714</td>\n",
              "    </tr>\n",
              "    <tr>\n",
              "      <th>4</th>\n",
              "      <td>64.714286</td>\n",
              "      <td>4.614286</td>\n",
              "      <td>23.400000</td>\n",
              "    </tr>\n",
              "  </tbody>\n",
              "</table>\n",
              "</div>\n",
              "    <div class=\"colab-df-buttons\">\n",
              "\n",
              "  <div class=\"colab-df-container\">\n",
              "    <button class=\"colab-df-convert\" onclick=\"convertToInteractive('df-28b9d2df-99b9-45be-9f7a-5b2313e858a3')\"\n",
              "            title=\"Convert this dataframe to an interactive table.\"\n",
              "            style=\"display:none;\">\n",
              "\n",
              "  <svg xmlns=\"http://www.w3.org/2000/svg\" height=\"24px\" viewBox=\"0 -960 960 960\">\n",
              "    <path d=\"M120-120v-720h720v720H120Zm60-500h600v-160H180v160Zm220 220h160v-160H400v160Zm0 220h160v-160H400v160ZM180-400h160v-160H180v160Zm440 0h160v-160H620v160ZM180-180h160v-160H180v160Zm440 0h160v-160H620v160Z\"/>\n",
              "  </svg>\n",
              "    </button>\n",
              "\n",
              "  <style>\n",
              "    .colab-df-container {\n",
              "      display:flex;\n",
              "      gap: 12px;\n",
              "    }\n",
              "\n",
              "    .colab-df-convert {\n",
              "      background-color: #E8F0FE;\n",
              "      border: none;\n",
              "      border-radius: 50%;\n",
              "      cursor: pointer;\n",
              "      display: none;\n",
              "      fill: #1967D2;\n",
              "      height: 32px;\n",
              "      padding: 0 0 0 0;\n",
              "      width: 32px;\n",
              "    }\n",
              "\n",
              "    .colab-df-convert:hover {\n",
              "      background-color: #E2EBFA;\n",
              "      box-shadow: 0px 1px 2px rgba(60, 64, 67, 0.3), 0px 1px 3px 1px rgba(60, 64, 67, 0.15);\n",
              "      fill: #174EA6;\n",
              "    }\n",
              "\n",
              "    .colab-df-buttons div {\n",
              "      margin-bottom: 4px;\n",
              "    }\n",
              "\n",
              "    [theme=dark] .colab-df-convert {\n",
              "      background-color: #3B4455;\n",
              "      fill: #D2E3FC;\n",
              "    }\n",
              "\n",
              "    [theme=dark] .colab-df-convert:hover {\n",
              "      background-color: #434B5C;\n",
              "      box-shadow: 0px 1px 3px 1px rgba(0, 0, 0, 0.15);\n",
              "      filter: drop-shadow(0px 1px 2px rgba(0, 0, 0, 0.3));\n",
              "      fill: #FFFFFF;\n",
              "    }\n",
              "  </style>\n",
              "\n",
              "    <script>\n",
              "      const buttonEl =\n",
              "        document.querySelector('#df-28b9d2df-99b9-45be-9f7a-5b2313e858a3 button.colab-df-convert');\n",
              "      buttonEl.style.display =\n",
              "        google.colab.kernel.accessAllowed ? 'block' : 'none';\n",
              "\n",
              "      async function convertToInteractive(key) {\n",
              "        const element = document.querySelector('#df-28b9d2df-99b9-45be-9f7a-5b2313e858a3');\n",
              "        const dataTable =\n",
              "          await google.colab.kernel.invokeFunction('convertToInteractive',\n",
              "                                                    [key], {});\n",
              "        if (!dataTable) return;\n",
              "\n",
              "        const docLinkHtml = 'Like what you see? Visit the ' +\n",
              "          '<a target=\"_blank\" href=https://colab.research.google.com/notebooks/data_table.ipynb>data table notebook</a>'\n",
              "          + ' to learn more about interactive tables.';\n",
              "        element.innerHTML = '';\n",
              "        dataTable['output_type'] = 'display_data';\n",
              "        await google.colab.output.renderOutput(dataTable, element);\n",
              "        const docLink = document.createElement('div');\n",
              "        docLink.innerHTML = docLinkHtml;\n",
              "        element.appendChild(docLink);\n",
              "      }\n",
              "    </script>\n",
              "  </div>\n",
              "\n",
              "\n",
              "<div id=\"df-b6560f31-40dd-4241-a7e8-57b2863a7f1a\">\n",
              "  <button class=\"colab-df-quickchart\" onclick=\"quickchart('df-b6560f31-40dd-4241-a7e8-57b2863a7f1a')\"\n",
              "            title=\"Suggest charts\"\n",
              "            style=\"display:none;\">\n",
              "\n",
              "<svg xmlns=\"http://www.w3.org/2000/svg\" height=\"24px\"viewBox=\"0 0 24 24\"\n",
              "     width=\"24px\">\n",
              "    <g>\n",
              "        <path d=\"M19 3H5c-1.1 0-2 .9-2 2v14c0 1.1.9 2 2 2h14c1.1 0 2-.9 2-2V5c0-1.1-.9-2-2-2zM9 17H7v-7h2v7zm4 0h-2V7h2v10zm4 0h-2v-4h2v4z\"/>\n",
              "    </g>\n",
              "</svg>\n",
              "  </button>\n",
              "\n",
              "<style>\n",
              "  .colab-df-quickchart {\n",
              "      --bg-color: #E8F0FE;\n",
              "      --fill-color: #1967D2;\n",
              "      --hover-bg-color: #E2EBFA;\n",
              "      --hover-fill-color: #174EA6;\n",
              "      --disabled-fill-color: #AAA;\n",
              "      --disabled-bg-color: #DDD;\n",
              "  }\n",
              "\n",
              "  [theme=dark] .colab-df-quickchart {\n",
              "      --bg-color: #3B4455;\n",
              "      --fill-color: #D2E3FC;\n",
              "      --hover-bg-color: #434B5C;\n",
              "      --hover-fill-color: #FFFFFF;\n",
              "      --disabled-bg-color: #3B4455;\n",
              "      --disabled-fill-color: #666;\n",
              "  }\n",
              "\n",
              "  .colab-df-quickchart {\n",
              "    background-color: var(--bg-color);\n",
              "    border: none;\n",
              "    border-radius: 50%;\n",
              "    cursor: pointer;\n",
              "    display: none;\n",
              "    fill: var(--fill-color);\n",
              "    height: 32px;\n",
              "    padding: 0;\n",
              "    width: 32px;\n",
              "  }\n",
              "\n",
              "  .colab-df-quickchart:hover {\n",
              "    background-color: var(--hover-bg-color);\n",
              "    box-shadow: 0 1px 2px rgba(60, 64, 67, 0.3), 0 1px 3px 1px rgba(60, 64, 67, 0.15);\n",
              "    fill: var(--button-hover-fill-color);\n",
              "  }\n",
              "\n",
              "  .colab-df-quickchart-complete:disabled,\n",
              "  .colab-df-quickchart-complete:disabled:hover {\n",
              "    background-color: var(--disabled-bg-color);\n",
              "    fill: var(--disabled-fill-color);\n",
              "    box-shadow: none;\n",
              "  }\n",
              "\n",
              "  .colab-df-spinner {\n",
              "    border: 2px solid var(--fill-color);\n",
              "    border-color: transparent;\n",
              "    border-bottom-color: var(--fill-color);\n",
              "    animation:\n",
              "      spin 1s steps(1) infinite;\n",
              "  }\n",
              "\n",
              "  @keyframes spin {\n",
              "    0% {\n",
              "      border-color: transparent;\n",
              "      border-bottom-color: var(--fill-color);\n",
              "      border-left-color: var(--fill-color);\n",
              "    }\n",
              "    20% {\n",
              "      border-color: transparent;\n",
              "      border-left-color: var(--fill-color);\n",
              "      border-top-color: var(--fill-color);\n",
              "    }\n",
              "    30% {\n",
              "      border-color: transparent;\n",
              "      border-left-color: var(--fill-color);\n",
              "      border-top-color: var(--fill-color);\n",
              "      border-right-color: var(--fill-color);\n",
              "    }\n",
              "    40% {\n",
              "      border-color: transparent;\n",
              "      border-right-color: var(--fill-color);\n",
              "      border-top-color: var(--fill-color);\n",
              "    }\n",
              "    60% {\n",
              "      border-color: transparent;\n",
              "      border-right-color: var(--fill-color);\n",
              "    }\n",
              "    80% {\n",
              "      border-color: transparent;\n",
              "      border-right-color: var(--fill-color);\n",
              "      border-bottom-color: var(--fill-color);\n",
              "    }\n",
              "    90% {\n",
              "      border-color: transparent;\n",
              "      border-bottom-color: var(--fill-color);\n",
              "    }\n",
              "  }\n",
              "</style>\n",
              "\n",
              "  <script>\n",
              "    async function quickchart(key) {\n",
              "      const quickchartButtonEl =\n",
              "        document.querySelector('#' + key + ' button');\n",
              "      quickchartButtonEl.disabled = true;  // To prevent multiple clicks.\n",
              "      quickchartButtonEl.classList.add('colab-df-spinner');\n",
              "      try {\n",
              "        const charts = await google.colab.kernel.invokeFunction(\n",
              "            'suggestCharts', [key], {});\n",
              "      } catch (error) {\n",
              "        console.error('Error during call to suggestCharts:', error);\n",
              "      }\n",
              "      quickchartButtonEl.classList.remove('colab-df-spinner');\n",
              "      quickchartButtonEl.classList.add('colab-df-quickchart-complete');\n",
              "    }\n",
              "    (() => {\n",
              "      let quickchartButtonEl =\n",
              "        document.querySelector('#df-b6560f31-40dd-4241-a7e8-57b2863a7f1a button');\n",
              "      quickchartButtonEl.style.display =\n",
              "        google.colab.kernel.accessAllowed ? 'block' : 'none';\n",
              "    })();\n",
              "  </script>\n",
              "</div>\n",
              "\n",
              "    </div>\n",
              "  </div>\n"
            ],
            "application/vnd.google.colaboratory.intrinsic+json": {
              "type": "dataframe",
              "variable_name": "df1",
              "summary": "{\n  \"name\": \"df1\",\n  \"rows\": 480,\n  \"fields\": [\n    {\n      \"column\": \"COD\",\n      \"properties\": {\n        \"dtype\": \"number\",\n        \"std\": 12.69184561032588,\n        \"min\": 43.61904762,\n        \"max\": 147.6666667,\n        \"num_unique_values\": 442,\n        \"samples\": [\n          75.36666667,\n          88.57142857,\n          87.71428571\n        ],\n        \"semantic_type\": \"\",\n        \"description\": \"\"\n      }\n    },\n    {\n      \"column\": \"DO\",\n      \"properties\": {\n        \"dtype\": \"number\",\n        \"std\": 1.028963351407194,\n        \"min\": 3.080952381,\n        \"max\": 10.02666667,\n        \"num_unique_values\": 444,\n        \"samples\": [\n          5.383333333,\n          5.960869565,\n          6.104545455\n        ],\n        \"semantic_type\": \"\",\n        \"description\": \"\"\n      }\n    },\n    {\n      \"column\": \"Temp\",\n      \"properties\": {\n        \"dtype\": \"number\",\n        \"std\": 3.816098542427692,\n        \"min\": 15.39565217,\n        \"max\": 28.87272727,\n        \"num_unique_values\": 471,\n        \"samples\": [\n          27.47692308,\n          18.22285714,\n          27.15\n        ],\n        \"semantic_type\": \"\",\n        \"description\": \"\"\n      }\n    }\n  ]\n}"
            }
          },
          "metadata": {},
          "execution_count": 7
        }
      ]
    },
    {
      "cell_type": "code",
      "source": [
        "df2 = pd.concat([s1, s2]).copy()\n",
        "df2.shape"
      ],
      "metadata": {
        "id": "NPlO4lJP8K0z",
        "outputId": "f5e97fe5-4e16-4306-a888-e91074d9c4a2",
        "colab": {
          "base_uri": "https://localhost:8080/"
        }
      },
      "id": "NPlO4lJP8K0z",
      "execution_count": 8,
      "outputs": [
        {
          "output_type": "execute_result",
          "data": {
            "text/plain": [
              "(960, 3)"
            ]
          },
          "metadata": {},
          "execution_count": 8
        }
      ]
    },
    {
      "cell_type": "code",
      "source": [
        "df2.head()"
      ],
      "metadata": {
        "colab": {
          "base_uri": "https://localhost:8080/",
          "height": 206
        },
        "id": "qFB0cW-ehsoB",
        "outputId": "9114302c-66bf-45d0-c11e-872002bc7d6f"
      },
      "id": "qFB0cW-ehsoB",
      "execution_count": 22,
      "outputs": [
        {
          "output_type": "execute_result",
          "data": {
            "text/plain": [
              "         COD        DO       Temp\n",
              "0  74.800000  5.740000  18.886667\n",
              "1  70.380952  5.559524  17.392857\n",
              "2  70.526316  5.626316  16.989474\n",
              "3  71.142857  5.271429  20.585714\n",
              "4  64.714286  4.614286  23.400000"
            ],
            "text/html": [
              "\n",
              "  <div id=\"df-7a932378-0a44-4b2e-8d15-9e987ae57b2f\" class=\"colab-df-container\">\n",
              "    <div>\n",
              "<style scoped>\n",
              "    .dataframe tbody tr th:only-of-type {\n",
              "        vertical-align: middle;\n",
              "    }\n",
              "\n",
              "    .dataframe tbody tr th {\n",
              "        vertical-align: top;\n",
              "    }\n",
              "\n",
              "    .dataframe thead th {\n",
              "        text-align: right;\n",
              "    }\n",
              "</style>\n",
              "<table border=\"1\" class=\"dataframe\">\n",
              "  <thead>\n",
              "    <tr style=\"text-align: right;\">\n",
              "      <th></th>\n",
              "      <th>COD</th>\n",
              "      <th>DO</th>\n",
              "      <th>Temp</th>\n",
              "    </tr>\n",
              "  </thead>\n",
              "  <tbody>\n",
              "    <tr>\n",
              "      <th>0</th>\n",
              "      <td>74.800000</td>\n",
              "      <td>5.740000</td>\n",
              "      <td>18.886667</td>\n",
              "    </tr>\n",
              "    <tr>\n",
              "      <th>1</th>\n",
              "      <td>70.380952</td>\n",
              "      <td>5.559524</td>\n",
              "      <td>17.392857</td>\n",
              "    </tr>\n",
              "    <tr>\n",
              "      <th>2</th>\n",
              "      <td>70.526316</td>\n",
              "      <td>5.626316</td>\n",
              "      <td>16.989474</td>\n",
              "    </tr>\n",
              "    <tr>\n",
              "      <th>3</th>\n",
              "      <td>71.142857</td>\n",
              "      <td>5.271429</td>\n",
              "      <td>20.585714</td>\n",
              "    </tr>\n",
              "    <tr>\n",
              "      <th>4</th>\n",
              "      <td>64.714286</td>\n",
              "      <td>4.614286</td>\n",
              "      <td>23.400000</td>\n",
              "    </tr>\n",
              "  </tbody>\n",
              "</table>\n",
              "</div>\n",
              "    <div class=\"colab-df-buttons\">\n",
              "\n",
              "  <div class=\"colab-df-container\">\n",
              "    <button class=\"colab-df-convert\" onclick=\"convertToInteractive('df-7a932378-0a44-4b2e-8d15-9e987ae57b2f')\"\n",
              "            title=\"Convert this dataframe to an interactive table.\"\n",
              "            style=\"display:none;\">\n",
              "\n",
              "  <svg xmlns=\"http://www.w3.org/2000/svg\" height=\"24px\" viewBox=\"0 -960 960 960\">\n",
              "    <path d=\"M120-120v-720h720v720H120Zm60-500h600v-160H180v160Zm220 220h160v-160H400v160Zm0 220h160v-160H400v160ZM180-400h160v-160H180v160Zm440 0h160v-160H620v160ZM180-180h160v-160H180v160Zm440 0h160v-160H620v160Z\"/>\n",
              "  </svg>\n",
              "    </button>\n",
              "\n",
              "  <style>\n",
              "    .colab-df-container {\n",
              "      display:flex;\n",
              "      gap: 12px;\n",
              "    }\n",
              "\n",
              "    .colab-df-convert {\n",
              "      background-color: #E8F0FE;\n",
              "      border: none;\n",
              "      border-radius: 50%;\n",
              "      cursor: pointer;\n",
              "      display: none;\n",
              "      fill: #1967D2;\n",
              "      height: 32px;\n",
              "      padding: 0 0 0 0;\n",
              "      width: 32px;\n",
              "    }\n",
              "\n",
              "    .colab-df-convert:hover {\n",
              "      background-color: #E2EBFA;\n",
              "      box-shadow: 0px 1px 2px rgba(60, 64, 67, 0.3), 0px 1px 3px 1px rgba(60, 64, 67, 0.15);\n",
              "      fill: #174EA6;\n",
              "    }\n",
              "\n",
              "    .colab-df-buttons div {\n",
              "      margin-bottom: 4px;\n",
              "    }\n",
              "\n",
              "    [theme=dark] .colab-df-convert {\n",
              "      background-color: #3B4455;\n",
              "      fill: #D2E3FC;\n",
              "    }\n",
              "\n",
              "    [theme=dark] .colab-df-convert:hover {\n",
              "      background-color: #434B5C;\n",
              "      box-shadow: 0px 1px 3px 1px rgba(0, 0, 0, 0.15);\n",
              "      filter: drop-shadow(0px 1px 2px rgba(0, 0, 0, 0.3));\n",
              "      fill: #FFFFFF;\n",
              "    }\n",
              "  </style>\n",
              "\n",
              "    <script>\n",
              "      const buttonEl =\n",
              "        document.querySelector('#df-7a932378-0a44-4b2e-8d15-9e987ae57b2f button.colab-df-convert');\n",
              "      buttonEl.style.display =\n",
              "        google.colab.kernel.accessAllowed ? 'block' : 'none';\n",
              "\n",
              "      async function convertToInteractive(key) {\n",
              "        const element = document.querySelector('#df-7a932378-0a44-4b2e-8d15-9e987ae57b2f');\n",
              "        const dataTable =\n",
              "          await google.colab.kernel.invokeFunction('convertToInteractive',\n",
              "                                                    [key], {});\n",
              "        if (!dataTable) return;\n",
              "\n",
              "        const docLinkHtml = 'Like what you see? Visit the ' +\n",
              "          '<a target=\"_blank\" href=https://colab.research.google.com/notebooks/data_table.ipynb>data table notebook</a>'\n",
              "          + ' to learn more about interactive tables.';\n",
              "        element.innerHTML = '';\n",
              "        dataTable['output_type'] = 'display_data';\n",
              "        await google.colab.output.renderOutput(dataTable, element);\n",
              "        const docLink = document.createElement('div');\n",
              "        docLink.innerHTML = docLinkHtml;\n",
              "        element.appendChild(docLink);\n",
              "      }\n",
              "    </script>\n",
              "  </div>\n",
              "\n",
              "\n",
              "<div id=\"df-d1045d14-b6b1-41b4-96cf-95e84850c3fd\">\n",
              "  <button class=\"colab-df-quickchart\" onclick=\"quickchart('df-d1045d14-b6b1-41b4-96cf-95e84850c3fd')\"\n",
              "            title=\"Suggest charts\"\n",
              "            style=\"display:none;\">\n",
              "\n",
              "<svg xmlns=\"http://www.w3.org/2000/svg\" height=\"24px\"viewBox=\"0 0 24 24\"\n",
              "     width=\"24px\">\n",
              "    <g>\n",
              "        <path d=\"M19 3H5c-1.1 0-2 .9-2 2v14c0 1.1.9 2 2 2h14c1.1 0 2-.9 2-2V5c0-1.1-.9-2-2-2zM9 17H7v-7h2v7zm4 0h-2V7h2v10zm4 0h-2v-4h2v4z\"/>\n",
              "    </g>\n",
              "</svg>\n",
              "  </button>\n",
              "\n",
              "<style>\n",
              "  .colab-df-quickchart {\n",
              "      --bg-color: #E8F0FE;\n",
              "      --fill-color: #1967D2;\n",
              "      --hover-bg-color: #E2EBFA;\n",
              "      --hover-fill-color: #174EA6;\n",
              "      --disabled-fill-color: #AAA;\n",
              "      --disabled-bg-color: #DDD;\n",
              "  }\n",
              "\n",
              "  [theme=dark] .colab-df-quickchart {\n",
              "      --bg-color: #3B4455;\n",
              "      --fill-color: #D2E3FC;\n",
              "      --hover-bg-color: #434B5C;\n",
              "      --hover-fill-color: #FFFFFF;\n",
              "      --disabled-bg-color: #3B4455;\n",
              "      --disabled-fill-color: #666;\n",
              "  }\n",
              "\n",
              "  .colab-df-quickchart {\n",
              "    background-color: var(--bg-color);\n",
              "    border: none;\n",
              "    border-radius: 50%;\n",
              "    cursor: pointer;\n",
              "    display: none;\n",
              "    fill: var(--fill-color);\n",
              "    height: 32px;\n",
              "    padding: 0;\n",
              "    width: 32px;\n",
              "  }\n",
              "\n",
              "  .colab-df-quickchart:hover {\n",
              "    background-color: var(--hover-bg-color);\n",
              "    box-shadow: 0 1px 2px rgba(60, 64, 67, 0.3), 0 1px 3px 1px rgba(60, 64, 67, 0.15);\n",
              "    fill: var(--button-hover-fill-color);\n",
              "  }\n",
              "\n",
              "  .colab-df-quickchart-complete:disabled,\n",
              "  .colab-df-quickchart-complete:disabled:hover {\n",
              "    background-color: var(--disabled-bg-color);\n",
              "    fill: var(--disabled-fill-color);\n",
              "    box-shadow: none;\n",
              "  }\n",
              "\n",
              "  .colab-df-spinner {\n",
              "    border: 2px solid var(--fill-color);\n",
              "    border-color: transparent;\n",
              "    border-bottom-color: var(--fill-color);\n",
              "    animation:\n",
              "      spin 1s steps(1) infinite;\n",
              "  }\n",
              "\n",
              "  @keyframes spin {\n",
              "    0% {\n",
              "      border-color: transparent;\n",
              "      border-bottom-color: var(--fill-color);\n",
              "      border-left-color: var(--fill-color);\n",
              "    }\n",
              "    20% {\n",
              "      border-color: transparent;\n",
              "      border-left-color: var(--fill-color);\n",
              "      border-top-color: var(--fill-color);\n",
              "    }\n",
              "    30% {\n",
              "      border-color: transparent;\n",
              "      border-left-color: var(--fill-color);\n",
              "      border-top-color: var(--fill-color);\n",
              "      border-right-color: var(--fill-color);\n",
              "    }\n",
              "    40% {\n",
              "      border-color: transparent;\n",
              "      border-right-color: var(--fill-color);\n",
              "      border-top-color: var(--fill-color);\n",
              "    }\n",
              "    60% {\n",
              "      border-color: transparent;\n",
              "      border-right-color: var(--fill-color);\n",
              "    }\n",
              "    80% {\n",
              "      border-color: transparent;\n",
              "      border-right-color: var(--fill-color);\n",
              "      border-bottom-color: var(--fill-color);\n",
              "    }\n",
              "    90% {\n",
              "      border-color: transparent;\n",
              "      border-bottom-color: var(--fill-color);\n",
              "    }\n",
              "  }\n",
              "</style>\n",
              "\n",
              "  <script>\n",
              "    async function quickchart(key) {\n",
              "      const quickchartButtonEl =\n",
              "        document.querySelector('#' + key + ' button');\n",
              "      quickchartButtonEl.disabled = true;  // To prevent multiple clicks.\n",
              "      quickchartButtonEl.classList.add('colab-df-spinner');\n",
              "      try {\n",
              "        const charts = await google.colab.kernel.invokeFunction(\n",
              "            'suggestCharts', [key], {});\n",
              "      } catch (error) {\n",
              "        console.error('Error during call to suggestCharts:', error);\n",
              "      }\n",
              "      quickchartButtonEl.classList.remove('colab-df-spinner');\n",
              "      quickchartButtonEl.classList.add('colab-df-quickchart-complete');\n",
              "    }\n",
              "    (() => {\n",
              "      let quickchartButtonEl =\n",
              "        document.querySelector('#df-d1045d14-b6b1-41b4-96cf-95e84850c3fd button');\n",
              "      quickchartButtonEl.style.display =\n",
              "        google.colab.kernel.accessAllowed ? 'block' : 'none';\n",
              "    })();\n",
              "  </script>\n",
              "</div>\n",
              "\n",
              "    </div>\n",
              "  </div>\n"
            ],
            "application/vnd.google.colaboratory.intrinsic+json": {
              "type": "dataframe",
              "variable_name": "df2",
              "summary": "{\n  \"name\": \"df2\",\n  \"rows\": 960,\n  \"fields\": [\n    {\n      \"column\": \"COD\",\n      \"properties\": {\n        \"dtype\": \"number\",\n        \"std\": 13.058418824193435,\n        \"min\": 37.41176471,\n        \"max\": 147.6666667,\n        \"num_unique_values\": 838,\n        \"samples\": [\n          90.05128205,\n          86.91428571,\n          102.3125\n        ],\n        \"semantic_type\": \"\",\n        \"description\": \"\"\n      }\n    },\n    {\n      \"column\": \"DO\",\n      \"properties\": {\n        \"dtype\": \"number\",\n        \"std\": 1.0153565485814324,\n        \"min\": 2.594117647,\n        \"max\": 10.02666667,\n        \"num_unique_values\": 836,\n        \"samples\": [\n          3.510869565,\n          5.475,\n          5.136666667\n        ],\n        \"semantic_type\": \"\",\n        \"description\": \"\"\n      }\n    },\n    {\n      \"column\": \"Temp\",\n      \"properties\": {\n        \"dtype\": \"number\",\n        \"std\": 3.8542806839590584,\n        \"min\": 15.39565217,\n        \"max\": 29.12647059,\n        \"num_unique_values\": 884,\n        \"samples\": [\n          26.83235294,\n          25.49756098,\n          21.975\n        ],\n        \"semantic_type\": \"\",\n        \"description\": \"\"\n      }\n    }\n  ]\n}"
            }
          },
          "metadata": {},
          "execution_count": 22
        }
      ]
    },
    {
      "cell_type": "code",
      "source": [
        "df3 = pd.concat([s1, s2, s3]).copy()\n",
        "df3.shape"
      ],
      "metadata": {
        "colab": {
          "base_uri": "https://localhost:8080/"
        },
        "id": "7_uAyrXFh0_q",
        "outputId": "62a722ea-40f6-42c3-a963-c12a8498ed8a"
      },
      "id": "7_uAyrXFh0_q",
      "execution_count": 9,
      "outputs": [
        {
          "output_type": "execute_result",
          "data": {
            "text/plain": [
              "(1440, 3)"
            ]
          },
          "metadata": {},
          "execution_count": 9
        }
      ]
    },
    {
      "cell_type": "code",
      "source": [
        "df4 = pd.concat([s1, s2, s3, s4]).copy()\n",
        "df4.shape"
      ],
      "metadata": {
        "colab": {
          "base_uri": "https://localhost:8080/"
        },
        "id": "vFQCsWHQh085",
        "outputId": "87276967-c71f-4908-c410-f4b38469530c"
      },
      "id": "vFQCsWHQh085",
      "execution_count": 10,
      "outputs": [
        {
          "output_type": "execute_result",
          "data": {
            "text/plain": [
              "(1920, 3)"
            ]
          },
          "metadata": {},
          "execution_count": 10
        }
      ]
    },
    {
      "cell_type": "code",
      "source": [
        "df5 = pd.concat([s1, s2, s3, s4, s5]).copy()\n",
        "df5.shape"
      ],
      "metadata": {
        "colab": {
          "base_uri": "https://localhost:8080/"
        },
        "id": "BezeUZlUcFcL",
        "outputId": "4735fc3a-04d0-4444-83c1-8368191fb801"
      },
      "id": "BezeUZlUcFcL",
      "execution_count": 11,
      "outputs": [
        {
          "output_type": "execute_result",
          "data": {
            "text/plain": [
              "(2400, 3)"
            ]
          },
          "metadata": {},
          "execution_count": 11
        }
      ]
    },
    {
      "cell_type": "code",
      "source": [
        "df1.shape"
      ],
      "metadata": {
        "id": "3GH_GtwjJ2Qc",
        "outputId": "7deeb9be-1b70-4f20-e4ca-b13d8feb203e",
        "colab": {
          "base_uri": "https://localhost:8080/"
        }
      },
      "id": "3GH_GtwjJ2Qc",
      "execution_count": 78,
      "outputs": [
        {
          "output_type": "execute_result",
          "data": {
            "text/plain": [
              "(480, 3)"
            ]
          },
          "metadata": {},
          "execution_count": 78
        }
      ]
    },
    {
      "cell_type": "markdown",
      "source": [
        "# With COD and temp"
      ],
      "metadata": {
        "id": "bnRHvPYIRQZd"
      },
      "id": "bnRHvPYIRQZd"
    },
    {
      "cell_type": "code",
      "source": [
        "import pandas as pd\n",
        "from sklearn.preprocessing import StandardScaler\n",
        "from sklearn.model_selection import train_test_split\n",
        "\n",
        "# Assuming 'df1' contains your dataframe\n",
        "X1 = df1.drop(['DO','Temp'], axis='columns')  # input\n",
        "y1 = df1['DO']\n",
        "\n",
        "# Convert X and y to dataframes\n",
        "X1 = pd.DataFrame(X1)\n",
        "y1 = pd.DataFrame(y1)\n",
        "\n",
        "# Scaling the features\n",
        "scaler = StandardScaler()\n",
        "X1_scaled = scaler.fit_transform(X1)\n",
        "\n",
        "# Splitting the data into training and testing sets\n",
        "X1_train, X1_test, y1_train, y1_test = train_test_split(X1_scaled, y1, test_size=0.3, random_state=10)\n",
        "\n",
        "print(X1_train.shape)\n",
        "print(X1_test.shape)\n"
      ],
      "metadata": {
        "id": "l0OhCU62AHhW",
        "outputId": "f3322f50-cc01-41a5-fc19-e6d6d1a9dc67",
        "colab": {
          "base_uri": "https://localhost:8080/"
        }
      },
      "id": "l0OhCU62AHhW",
      "execution_count": 28,
      "outputs": [
        {
          "output_type": "stream",
          "name": "stdout",
          "text": [
            "(336, 1)\n",
            "(144, 1)\n"
          ]
        }
      ]
    },
    {
      "cell_type": "code",
      "source": [
        "import pandas as pd\n",
        "from sklearn.preprocessing import StandardScaler\n",
        "from sklearn.model_selection import train_test_split\n",
        "\n",
        "# Assuming 'df1' contains your dataframe\n",
        "X2 = df2.drop(['DO'], axis='columns')  # input\n",
        "y2 = df2['DO']\n",
        "\n",
        "# Convert X and y to dataframes\n",
        "X2 = pd.DataFrame(X2)\n",
        "y2 = pd.DataFrame(y2)\n",
        "\n",
        "# Scaling the features\n",
        "scaler = StandardScaler()\n",
        "X2_scaled = scaler.fit_transform(X2)\n",
        "\n",
        "# Splitting the data into training and testing sets\n",
        "X2_train, X2_test, y2_train, y2_test = train_test_split(X2_scaled, y2, test_size=0.3, random_state=10)\n",
        "\n",
        "print(X2_train.shape)\n",
        "print(X2_test.shape)\n"
      ],
      "metadata": {
        "id": "pCfGzdTnKoSb",
        "outputId": "dbaafcd1-1a73-4a0c-c1a7-8621e148f193",
        "colab": {
          "base_uri": "https://localhost:8080/"
        }
      },
      "id": "pCfGzdTnKoSb",
      "execution_count": 29,
      "outputs": [
        {
          "output_type": "stream",
          "name": "stdout",
          "text": [
            "(672, 2)\n",
            "(288, 2)\n"
          ]
        }
      ]
    },
    {
      "cell_type": "code",
      "source": [
        "import pandas as pd\n",
        "from sklearn.preprocessing import StandardScaler\n",
        "from sklearn.model_selection import train_test_split\n",
        "\n",
        "# Assuming 'df1' contains your dataframe\n",
        "X3 = df3.drop(['DO'], axis='columns')  # input\n",
        "y3 = df3['DO']\n",
        "\n",
        "# Convert X and y to dataframes\n",
        "X3 = pd.DataFrame(X3)\n",
        "y3 = pd.DataFrame(y3)\n",
        "\n",
        "# Scaling the features\n",
        "scaler = StandardScaler()\n",
        "X3_scaled = scaler.fit_transform(X3)\n",
        "\n",
        "# Splitting the data into training and testing sets\n",
        "X3_train, X3_test, y3_train, y3_test = train_test_split(X3_scaled, y3, test_size=0.3, random_state=10)\n",
        "\n",
        "print(X3_train.shape)\n",
        "print(X3_test.shape)\n"
      ],
      "metadata": {
        "id": "jsHuJlXNKtW7",
        "outputId": "d5806e8d-f7e8-4dc5-8e1e-f11f205d55b0",
        "colab": {
          "base_uri": "https://localhost:8080/"
        }
      },
      "id": "jsHuJlXNKtW7",
      "execution_count": 30,
      "outputs": [
        {
          "output_type": "stream",
          "name": "stdout",
          "text": [
            "(1008, 2)\n",
            "(432, 2)\n"
          ]
        }
      ]
    },
    {
      "cell_type": "code",
      "source": [
        "import pandas as pd\n",
        "from sklearn.preprocessing import StandardScaler\n",
        "from sklearn.model_selection import train_test_split\n",
        "\n",
        "# Assuming 'df1' contains your dataframe\n",
        "X4 = df4.drop(['DO'], axis='columns')  # input\n",
        "y4 = df4['DO']\n",
        "\n",
        "# Convert X and y to dataframes\n",
        "X4 = pd.DataFrame(X4)\n",
        "y4 = pd.DataFrame(y4)\n",
        "\n",
        "# Scaling the features\n",
        "scaler = StandardScaler()\n",
        "X4_scaled = scaler.fit_transform(X4)\n",
        "\n",
        "# Splitting the data into training and testing sets\n",
        "X4_train, X4_test, y4_train, y4_test = train_test_split(X4_scaled, y4, test_size=0.3, random_state=10)\n",
        "\n",
        "print(X4_train.shape)\n",
        "print(X4_test.shape)\n"
      ],
      "metadata": {
        "id": "bK_1KRR6K86d",
        "outputId": "a8fb18d6-eabd-49d0-b00b-9bfadcd1ecd2",
        "colab": {
          "base_uri": "https://localhost:8080/"
        }
      },
      "id": "bK_1KRR6K86d",
      "execution_count": 31,
      "outputs": [
        {
          "output_type": "stream",
          "name": "stdout",
          "text": [
            "(1344, 2)\n",
            "(576, 2)\n"
          ]
        }
      ]
    },
    {
      "cell_type": "code",
      "source": [
        "import pandas as pd\n",
        "from sklearn.preprocessing import StandardScaler\n",
        "from sklearn.model_selection import train_test_split\n",
        "\n",
        "# Assuming 'df1' contains your dataframe\n",
        "X5 = df5.drop(['DO'], axis='columns')  # input\n",
        "y5 = df5['DO']\n",
        "\n",
        "# Convert X and y to dataframes\n",
        "X5 = pd.DataFrame(X5)\n",
        "y5 = pd.DataFrame(y5)\n",
        "\n",
        "# Scaling the features\n",
        "scaler = StandardScaler()\n",
        "X5_scaled = scaler.fit_transform(X5)\n",
        "\n",
        "# Splitting the data into training and testing sets\n",
        "X5_train, X5_test, y5_train, y5_test = train_test_split(X5_scaled, y5, test_size=0.3, random_state=10)\n",
        "\n",
        "print(X5_train.shape)\n",
        "print(X5_test.shape)\n"
      ],
      "metadata": {
        "id": "xT9hukipLFCL",
        "outputId": "6d52f1e9-6a60-4f4e-8862-d802f0422e6a",
        "colab": {
          "base_uri": "https://localhost:8080/"
        }
      },
      "id": "xT9hukipLFCL",
      "execution_count": 32,
      "outputs": [
        {
          "output_type": "stream",
          "name": "stdout",
          "text": [
            "(1680, 2)\n",
            "(720, 2)\n"
          ]
        }
      ]
    },
    {
      "cell_type": "markdown",
      "source": [
        "# ML1"
      ],
      "metadata": {
        "id": "7Zey-HsO9qnr"
      },
      "id": "7Zey-HsO9qnr"
    },
    {
      "cell_type": "code",
      "source": [
        "from sklearn.ensemble import RandomForestRegressor\n",
        "from xgboost import XGBRegressor\n",
        "from sklearn.model_selection import cross_val_score\n",
        "\n",
        "# Initialize models\n",
        "rf_clf = RandomForestRegressor()\n",
        "xgb_clf = XGBRegressor()\n",
        "\n",
        "# Dictionary to store scores\n",
        "scores = {}\n",
        "\n",
        "# Loop through each train-test split\n",
        "for i in range(1, 6):  # assuming you have 5 train-test splits\n",
        "    # Accessing the arrays directly\n",
        "    X_train = globals()[f\"X{i}_train\"]  # Assuming X1_train, X2_train, X3_train, etc., are already defined\n",
        "    X_test = globals()[f\"X{i}_test\"]\n",
        "    y_train = globals()[f\"y{i}_train\"].values.ravel()\n",
        "    y_test = globals()[f\"y{i}_test\"].values.ravel()\n",
        "\n",
        "    # Fit and evaluate RandomForestRegressor\n",
        "    rf_clf.fit(X_train, y_train)\n",
        "    rf_valscore = cross_val_score(rf_clf, X_train, y_train, cv=5).mean()\n",
        "    rf_score = cross_val_score(rf_clf, X_test, y_test, cv=5).mean()\n",
        "\n",
        "    # Fit and evaluate XGBRegressor\n",
        "    xgb_clf.fit(X_train, y_train)\n",
        "    xgb_valscore = cross_val_score(xgb_clf, X_train, y_train, cv=5).mean()\n",
        "    xgb_score = cross_val_score(xgb_clf, X_test, y_test, cv=5).mean()\n",
        "\n",
        "    # Store scores\n",
        "    scores[f\"RF_split{i}\"] = (rf_valscore, rf_score)\n",
        "    scores[f\"XGB_split{i}\"] = (xgb_valscore, xgb_score)\n",
        "\n",
        "# Print scores\n",
        "for key, value in scores.items():\n",
        "    print(key, \"Validation score:\", value[0], \"Test score:\", value[1])\n"
      ],
      "metadata": {
        "id": "3OtBbKLOA2jt",
        "outputId": "bcbf7288-21ec-4b5a-e1b1-db3d3c392aa4",
        "colab": {
          "base_uri": "https://localhost:8080/"
        }
      },
      "id": "3OtBbKLOA2jt",
      "execution_count": 20,
      "outputs": [
        {
          "output_type": "stream",
          "name": "stdout",
          "text": [
            "RF_split1 Validation score: 0.9624569312304967 Test score: 0.9198631361146535\n",
            "XGB_split1 Validation score: 0.9570577813717567 Test score: 0.9283274732558988\n",
            "RF_split2 Validation score: 0.9688870934325425 Test score: 0.9625462862982512\n",
            "XGB_split2 Validation score: 0.9652628623269802 Test score: 0.9580468996750243\n",
            "RF_split3 Validation score: 0.9727617515171934 Test score: 0.9658736380824212\n",
            "XGB_split3 Validation score: 0.9698500750520674 Test score: 0.9620864907524185\n",
            "RF_split4 Validation score: 0.9736143326819887 Test score: 0.9789277449746333\n",
            "XGB_split4 Validation score: 0.9673398528150461 Test score: 0.9766024301500664\n",
            "RF_split5 Validation score: 0.9783621459118221 Test score: 0.9797966878927168\n",
            "XGB_split5 Validation score: 0.9750067630771305 Test score: 0.9751103646320123\n"
          ]
        }
      ]
    },
    {
      "cell_type": "code",
      "source": [
        "from sklearn.ensemble import StackingRegressor\n",
        "from sklearn.linear_model import LinearRegression\n",
        "from sklearn.model_selection import cross_val_score\n",
        "from sklearn.ensemble import RandomForestRegressor, GradientBoostingRegressor\n",
        "from sklearn.neural_network import MLPRegressor\n",
        "from xgboost import XGBRegressor\n",
        "\n",
        "# Define base estimators\n",
        "base_estimators = [\n",
        "    (\"RandomForestRegressor\", RandomForestRegressor()),\n",
        "    (\"XGBoostRegressor\", XGBRegressor()),\n",
        "    (\"GradientBoostingRegressor\", GradientBoostingRegressor()),\n",
        "    (\"MLPRegressor\", MLPRegressor())\n",
        "]\n",
        "\n",
        "# Initialize StackingRegressor with base estimators and final estimator\n",
        "stacked_model = StackingRegressor(\n",
        "    estimators=base_estimators,\n",
        "    final_estimator=LinearRegression()\n",
        ")\n",
        "\n",
        "# Dictionary to store scores\n",
        "scores = {}\n",
        "\n",
        "# Loop through each train-test split\n",
        "for i in range(1, 6):  # assuming you have 5 train-test splits\n",
        "    # Accessing the arrays directly\n",
        "    X_train = globals()[f\"X{i}_train\"]  # Assuming X1_train, X2_train, X3_train, etc., are already defined\n",
        "    X_test = globals()[f\"X{i}_test\"]\n",
        "    y_train = globals()[f\"y{i}_train\"].values.ravel()\n",
        "    y_test = globals()[f\"y{i}_test\"].values.ravel()\n",
        "\n",
        "\n",
        "    # Perform cross-validation on training data with StackingRegressor\n",
        "    cv_stacked_train = cross_val_score(stacked_model, X_train, y_train, cv=5)\n",
        "    cv_stacked_test = cross_val_score(stacked_model, X_test, y_test, cv=5)\n",
        "\n",
        "    # Store scores\n",
        "    scores[f\"Stacked_split{i}\"] = (cv_stacked_train.mean(), cv_stacked_test.mean())\n",
        "\n",
        "# Print scores\n",
        "for key, value in scores.items():\n",
        "    print(key, \"Validation score:\", value[0], \"Test score:\", value[1])\n"
      ],
      "metadata": {
        "id": "QoRbphGHDe5M",
        "outputId": "18942a28-ba4f-484d-f82c-faed7bfedd72",
        "colab": {
          "base_uri": "https://localhost:8080/"
        }
      },
      "id": "QoRbphGHDe5M",
      "execution_count": 21,
      "outputs": [
        {
          "output_type": "stream",
          "name": "stdout",
          "text": [
            "Stacked_split1 Validation score: 0.9675020319556819 Test score: 0.9330727422689735\n",
            "Stacked_split2 Validation score: 0.9753062776336542 Test score: 0.9627030560126275\n",
            "Stacked_split3 Validation score: 0.9801534934081862 Test score: 0.9696711557512309\n",
            "Stacked_split4 Validation score: 0.9776747631972611 Test score: 0.981027444219864\n",
            "Stacked_split5 Validation score: 0.9805360080957197 Test score: 0.9823886794071383\n"
          ]
        }
      ]
    },
    {
      "cell_type": "code",
      "source": [
        "# Certainly! Here are the scores rounded to three decimal places:\n",
        "\n",
        "# - Stacked_split1 Validation score: 0.967 Test score: 0.936\n",
        "# - Stacked_split2 Validation score: 0.975 Test score: 0.964\n",
        "# - Stacked_split3 Validation score: 0.980 Test score: 0.970\n",
        "# - Stacked_split4 Validation score: 0.978 Test score: 0.981\n",
        "# - Stacked_split5 Validation score: 0.980 Test score: 0.982"
      ],
      "metadata": {
        "id": "gE-waVabFmjb"
      },
      "id": "gE-waVabFmjb",
      "execution_count": null,
      "outputs": []
    },
    {
      "cell_type": "markdown",
      "source": [
        "# DL"
      ],
      "metadata": {
        "id": "grffIkEF9t2L"
      },
      "id": "grffIkEF9t2L"
    },
    {
      "cell_type": "code",
      "source": [
        "import tensorflow\n",
        "from tensorflow import keras\n",
        "from tensorflow.keras import Sequential\n",
        "from tensorflow.keras.layers import Dense\n",
        "model = Sequential()\n",
        "model.add(Dense(256, activation = 'relu',input_dim = X1_train.shape[1]))\n",
        "model.add(Dense(128, activation = 'relu'))\n",
        "model.add(Dense(64, activation = 'relu'))\n",
        "model.add(Dense(32, activation = 'relu'))\n",
        "model.add(Dense(1, activation = 'linear'))\n",
        "model.summary()\n",
        "\n",
        "model.compile(optimizer='Adam', loss='mean_squared_error')\n",
        "history = model.fit(X1_train, y1_train, epochs = 50, batch_size = 10, verbose = 1, validation_split=0.2)\n",
        "y_pred = model.predict(X1_test)\n",
        "from sklearn.metrics import r2_score\n",
        "r2_score(y1_test, y1_pred)"
      ],
      "metadata": {
        "colab": {
          "base_uri": "https://localhost:8080/"
        },
        "id": "_wrxXHwDc0Hx",
        "outputId": "d588bb22-2398-4918-a92f-6aedade713de"
      },
      "id": "_wrxXHwDc0Hx",
      "execution_count": 43,
      "outputs": [
        {
          "output_type": "stream",
          "name": "stdout",
          "text": [
            "Model: \"sequential\"\n",
            "_________________________________________________________________\n",
            " Layer (type)                Output Shape              Param #   \n",
            "=================================================================\n",
            " dense (Dense)               (None, 256)               768       \n",
            "                                                                 \n",
            " dense_1 (Dense)             (None, 128)               32896     \n",
            "                                                                 \n",
            " dense_2 (Dense)             (None, 64)                8256      \n",
            "                                                                 \n",
            " dense_3 (Dense)             (None, 32)                2080      \n",
            "                                                                 \n",
            " dense_4 (Dense)             (None, 1)                 33        \n",
            "                                                                 \n",
            "=================================================================\n",
            "Total params: 44033 (172.00 KB)\n",
            "Trainable params: 44033 (172.00 KB)\n",
            "Non-trainable params: 0 (0.00 Byte)\n",
            "_________________________________________________________________\n"
          ]
        }
      ]
    },
    {
      "cell_type": "code",
      "source": [
        "import tensorflow\n",
        "from tensorflow import keras\n",
        "from tensorflow.keras import Sequential\n",
        "from tensorflow.keras.layers import Dense\n",
        "model = Sequential()\n",
        "model.add(Dense(256, activation = 'relu',input_dim = X2_train.shape[1]))\n",
        "model.add(Dense(128, activation = 'relu'))\n",
        "model.add(Dense(64, activation = 'relu'))\n",
        "model.add(Dense(32, activation = 'relu'))\n",
        "model.add(Dense(1, activation = 'linear'))\n",
        "model.summary()\n",
        "\n",
        "model.compile(optimizer='Adam', loss='mean_squared_error')\n",
        "history = model.fit(X2_train, y2_train, epochs = 50, batch_size = 10, verbose = 1, validation_split=0.2)\n",
        "\n",
        "y2_pred = model.predict(X2_test)\n",
        "from sklearn.metrics import r2_score\n",
        "r2_score(y2_test, y2_pred)"
      ],
      "metadata": {
        "id": "8fe0mM63cz-7",
        "colab": {
          "base_uri": "https://localhost:8080/"
        },
        "outputId": "937f891e-4ef4-4aa9-fc9f-769029afe8fb"
      },
      "id": "8fe0mM63cz-7",
      "execution_count": 24,
      "outputs": [
        {
          "output_type": "stream",
          "name": "stdout",
          "text": [
            "Model: \"sequential_1\"\n",
            "_________________________________________________________________\n",
            " Layer (type)                Output Shape              Param #   \n",
            "=================================================================\n",
            " dense_5 (Dense)             (None, 256)               768       \n",
            "                                                                 \n",
            " dense_6 (Dense)             (None, 128)               32896     \n",
            "                                                                 \n",
            " dense_7 (Dense)             (None, 64)                8256      \n",
            "                                                                 \n",
            " dense_8 (Dense)             (None, 32)                2080      \n",
            "                                                                 \n",
            " dense_9 (Dense)             (None, 1)                 33        \n",
            "                                                                 \n",
            "=================================================================\n",
            "Total params: 44033 (172.00 KB)\n",
            "Trainable params: 44033 (172.00 KB)\n",
            "Non-trainable params: 0 (0.00 Byte)\n",
            "_________________________________________________________________\n",
            "Epoch 1/50\n",
            "54/54 [==============================] - 2s 7ms/step - loss: 11.9853 - val_loss: 2.5485\n",
            "Epoch 2/50\n",
            "54/54 [==============================] - 0s 7ms/step - loss: 1.7066 - val_loss: 0.8792\n",
            "Epoch 3/50\n",
            "54/54 [==============================] - 0s 6ms/step - loss: 0.5421 - val_loss: 0.2139\n",
            "Epoch 4/50\n",
            "54/54 [==============================] - 0s 6ms/step - loss: 0.1381 - val_loss: 0.0504\n",
            "Epoch 5/50\n",
            "54/54 [==============================] - 0s 6ms/step - loss: 0.0530 - val_loss: 0.0469\n",
            "Epoch 6/50\n",
            "54/54 [==============================] - 0s 6ms/step - loss: 0.0387 - val_loss: 0.0193\n",
            "Epoch 7/50\n",
            "54/54 [==============================] - 0s 6ms/step - loss: 0.0316 - val_loss: 0.0228\n",
            "Epoch 8/50\n",
            "54/54 [==============================] - 0s 7ms/step - loss: 0.0294 - val_loss: 0.0152\n",
            "Epoch 9/50\n",
            "54/54 [==============================] - 0s 5ms/step - loss: 0.0282 - val_loss: 0.0153\n",
            "Epoch 10/50\n",
            "54/54 [==============================] - 0s 4ms/step - loss: 0.0289 - val_loss: 0.0134\n",
            "Epoch 11/50\n",
            "54/54 [==============================] - 0s 4ms/step - loss: 0.0260 - val_loss: 0.0143\n",
            "Epoch 12/50\n",
            "54/54 [==============================] - 0s 4ms/step - loss: 0.0321 - val_loss: 0.0129\n",
            "Epoch 13/50\n",
            "54/54 [==============================] - 0s 4ms/step - loss: 0.0289 - val_loss: 0.0132\n",
            "Epoch 14/50\n",
            "54/54 [==============================] - 0s 4ms/step - loss: 0.0287 - val_loss: 0.0133\n",
            "Epoch 15/50\n",
            "54/54 [==============================] - 0s 4ms/step - loss: 0.0252 - val_loss: 0.0149\n",
            "Epoch 16/50\n",
            "54/54 [==============================] - 0s 4ms/step - loss: 0.0250 - val_loss: 0.0174\n",
            "Epoch 17/50\n",
            "54/54 [==============================] - 0s 4ms/step - loss: 0.0262 - val_loss: 0.0137\n",
            "Epoch 18/50\n",
            "54/54 [==============================] - 0s 5ms/step - loss: 0.0243 - val_loss: 0.0133\n",
            "Epoch 19/50\n",
            "54/54 [==============================] - 0s 5ms/step - loss: 0.0227 - val_loss: 0.0141\n",
            "Epoch 20/50\n",
            "54/54 [==============================] - 0s 4ms/step - loss: 0.0265 - val_loss: 0.0238\n",
            "Epoch 21/50\n",
            "54/54 [==============================] - 0s 5ms/step - loss: 0.0250 - val_loss: 0.0142\n",
            "Epoch 22/50\n",
            "54/54 [==============================] - 0s 4ms/step - loss: 0.0257 - val_loss: 0.0178\n",
            "Epoch 23/50\n",
            "54/54 [==============================] - 0s 4ms/step - loss: 0.0303 - val_loss: 0.0167\n",
            "Epoch 24/50\n",
            "54/54 [==============================] - 0s 5ms/step - loss: 0.0253 - val_loss: 0.0124\n",
            "Epoch 25/50\n",
            "54/54 [==============================] - 0s 5ms/step - loss: 0.0260 - val_loss: 0.0267\n",
            "Epoch 26/50\n",
            "54/54 [==============================] - 0s 5ms/step - loss: 0.0281 - val_loss: 0.0124\n",
            "Epoch 27/50\n",
            "54/54 [==============================] - 0s 5ms/step - loss: 0.0240 - val_loss: 0.0149\n",
            "Epoch 28/50\n",
            "54/54 [==============================] - 0s 4ms/step - loss: 0.0279 - val_loss: 0.0164\n",
            "Epoch 29/50\n",
            "54/54 [==============================] - 0s 4ms/step - loss: 0.0273 - val_loss: 0.0139\n",
            "Epoch 30/50\n",
            "54/54 [==============================] - 0s 4ms/step - loss: 0.0257 - val_loss: 0.0214\n",
            "Epoch 31/50\n",
            "54/54 [==============================] - 0s 4ms/step - loss: 0.0289 - val_loss: 0.0135\n",
            "Epoch 32/50\n",
            "54/54 [==============================] - 0s 4ms/step - loss: 0.0285 - val_loss: 0.0130\n",
            "Epoch 33/50\n",
            "54/54 [==============================] - 0s 4ms/step - loss: 0.0238 - val_loss: 0.0120\n",
            "Epoch 34/50\n",
            "54/54 [==============================] - 0s 5ms/step - loss: 0.0287 - val_loss: 0.0182\n",
            "Epoch 35/50\n",
            "54/54 [==============================] - 0s 4ms/step - loss: 0.0292 - val_loss: 0.0120\n",
            "Epoch 36/50\n",
            "54/54 [==============================] - 0s 5ms/step - loss: 0.0337 - val_loss: 0.0164\n",
            "Epoch 37/50\n",
            "54/54 [==============================] - 0s 4ms/step - loss: 0.0277 - val_loss: 0.0125\n",
            "Epoch 38/50\n",
            "54/54 [==============================] - 0s 4ms/step - loss: 0.0265 - val_loss: 0.0119\n",
            "Epoch 39/50\n",
            "54/54 [==============================] - 0s 4ms/step - loss: 0.0236 - val_loss: 0.0119\n",
            "Epoch 40/50\n",
            "54/54 [==============================] - 0s 4ms/step - loss: 0.0246 - val_loss: 0.0130\n",
            "Epoch 41/50\n",
            "54/54 [==============================] - 0s 4ms/step - loss: 0.0242 - val_loss: 0.0171\n",
            "Epoch 42/50\n",
            "54/54 [==============================] - 0s 4ms/step - loss: 0.0277 - val_loss: 0.0117\n",
            "Epoch 43/50\n",
            "54/54 [==============================] - 0s 5ms/step - loss: 0.0256 - val_loss: 0.0212\n",
            "Epoch 44/50\n",
            "54/54 [==============================] - 0s 4ms/step - loss: 0.0302 - val_loss: 0.0135\n",
            "Epoch 45/50\n",
            "54/54 [==============================] - 0s 5ms/step - loss: 0.0224 - val_loss: 0.0131\n",
            "Epoch 46/50\n",
            "54/54 [==============================] - 0s 5ms/step - loss: 0.0266 - val_loss: 0.0143\n",
            "Epoch 47/50\n",
            "54/54 [==============================] - 0s 4ms/step - loss: 0.0280 - val_loss: 0.0282\n",
            "Epoch 48/50\n",
            "54/54 [==============================] - 0s 5ms/step - loss: 0.0346 - val_loss: 0.0141\n",
            "Epoch 49/50\n",
            "54/54 [==============================] - 0s 4ms/step - loss: 0.0283 - val_loss: 0.0144\n",
            "Epoch 50/50\n",
            "54/54 [==============================] - 0s 4ms/step - loss: 0.0279 - val_loss: 0.0140\n",
            "9/9 [==============================] - 0s 2ms/step\n"
          ]
        },
        {
          "output_type": "execute_result",
          "data": {
            "text/plain": [
              "0.9783034069084795"
            ]
          },
          "metadata": {},
          "execution_count": 24
        }
      ]
    },
    {
      "cell_type": "code",
      "source": [
        "import tensorflow\n",
        "from tensorflow import keras\n",
        "from tensorflow.keras import Sequential\n",
        "from tensorflow.keras.layers import Dense\n",
        "\n",
        "model = Sequential()\n",
        "model.add(Dense(256, activation='relu', input_dim=X3_train.shape[1]))\n",
        "model.add(Dense(128, activation='relu'))\n",
        "model.add(Dense(64, activation='relu'))\n",
        "model.add(Dense(32, activation='relu'))\n",
        "model.add(Dense(1, activation='linear'))\n",
        "model.summary()\n",
        "\n",
        "model.compile(optimizer='Adam', loss='mean_squared_error')\n",
        "history = model.fit(X3_train, y3_train, epochs=50, batch_size=10, verbose=1, validation_split=0.2)\n",
        "\n",
        "y3_pred = model.predict(X3_test)\n",
        "from sklearn.metrics import r2_score\n",
        "r2_score(y3_test, y3_pred)\n"
      ],
      "metadata": {
        "id": "iY_UmkvlPsxD",
        "outputId": "7d4a56e0-4048-48cc-e755-6bdad8bd1a58",
        "colab": {
          "base_uri": "https://localhost:8080/"
        }
      },
      "id": "iY_UmkvlPsxD",
      "execution_count": 25,
      "outputs": [
        {
          "output_type": "stream",
          "name": "stdout",
          "text": [
            "Model: \"sequential_2\"\n",
            "_________________________________________________________________\n",
            " Layer (type)                Output Shape              Param #   \n",
            "=================================================================\n",
            " dense_10 (Dense)            (None, 256)               768       \n",
            "                                                                 \n",
            " dense_11 (Dense)            (None, 128)               32896     \n",
            "                                                                 \n",
            " dense_12 (Dense)            (None, 64)                8256      \n",
            "                                                                 \n",
            " dense_13 (Dense)            (None, 32)                2080      \n",
            "                                                                 \n",
            " dense_14 (Dense)            (None, 1)                 33        \n",
            "                                                                 \n",
            "=================================================================\n",
            "Total params: 44033 (172.00 KB)\n",
            "Trainable params: 44033 (172.00 KB)\n",
            "Non-trainable params: 0 (0.00 Byte)\n",
            "_________________________________________________________________\n",
            "Epoch 1/50\n",
            "81/81 [==============================] - 2s 5ms/step - loss: 8.8163 - val_loss: 2.2396\n",
            "Epoch 2/50\n",
            "81/81 [==============================] - 0s 4ms/step - loss: 0.7856 - val_loss: 0.2532\n",
            "Epoch 3/50\n",
            "81/81 [==============================] - 0s 4ms/step - loss: 0.1327 - val_loss: 0.0376\n",
            "Epoch 4/50\n",
            "81/81 [==============================] - 0s 4ms/step - loss: 0.0337 - val_loss: 0.0256\n",
            "Epoch 5/50\n",
            "81/81 [==============================] - 0s 4ms/step - loss: 0.0255 - val_loss: 0.0220\n",
            "Epoch 6/50\n",
            "81/81 [==============================] - 0s 4ms/step - loss: 0.0247 - val_loss: 0.0228\n",
            "Epoch 7/50\n",
            "81/81 [==============================] - 0s 4ms/step - loss: 0.0226 - val_loss: 0.0254\n",
            "Epoch 8/50\n",
            "81/81 [==============================] - 0s 4ms/step - loss: 0.0224 - val_loss: 0.0252\n",
            "Epoch 9/50\n",
            "81/81 [==============================] - 0s 4ms/step - loss: 0.0207 - val_loss: 0.0233\n",
            "Epoch 10/50\n",
            "81/81 [==============================] - 0s 6ms/step - loss: 0.0208 - val_loss: 0.0252\n",
            "Epoch 11/50\n",
            "81/81 [==============================] - 0s 6ms/step - loss: 0.0238 - val_loss: 0.0313\n",
            "Epoch 12/50\n",
            "81/81 [==============================] - 0s 6ms/step - loss: 0.0213 - val_loss: 0.0196\n",
            "Epoch 13/50\n",
            "81/81 [==============================] - 0s 6ms/step - loss: 0.0267 - val_loss: 0.0224\n",
            "Epoch 14/50\n",
            "81/81 [==============================] - 0s 6ms/step - loss: 0.0229 - val_loss: 0.0199\n",
            "Epoch 15/50\n",
            "81/81 [==============================] - 0s 6ms/step - loss: 0.0210 - val_loss: 0.0205\n",
            "Epoch 16/50\n",
            "81/81 [==============================] - 0s 5ms/step - loss: 0.0206 - val_loss: 0.0190\n",
            "Epoch 17/50\n",
            "81/81 [==============================] - 0s 4ms/step - loss: 0.0202 - val_loss: 0.0235\n",
            "Epoch 18/50\n",
            "81/81 [==============================] - 0s 4ms/step - loss: 0.0211 - val_loss: 0.0289\n",
            "Epoch 19/50\n",
            "81/81 [==============================] - 0s 4ms/step - loss: 0.0262 - val_loss: 0.0184\n",
            "Epoch 20/50\n",
            "81/81 [==============================] - 0s 4ms/step - loss: 0.0206 - val_loss: 0.0223\n",
            "Epoch 21/50\n",
            "81/81 [==============================] - 0s 4ms/step - loss: 0.0233 - val_loss: 0.0189\n",
            "Epoch 22/50\n",
            "81/81 [==============================] - 0s 4ms/step - loss: 0.0228 - val_loss: 0.0415\n",
            "Epoch 23/50\n",
            "81/81 [==============================] - 0s 4ms/step - loss: 0.0240 - val_loss: 0.0178\n",
            "Epoch 24/50\n",
            "81/81 [==============================] - 0s 4ms/step - loss: 0.0212 - val_loss: 0.0271\n",
            "Epoch 25/50\n",
            "81/81 [==============================] - 0s 4ms/step - loss: 0.0237 - val_loss: 0.0257\n",
            "Epoch 26/50\n",
            "81/81 [==============================] - 0s 4ms/step - loss: 0.0208 - val_loss: 0.0221\n",
            "Epoch 27/50\n",
            "81/81 [==============================] - 0s 4ms/step - loss: 0.0205 - val_loss: 0.0241\n",
            "Epoch 28/50\n",
            "81/81 [==============================] - 0s 4ms/step - loss: 0.0222 - val_loss: 0.0337\n",
            "Epoch 29/50\n",
            "81/81 [==============================] - 0s 4ms/step - loss: 0.0302 - val_loss: 0.0181\n",
            "Epoch 30/50\n",
            "81/81 [==============================] - 0s 4ms/step - loss: 0.0191 - val_loss: 0.0272\n",
            "Epoch 31/50\n",
            "81/81 [==============================] - 0s 4ms/step - loss: 0.0259 - val_loss: 0.0339\n",
            "Epoch 32/50\n",
            "81/81 [==============================] - 0s 4ms/step - loss: 0.0215 - val_loss: 0.0229\n",
            "Epoch 33/50\n",
            "81/81 [==============================] - 0s 5ms/step - loss: 0.0219 - val_loss: 0.0259\n",
            "Epoch 34/50\n",
            "81/81 [==============================] - 1s 8ms/step - loss: 0.0228 - val_loss: 0.0239\n",
            "Epoch 35/50\n",
            "81/81 [==============================] - 1s 8ms/step - loss: 0.0240 - val_loss: 0.0197\n",
            "Epoch 36/50\n",
            "81/81 [==============================] - 0s 5ms/step - loss: 0.0244 - val_loss: 0.0186\n",
            "Epoch 37/50\n",
            "81/81 [==============================] - 1s 8ms/step - loss: 0.0202 - val_loss: 0.0188\n",
            "Epoch 38/50\n",
            "81/81 [==============================] - 1s 7ms/step - loss: 0.0233 - val_loss: 0.0219\n",
            "Epoch 39/50\n",
            "81/81 [==============================] - 1s 7ms/step - loss: 0.0292 - val_loss: 0.0191\n",
            "Epoch 40/50\n",
            "81/81 [==============================] - 1s 6ms/step - loss: 0.0208 - val_loss: 0.0198\n",
            "Epoch 41/50\n",
            "81/81 [==============================] - 1s 9ms/step - loss: 0.0211 - val_loss: 0.0201\n",
            "Epoch 42/50\n",
            "81/81 [==============================] - 1s 8ms/step - loss: 0.0234 - val_loss: 0.0225\n",
            "Epoch 43/50\n",
            "81/81 [==============================] - 1s 9ms/step - loss: 0.0208 - val_loss: 0.0198\n",
            "Epoch 44/50\n",
            "81/81 [==============================] - 1s 8ms/step - loss: 0.0252 - val_loss: 0.0221\n",
            "Epoch 45/50\n",
            "81/81 [==============================] - 0s 6ms/step - loss: 0.0292 - val_loss: 0.0184\n",
            "Epoch 46/50\n",
            "81/81 [==============================] - 0s 6ms/step - loss: 0.0246 - val_loss: 0.0195\n",
            "Epoch 47/50\n",
            "81/81 [==============================] - 0s 4ms/step - loss: 0.0220 - val_loss: 0.0237\n",
            "Epoch 48/50\n",
            "81/81 [==============================] - 0s 4ms/step - loss: 0.0245 - val_loss: 0.0335\n",
            "Epoch 49/50\n",
            "81/81 [==============================] - 0s 4ms/step - loss: 0.0211 - val_loss: 0.0217\n",
            "Epoch 50/50\n",
            "81/81 [==============================] - 0s 4ms/step - loss: 0.0222 - val_loss: 0.0217\n",
            "14/14 [==============================] - 0s 2ms/step\n"
          ]
        },
        {
          "output_type": "execute_result",
          "data": {
            "text/plain": [
              "0.9768150464959832"
            ]
          },
          "metadata": {},
          "execution_count": 25
        }
      ]
    },
    {
      "cell_type": "code",
      "source": [
        "import tensorflow\n",
        "from tensorflow import keras\n",
        "from tensorflow.keras import Sequential\n",
        "from tensorflow.keras.layers import Dense\n",
        "\n",
        "model = Sequential()\n",
        "model.add(Dense(256, activation='relu', input_dim=X4_train.shape[1]))\n",
        "model.add(Dense(128, activation='relu'))\n",
        "model.add(Dense(64, activation='relu'))\n",
        "model.add(Dense(32, activation='relu'))\n",
        "model.add(Dense(1, activation='linear'))\n",
        "model.summary()\n",
        "\n",
        "model.compile(optimizer='Adam', loss='mean_squared_error')\n",
        "history = model.fit(X4_train, y4_train, epochs=50, batch_size=10, verbose=1, validation_split=0.2)\n",
        "\n",
        "y4_pred = model.predict(X4_test)\n",
        "from sklearn.metrics import r2_score\n",
        "r2_score(y4_test, y4_pred)\n"
      ],
      "metadata": {
        "id": "PYv-fztoQD4C",
        "outputId": "b18ef77f-31e9-4925-c41d-9952b101eeed",
        "colab": {
          "base_uri": "https://localhost:8080/"
        }
      },
      "id": "PYv-fztoQD4C",
      "execution_count": 26,
      "outputs": [
        {
          "output_type": "stream",
          "name": "stdout",
          "text": [
            "Model: \"sequential_3\"\n",
            "_________________________________________________________________\n",
            " Layer (type)                Output Shape              Param #   \n",
            "=================================================================\n",
            " dense_15 (Dense)            (None, 256)               768       \n",
            "                                                                 \n",
            " dense_16 (Dense)            (None, 128)               32896     \n",
            "                                                                 \n",
            " dense_17 (Dense)            (None, 64)                8256      \n",
            "                                                                 \n",
            " dense_18 (Dense)            (None, 32)                2080      \n",
            "                                                                 \n",
            " dense_19 (Dense)            (None, 1)                 33        \n",
            "                                                                 \n",
            "=================================================================\n",
            "Total params: 44033 (172.00 KB)\n",
            "Trainable params: 44033 (172.00 KB)\n",
            "Non-trainable params: 0 (0.00 Byte)\n",
            "_________________________________________________________________\n",
            "Epoch 1/50\n",
            "108/108 [==============================] - 2s 8ms/step - loss: 5.6184 - val_loss: 0.6722\n",
            "Epoch 2/50\n",
            "108/108 [==============================] - 1s 6ms/step - loss: 0.1995 - val_loss: 0.0449\n",
            "Epoch 3/50\n",
            "108/108 [==============================] - 1s 5ms/step - loss: 0.0345 - val_loss: 0.0354\n",
            "Epoch 4/50\n",
            "108/108 [==============================] - 0s 4ms/step - loss: 0.0335 - val_loss: 0.0352\n",
            "Epoch 5/50\n",
            "108/108 [==============================] - 0s 4ms/step - loss: 0.0339 - val_loss: 0.0287\n",
            "Epoch 6/50\n",
            "108/108 [==============================] - 0s 4ms/step - loss: 0.0277 - val_loss: 0.0311\n",
            "Epoch 7/50\n",
            "108/108 [==============================] - 0s 4ms/step - loss: 0.0280 - val_loss: 0.0338\n",
            "Epoch 8/50\n",
            "108/108 [==============================] - 0s 4ms/step - loss: 0.0293 - val_loss: 0.0343\n",
            "Epoch 9/50\n",
            "108/108 [==============================] - 0s 4ms/step - loss: 0.0308 - val_loss: 0.0340\n",
            "Epoch 10/50\n",
            "108/108 [==============================] - 0s 4ms/step - loss: 0.0326 - val_loss: 0.0288\n",
            "Epoch 11/50\n",
            "108/108 [==============================] - 0s 4ms/step - loss: 0.0322 - val_loss: 0.0412\n",
            "Epoch 12/50\n",
            "108/108 [==============================] - 0s 4ms/step - loss: 0.0287 - val_loss: 0.0335\n",
            "Epoch 13/50\n",
            "108/108 [==============================] - 0s 4ms/step - loss: 0.0291 - val_loss: 0.0350\n",
            "Epoch 14/50\n",
            "108/108 [==============================] - 0s 4ms/step - loss: 0.0281 - val_loss: 0.0257\n",
            "Epoch 15/50\n",
            "108/108 [==============================] - 0s 4ms/step - loss: 0.0365 - val_loss: 0.0291\n",
            "Epoch 16/50\n",
            "108/108 [==============================] - 0s 4ms/step - loss: 0.0321 - val_loss: 0.0339\n",
            "Epoch 17/50\n",
            "108/108 [==============================] - 0s 4ms/step - loss: 0.0306 - val_loss: 0.0269\n",
            "Epoch 18/50\n",
            "108/108 [==============================] - 0s 4ms/step - loss: 0.0265 - val_loss: 0.0309\n",
            "Epoch 19/50\n",
            "108/108 [==============================] - 0s 4ms/step - loss: 0.0302 - val_loss: 0.0349\n",
            "Epoch 20/50\n",
            "108/108 [==============================] - 0s 4ms/step - loss: 0.0298 - val_loss: 0.0404\n",
            "Epoch 21/50\n",
            "108/108 [==============================] - 0s 4ms/step - loss: 0.0353 - val_loss: 0.0365\n",
            "Epoch 22/50\n",
            "108/108 [==============================] - 0s 4ms/step - loss: 0.0344 - val_loss: 0.0258\n",
            "Epoch 23/50\n",
            "108/108 [==============================] - 0s 4ms/step - loss: 0.0264 - val_loss: 0.0272\n",
            "Epoch 24/50\n",
            "108/108 [==============================] - 0s 4ms/step - loss: 0.0290 - val_loss: 0.0279\n",
            "Epoch 25/50\n",
            "108/108 [==============================] - 0s 4ms/step - loss: 0.0305 - val_loss: 0.0258\n",
            "Epoch 26/50\n",
            "108/108 [==============================] - 1s 5ms/step - loss: 0.0270 - val_loss: 0.0279\n",
            "Epoch 27/50\n",
            "108/108 [==============================] - 1s 6ms/step - loss: 0.0268 - val_loss: 0.0317\n",
            "Epoch 28/50\n",
            "108/108 [==============================] - 1s 6ms/step - loss: 0.0304 - val_loss: 0.0280\n",
            "Epoch 29/50\n",
            "108/108 [==============================] - 1s 6ms/step - loss: 0.0317 - val_loss: 0.0304\n",
            "Epoch 30/50\n",
            "108/108 [==============================] - 1s 7ms/step - loss: 0.0342 - val_loss: 0.0692\n",
            "Epoch 31/50\n",
            "108/108 [==============================] - 0s 4ms/step - loss: 0.0379 - val_loss: 0.0416\n",
            "Epoch 32/50\n",
            "108/108 [==============================] - 0s 4ms/step - loss: 0.0290 - val_loss: 0.0442\n",
            "Epoch 33/50\n",
            "108/108 [==============================] - 0s 4ms/step - loss: 0.0344 - val_loss: 0.0302\n",
            "Epoch 34/50\n",
            "108/108 [==============================] - 0s 4ms/step - loss: 0.0333 - val_loss: 0.0457\n",
            "Epoch 35/50\n",
            "108/108 [==============================] - 1s 5ms/step - loss: 0.0331 - val_loss: 0.0256\n",
            "Epoch 36/50\n",
            "108/108 [==============================] - 1s 7ms/step - loss: 0.0408 - val_loss: 0.0287\n",
            "Epoch 37/50\n",
            "108/108 [==============================] - 1s 7ms/step - loss: 0.0275 - val_loss: 0.0267\n",
            "Epoch 38/50\n",
            "108/108 [==============================] - 1s 7ms/step - loss: 0.0305 - val_loss: 0.0299\n",
            "Epoch 39/50\n",
            "108/108 [==============================] - 1s 7ms/step - loss: 0.0268 - val_loss: 0.0303\n",
            "Epoch 40/50\n",
            "108/108 [==============================] - 1s 7ms/step - loss: 0.0259 - val_loss: 0.0261\n",
            "Epoch 41/50\n",
            "108/108 [==============================] - 0s 5ms/step - loss: 0.0333 - val_loss: 0.0267\n",
            "Epoch 42/50\n",
            "108/108 [==============================] - 0s 4ms/step - loss: 0.0294 - val_loss: 0.0378\n",
            "Epoch 43/50\n",
            "108/108 [==============================] - 0s 4ms/step - loss: 0.0283 - val_loss: 0.0423\n",
            "Epoch 44/50\n",
            "108/108 [==============================] - 0s 4ms/step - loss: 0.0286 - val_loss: 0.0331\n",
            "Epoch 45/50\n",
            "108/108 [==============================] - 0s 4ms/step - loss: 0.0311 - val_loss: 0.0390\n",
            "Epoch 46/50\n",
            "108/108 [==============================] - 0s 4ms/step - loss: 0.0324 - val_loss: 0.0282\n",
            "Epoch 47/50\n",
            "108/108 [==============================] - 0s 4ms/step - loss: 0.0300 - val_loss: 0.0326\n",
            "Epoch 48/50\n",
            "108/108 [==============================] - 0s 4ms/step - loss: 0.0285 - val_loss: 0.0353\n",
            "Epoch 49/50\n",
            "108/108 [==============================] - 1s 5ms/step - loss: 0.0293 - val_loss: 0.0255\n",
            "Epoch 50/50\n",
            "108/108 [==============================] - 1s 6ms/step - loss: 0.0299 - val_loss: 0.0525\n",
            "18/18 [==============================] - 0s 2ms/step\n"
          ]
        },
        {
          "output_type": "execute_result",
          "data": {
            "text/plain": [
              "0.9667668055146504"
            ]
          },
          "metadata": {},
          "execution_count": 26
        }
      ]
    },
    {
      "cell_type": "code",
      "source": [
        "import tensorflow\n",
        "from tensorflow import keras\n",
        "from tensorflow.keras import Sequential\n",
        "from tensorflow.keras.layers import Dense\n",
        "\n",
        "model = Sequential()\n",
        "model.add(Dense(256, activation='relu', input_dim=X5_train.shape[1]))\n",
        "model.add(Dense(128, activation='relu'))\n",
        "model.add(Dense(64, activation='relu'))\n",
        "model.add(Dense(32, activation='relu'))\n",
        "model.add(Dense(1, activation='linear'))\n",
        "model.summary()\n",
        "\n",
        "model.compile(optimizer='Adam', loss='mean_squared_error')\n",
        "history = model.fit(X5_train, y5_train, epochs=50, batch_size=10, verbose=1, validation_split=0.2)\n",
        "\n",
        "y5_pred = model.predict(X5_test)\n",
        "from sklearn.metrics import r2_score\n",
        "r2_score(y5_test, y5_pred)\n"
      ],
      "metadata": {
        "id": "fycTIJDIQD1L",
        "outputId": "43789736-3bc9-41e0-b9fc-966a34912f91",
        "colab": {
          "base_uri": "https://localhost:8080/"
        }
      },
      "id": "fycTIJDIQD1L",
      "execution_count": 27,
      "outputs": [
        {
          "output_type": "stream",
          "name": "stdout",
          "text": [
            "Model: \"sequential_4\"\n",
            "_________________________________________________________________\n",
            " Layer (type)                Output Shape              Param #   \n",
            "=================================================================\n",
            " dense_20 (Dense)            (None, 256)               768       \n",
            "                                                                 \n",
            " dense_21 (Dense)            (None, 128)               32896     \n",
            "                                                                 \n",
            " dense_22 (Dense)            (None, 64)                8256      \n",
            "                                                                 \n",
            " dense_23 (Dense)            (None, 32)                2080      \n",
            "                                                                 \n",
            " dense_24 (Dense)            (None, 1)                 33        \n",
            "                                                                 \n",
            "=================================================================\n",
            "Total params: 44033 (172.00 KB)\n",
            "Trainable params: 44033 (172.00 KB)\n",
            "Non-trainable params: 0 (0.00 Byte)\n",
            "_________________________________________________________________\n",
            "Epoch 1/50\n",
            "135/135 [==============================] - 2s 5ms/step - loss: 5.1909 - val_loss: 0.4594\n",
            "Epoch 2/50\n",
            "135/135 [==============================] - 1s 4ms/step - loss: 0.1262 - val_loss: 0.0502\n",
            "Epoch 3/50\n",
            "135/135 [==============================] - 1s 4ms/step - loss: 0.0316 - val_loss: 0.0386\n",
            "Epoch 4/50\n",
            "135/135 [==============================] - 1s 4ms/step - loss: 0.0286 - val_loss: 0.0383\n",
            "Epoch 5/50\n",
            "135/135 [==============================] - 1s 4ms/step - loss: 0.0268 - val_loss: 0.0392\n",
            "Epoch 6/50\n",
            "135/135 [==============================] - 1s 4ms/step - loss: 0.0268 - val_loss: 0.0382\n",
            "Epoch 7/50\n",
            "135/135 [==============================] - 1s 4ms/step - loss: 0.0253 - val_loss: 0.0361\n",
            "Epoch 8/50\n",
            "135/135 [==============================] - 1s 4ms/step - loss: 0.0257 - val_loss: 0.0340\n",
            "Epoch 9/50\n",
            "135/135 [==============================] - 1s 4ms/step - loss: 0.0292 - val_loss: 0.0338\n",
            "Epoch 10/50\n",
            "135/135 [==============================] - 1s 4ms/step - loss: 0.0317 - val_loss: 0.0515\n",
            "Epoch 11/50\n",
            "135/135 [==============================] - 1s 4ms/step - loss: 0.0282 - val_loss: 0.0370\n",
            "Epoch 12/50\n",
            "135/135 [==============================] - 1s 4ms/step - loss: 0.0297 - val_loss: 0.0398\n",
            "Epoch 13/50\n",
            "135/135 [==============================] - 1s 4ms/step - loss: 0.0285 - val_loss: 0.0322\n",
            "Epoch 14/50\n",
            "135/135 [==============================] - 1s 4ms/step - loss: 0.0285 - val_loss: 0.0364\n",
            "Epoch 15/50\n",
            "135/135 [==============================] - 1s 4ms/step - loss: 0.0282 - val_loss: 0.0440\n",
            "Epoch 16/50\n",
            "135/135 [==============================] - 1s 4ms/step - loss: 0.0296 - val_loss: 0.0320\n",
            "Epoch 17/50\n",
            "135/135 [==============================] - 1s 6ms/step - loss: 0.0297 - val_loss: 0.0369\n",
            "Epoch 18/50\n",
            "135/135 [==============================] - 1s 5ms/step - loss: 0.0279 - val_loss: 0.0702\n",
            "Epoch 19/50\n",
            "135/135 [==============================] - 1s 6ms/step - loss: 0.0298 - val_loss: 0.0363\n",
            "Epoch 20/50\n",
            "135/135 [==============================] - 1s 5ms/step - loss: 0.0301 - val_loss: 0.0325\n",
            "Epoch 21/50\n",
            "135/135 [==============================] - 1s 4ms/step - loss: 0.0263 - val_loss: 0.0327\n",
            "Epoch 22/50\n",
            "135/135 [==============================] - 1s 5ms/step - loss: 0.0272 - val_loss: 0.0362\n",
            "Epoch 23/50\n",
            "135/135 [==============================] - 1s 7ms/step - loss: 0.0305 - val_loss: 0.0343\n",
            "Epoch 24/50\n",
            "135/135 [==============================] - 1s 5ms/step - loss: 0.0326 - val_loss: 0.0439\n",
            "Epoch 25/50\n",
            "135/135 [==============================] - 1s 7ms/step - loss: 0.0295 - val_loss: 0.0431\n",
            "Epoch 26/50\n",
            "135/135 [==============================] - 1s 8ms/step - loss: 0.0270 - val_loss: 0.0339\n",
            "Epoch 27/50\n",
            "135/135 [==============================] - 1s 8ms/step - loss: 0.0306 - val_loss: 0.0375\n",
            "Epoch 28/50\n",
            "135/135 [==============================] - 1s 7ms/step - loss: 0.0332 - val_loss: 0.0560\n",
            "Epoch 29/50\n",
            "135/135 [==============================] - 1s 6ms/step - loss: 0.0304 - val_loss: 0.0624\n",
            "Epoch 30/50\n",
            "135/135 [==============================] - 1s 6ms/step - loss: 0.0305 - val_loss: 0.0309\n",
            "Epoch 31/50\n",
            "135/135 [==============================] - 1s 5ms/step - loss: 0.0285 - val_loss: 0.0334\n",
            "Epoch 32/50\n",
            "135/135 [==============================] - 1s 5ms/step - loss: 0.0319 - val_loss: 0.0312\n",
            "Epoch 33/50\n",
            "135/135 [==============================] - 1s 7ms/step - loss: 0.0270 - val_loss: 0.0349\n",
            "Epoch 34/50\n",
            "135/135 [==============================] - 1s 7ms/step - loss: 0.0261 - val_loss: 0.0465\n",
            "Epoch 35/50\n",
            "135/135 [==============================] - 1s 9ms/step - loss: 0.0252 - val_loss: 0.0332\n",
            "Epoch 36/50\n",
            "135/135 [==============================] - 1s 7ms/step - loss: 0.0320 - val_loss: 0.0484\n",
            "Epoch 37/50\n",
            "135/135 [==============================] - 1s 6ms/step - loss: 0.0394 - val_loss: 0.0385\n",
            "Epoch 38/50\n",
            "135/135 [==============================] - 1s 7ms/step - loss: 0.0306 - val_loss: 0.0347\n",
            "Epoch 39/50\n",
            "135/135 [==============================] - 1s 6ms/step - loss: 0.0289 - val_loss: 0.0380\n",
            "Epoch 40/50\n",
            "135/135 [==============================] - 1s 4ms/step - loss: 0.0247 - val_loss: 0.0381\n",
            "Epoch 41/50\n",
            "135/135 [==============================] - 1s 4ms/step - loss: 0.0279 - val_loss: 0.0345\n",
            "Epoch 42/50\n",
            "135/135 [==============================] - 1s 4ms/step - loss: 0.0297 - val_loss: 0.0328\n",
            "Epoch 43/50\n",
            "135/135 [==============================] - 1s 4ms/step - loss: 0.0251 - val_loss: 0.0478\n",
            "Epoch 44/50\n",
            "135/135 [==============================] - 1s 4ms/step - loss: 0.0286 - val_loss: 0.0536\n",
            "Epoch 45/50\n",
            "135/135 [==============================] - 1s 4ms/step - loss: 0.0279 - val_loss: 0.0976\n",
            "Epoch 46/50\n",
            "135/135 [==============================] - 1s 4ms/step - loss: 0.0296 - val_loss: 0.0348\n",
            "Epoch 47/50\n",
            "135/135 [==============================] - 1s 4ms/step - loss: 0.0267 - val_loss: 0.0350\n",
            "Epoch 48/50\n",
            "135/135 [==============================] - 1s 4ms/step - loss: 0.0278 - val_loss: 0.0318\n",
            "Epoch 49/50\n",
            "135/135 [==============================] - 1s 4ms/step - loss: 0.0295 - val_loss: 0.0320\n",
            "Epoch 50/50\n",
            "135/135 [==============================] - 1s 4ms/step - loss: 0.0276 - val_loss: 0.0409\n",
            "23/23 [==============================] - 0s 2ms/step\n"
          ]
        },
        {
          "output_type": "execute_result",
          "data": {
            "text/plain": [
              "0.9778708943187254"
            ]
          },
          "metadata": {},
          "execution_count": 27
        }
      ]
    },
    {
      "cell_type": "code",
      "source": [],
      "metadata": {
        "id": "YMcXuguYQbZ7"
      },
      "id": "YMcXuguYQbZ7",
      "execution_count": null,
      "outputs": []
    },
    {
      "cell_type": "markdown",
      "source": [
        "# With only COD"
      ],
      "metadata": {
        "id": "NUHUp04fQb07"
      },
      "id": "NUHUp04fQb07"
    },
    {
      "cell_type": "code",
      "source": [
        "import pandas as pd\n",
        "from sklearn.preprocessing import StandardScaler\n",
        "from sklearn.model_selection import train_test_split\n",
        "\n",
        "# Assuming 'df1' contains your dataframe\n",
        "X1 = df1.drop(['DO','Temp'], axis='columns')  # input\n",
        "y1 = df1['DO']\n",
        "\n",
        "# Convert X and y to dataframes\n",
        "X1 = pd.DataFrame(X1)\n",
        "y1 = pd.DataFrame(y1)\n",
        "\n",
        "# Scaling the features\n",
        "scaler = StandardScaler()\n",
        "X1_scaled = scaler.fit_transform(X1)\n",
        "\n",
        "# Splitting the data into training and testing sets\n",
        "X1_train, X1_test, y1_train, y1_test = train_test_split(X1_scaled, y1, test_size=0.3, random_state=10)\n",
        "\n",
        "print(X1_train.shape)\n",
        "print(X1_test.shape)\n"
      ],
      "metadata": {
        "colab": {
          "base_uri": "https://localhost:8080/"
        },
        "id": "V9TiqO3idKn3",
        "outputId": "af545ebd-4a5b-43e6-db81-fbb32a658d89"
      },
      "id": "V9TiqO3idKn3",
      "execution_count": 33,
      "outputs": [
        {
          "output_type": "stream",
          "name": "stdout",
          "text": [
            "(336, 1)\n",
            "(144, 1)\n"
          ]
        }
      ]
    },
    {
      "cell_type": "code",
      "source": [
        "import pandas as pd\n",
        "from sklearn.preprocessing import StandardScaler\n",
        "from sklearn.model_selection import train_test_split\n",
        "\n",
        "# Assuming 'df1' contains your dataframe\n",
        "X2 = df2.drop(['DO','Temp'], axis='columns')  # input\n",
        "y2 = df2['DO']\n",
        "\n",
        "# Convert X and y to dataframes\n",
        "X2 = pd.DataFrame(X2)\n",
        "y2 = pd.DataFrame(y2)\n",
        "\n",
        "# Scaling the features\n",
        "scaler = StandardScaler()\n",
        "X2_scaled = scaler.fit_transform(X2)\n",
        "\n",
        "# Splitting the data into training and testing sets\n",
        "X2_train, X2_test, y2_train, y2_test = train_test_split(X2_scaled, y2, test_size=0.3, random_state=10)\n",
        "\n",
        "print(X2_train.shape)\n",
        "print(X2_test.shape)\n"
      ],
      "metadata": {
        "id": "gVFR6nO_RWdd",
        "outputId": "32235b00-2cce-4e75-d7aa-bbd28e0bb048",
        "colab": {
          "base_uri": "https://localhost:8080/"
        }
      },
      "id": "gVFR6nO_RWdd",
      "execution_count": 34,
      "outputs": [
        {
          "output_type": "stream",
          "name": "stdout",
          "text": [
            "(672, 1)\n",
            "(288, 1)\n"
          ]
        }
      ]
    },
    {
      "cell_type": "code",
      "source": [
        "import pandas as pd\n",
        "from sklearn.preprocessing import StandardScaler\n",
        "from sklearn.model_selection import train_test_split\n",
        "\n",
        "# Assuming 'df1' contains your dataframe\n",
        "X3 = df3.drop(['DO','Temp'], axis='columns')  # input\n",
        "y3 = df3['DO']\n",
        "\n",
        "# Convert X and y to dataframes\n",
        "X3 = pd.DataFrame(X3)\n",
        "y3 = pd.DataFrame(y3)\n",
        "\n",
        "# Scaling the features\n",
        "scaler = StandardScaler()\n",
        "X3_scaled = scaler.fit_transform(X3)\n",
        "\n",
        "# Splitting the data into training and testing sets\n",
        "X3_train, X3_test, y3_train, y3_test = train_test_split(X3_scaled, y3, test_size=0.3, random_state=10)\n",
        "\n",
        "print(X3_train.shape)\n",
        "print(X3_test.shape)\n"
      ],
      "metadata": {
        "id": "mZ_UIP5xRWaq",
        "outputId": "b24ae487-8a71-4a8e-bc2e-6eb290e2b32c",
        "colab": {
          "base_uri": "https://localhost:8080/"
        }
      },
      "id": "mZ_UIP5xRWaq",
      "execution_count": 35,
      "outputs": [
        {
          "output_type": "stream",
          "name": "stdout",
          "text": [
            "(1008, 1)\n",
            "(432, 1)\n"
          ]
        }
      ]
    },
    {
      "cell_type": "code",
      "source": [
        "import pandas as pd\n",
        "from sklearn.preprocessing import StandardScaler\n",
        "from sklearn.model_selection import train_test_split\n",
        "\n",
        "# Assuming 'df1' contains your dataframe\n",
        "X4 = df4.drop(['DO','Temp'], axis='columns')  # input\n",
        "y4 = df4['DO']\n",
        "\n",
        "# Convert X and y to dataframes\n",
        "X4 = pd.DataFrame(X4)\n",
        "y4 = pd.DataFrame(y4)\n",
        "\n",
        "# Scaling the features\n",
        "scaler = StandardScaler()\n",
        "X4_scaled = scaler.fit_transform(X4)\n",
        "\n",
        "# Splitting the data into training and testing sets\n",
        "X4_train, X4_test, y4_train, y4_test = train_test_split(X4_scaled, y4, test_size=0.3, random_state=10)\n",
        "\n",
        "print(X4_train.shape)\n",
        "print(X4_test.shape)\n"
      ],
      "metadata": {
        "id": "rKe_rPmXRWX0",
        "outputId": "a472d4c3-9008-4c46-fa6d-c91900a56a08",
        "colab": {
          "base_uri": "https://localhost:8080/"
        }
      },
      "id": "rKe_rPmXRWX0",
      "execution_count": 36,
      "outputs": [
        {
          "output_type": "stream",
          "name": "stdout",
          "text": [
            "(1344, 1)\n",
            "(576, 1)\n"
          ]
        }
      ]
    },
    {
      "cell_type": "code",
      "source": [
        "import pandas as pd\n",
        "from sklearn.preprocessing import StandardScaler\n",
        "from sklearn.model_selection import train_test_split\n",
        "\n",
        "# Assuming 'df1' contains your dataframe\n",
        "X5 = df5.drop(['DO','Temp'], axis='columns')  # input\n",
        "y5 = df5['DO']\n",
        "\n",
        "# Convert X and y to dataframes\n",
        "X5 = pd.DataFrame(X5)\n",
        "y5 = pd.DataFrame(y5)\n",
        "\n",
        "# Scaling the features\n",
        "scaler = StandardScaler()\n",
        "X5_scaled = scaler.fit_transform(X5)\n",
        "\n",
        "# Splitting the data into training and testing sets\n",
        "X5_train, X5_test, y5_train, y5_test = train_test_split(X5_scaled, y5, test_size=0.3, random_state=10)\n",
        "\n",
        "print(X5_train.shape)\n",
        "print(X5_test.shape)\n"
      ],
      "metadata": {
        "id": "Y49Gyv6mRWVN",
        "outputId": "180c71cb-3347-4cf8-d2d9-12fc175eb4da",
        "colab": {
          "base_uri": "https://localhost:8080/"
        }
      },
      "id": "Y49Gyv6mRWVN",
      "execution_count": 37,
      "outputs": [
        {
          "output_type": "stream",
          "name": "stdout",
          "text": [
            "(1680, 1)\n",
            "(720, 1)\n"
          ]
        }
      ]
    },
    {
      "cell_type": "code",
      "source": [],
      "metadata": {
        "id": "NUY1HgQYRWST"
      },
      "id": "NUY1HgQYRWST",
      "execution_count": null,
      "outputs": []
    },
    {
      "cell_type": "markdown",
      "source": [
        "# ML2"
      ],
      "metadata": {
        "id": "KeXBgvedRvtj"
      },
      "id": "KeXBgvedRvtj"
    },
    {
      "cell_type": "code",
      "source": [
        "from sklearn.ensemble import RandomForestRegressor\n",
        "from xgboost import XGBRegressor\n",
        "from sklearn.model_selection import cross_val_score\n",
        "\n",
        "# Initialize models\n",
        "rf_clf = RandomForestRegressor()\n",
        "xgb_clf = XGBRegressor()\n",
        "\n",
        "# Dictionary to store scores\n",
        "scores = {}\n",
        "\n",
        "# Loop through each train-test split\n",
        "for i in range(1, 6):  # assuming you have 5 train-test splits\n",
        "    # Accessing the arrays directly\n",
        "    X_train = globals()[f\"X{i}_train\"]  # Assuming X1_train, X2_train, X3_train, etc., are already defined\n",
        "    X_test = globals()[f\"X{i}_test\"]\n",
        "    y_train = globals()[f\"y{i}_train\"].values.ravel()\n",
        "    y_test = globals()[f\"y{i}_test\"].values.ravel()\n",
        "\n",
        "    # Fit and evaluate RandomForestRegressor\n",
        "    rf_clf.fit(X_train, y_train)\n",
        "    rf_valscore = cross_val_score(rf_clf, X_train, y_train, cv=5).mean()\n",
        "    rf_score = cross_val_score(rf_clf, X_test, y_test, cv=5).mean()\n",
        "\n",
        "    # Fit and evaluate XGBRegressor\n",
        "    xgb_clf.fit(X_train, y_train)\n",
        "    xgb_valscore = cross_val_score(xgb_clf, X_train, y_train, cv=5).mean()\n",
        "    xgb_score = cross_val_score(xgb_clf, X_test, y_test, cv=5).mean()\n",
        "\n",
        "    # Store scores\n",
        "    scores[f\"RF_split{i}\"] = (rf_valscore, rf_score)\n",
        "    scores[f\"XGB_split{i}\"] = (xgb_valscore, xgb_score)\n",
        "\n",
        "# Print scores\n",
        "for key, value in scores.items():\n",
        "    print(key, \"Validation score:\", value[0], \"Test score:\", value[1])\n"
      ],
      "metadata": {
        "id": "2-E6HUgJRyDy",
        "outputId": "e4b3e654-5c9d-4a2d-8785-9a0714dff10b",
        "colab": {
          "base_uri": "https://localhost:8080/"
        }
      },
      "id": "2-E6HUgJRyDy",
      "execution_count": 38,
      "outputs": [
        {
          "output_type": "stream",
          "name": "stdout",
          "text": [
            "RF_split1 Validation score: 0.7651121225483063 Test score: 0.8348764859574395\n",
            "XGB_split1 Validation score: 0.7196799145853786 Test score: 0.7913712315144632\n",
            "RF_split2 Validation score: 0.8273197008144674 Test score: 0.8245575606160159\n",
            "XGB_split2 Validation score: 0.8278327596673701 Test score: 0.7714901709198444\n",
            "RF_split3 Validation score: 0.802334788648779 Test score: 0.8109431432953397\n",
            "XGB_split3 Validation score: 0.822000143910788 Test score: 0.795404204719966\n",
            "RF_split4 Validation score: 0.8014289297484568 Test score: 0.8557531429518453\n",
            "XGB_split4 Validation score: 0.834676910959303 Test score: 0.8500842691099579\n",
            "RF_split5 Validation score: 0.821975325977905 Test score: 0.8117224013089714\n",
            "XGB_split5 Validation score: 0.8471096612564579 Test score: 0.8274360222836072\n"
          ]
        }
      ]
    },
    {
      "cell_type": "code",
      "source": [
        "from sklearn.ensemble import StackingRegressor\n",
        "from sklearn.linear_model import LinearRegression\n",
        "from sklearn.model_selection import cross_val_score\n",
        "from sklearn.ensemble import RandomForestRegressor, GradientBoostingRegressor\n",
        "from sklearn.neural_network import MLPRegressor\n",
        "from xgboost import XGBRegressor\n",
        "\n",
        "# Define base estimators\n",
        "base_estimators = [\n",
        "    (\"RandomForestRegressor\", RandomForestRegressor()),\n",
        "    (\"XGBoostRegressor\", XGBRegressor()),\n",
        "    (\"GradientBoostingRegressor\", GradientBoostingRegressor()),\n",
        "    (\"MLPRegressor\", MLPRegressor())\n",
        "]\n",
        "\n",
        "# Initialize StackingRegressor with base estimators and final estimator\n",
        "stacked_model = StackingRegressor(\n",
        "    estimators=base_estimators,\n",
        "    final_estimator=LinearRegression()\n",
        ")\n",
        "\n",
        "# Dictionary to store scores\n",
        "scores = {}\n",
        "\n",
        "# Loop through each train-test split\n",
        "for i in range(1, 6):  # assuming you have 5 train-test splits\n",
        "    # Accessing the arrays directly\n",
        "    X_train = globals()[f\"X{i}_train\"]  # Assuming X1_train, X2_train, X3_train, etc., are already defined\n",
        "    X_test = globals()[f\"X{i}_test\"]\n",
        "    y_train = globals()[f\"y{i}_train\"].values.ravel()\n",
        "    y_test = globals()[f\"y{i}_test\"].values.ravel()\n",
        "\n",
        "\n",
        "    # Perform cross-validation on training data with StackingRegressor\n",
        "    cv_stacked_train = cross_val_score(stacked_model, X_train, y_train, cv=5)\n",
        "    cv_stacked_test = cross_val_score(stacked_model, X_test, y_test, cv=5)\n",
        "\n",
        "    # Store scores\n",
        "    scores[f\"Stacked_split{i}\"] = (cv_stacked_train.mean(), cv_stacked_test.mean())\n",
        "\n",
        "# Print scores\n",
        "for key, value in scores.items():\n",
        "    print(key, \"Validation score:\", value[0], \"Test score:\", value[1])\n"
      ],
      "metadata": {
        "id": "qQACtpDGRyBa",
        "outputId": "e229be5a-f6f7-4e9d-865d-26f11806732f",
        "colab": {
          "base_uri": "https://localhost:8080/"
        }
      },
      "id": "qQACtpDGRyBa",
      "execution_count": 39,
      "outputs": [
        {
          "output_type": "stream",
          "name": "stdout",
          "text": [
            "Stacked_split1 Validation score: 0.8281332471504413 Test score: 0.8414437439513611\n",
            "Stacked_split2 Validation score: 0.8645649543922846 Test score: 0.8389242450299589\n",
            "Stacked_split3 Validation score: 0.8625714089370952 Test score: 0.8577896633623645\n",
            "Stacked_split4 Validation score: 0.8587023808474884 Test score: 0.8785699130708163\n",
            "Stacked_split5 Validation score: 0.8640449701351116 Test score: 0.8661811563435873\n"
          ]
        }
      ]
    },
    {
      "cell_type": "code",
      "source": [],
      "metadata": {
        "id": "mT7h9cx3Rx-t"
      },
      "id": "mT7h9cx3Rx-t",
      "execution_count": null,
      "outputs": []
    },
    {
      "cell_type": "markdown",
      "source": [
        "# DL2"
      ],
      "metadata": {
        "id": "3UV_HTCpSJw8"
      },
      "id": "3UV_HTCpSJw8"
    },
    {
      "cell_type": "code",
      "source": [
        "import tensorflow\n",
        "from tensorflow import keras\n",
        "from tensorflow.keras import Sequential\n",
        "from tensorflow.keras.layers import Dense\n",
        "model = Sequential()\n",
        "model.add(Dense(256, activation = 'relu',input_dim = X1_train.shape[1]))\n",
        "model.add(Dense(128, activation = 'relu'))\n",
        "model.add(Dense(64, activation = 'relu'))\n",
        "model.add(Dense(32, activation = 'relu'))\n",
        "model.add(Dense(1, activation = 'linear'))\n",
        "model.summary()\n",
        "\n",
        "model.compile(optimizer='Adam', loss='mean_squared_error')\n",
        "history = model.fit(X1_train, y1_train, epochs = 50, batch_size = 10, verbose = 1, validation_split=0.2)\n",
        "y1_pred = model.predict(X1_test)\n",
        "from sklearn.metrics import r2_score\n",
        "r2_score(y1_test, y1_pred)"
      ],
      "metadata": {
        "id": "mbp6H0mURx8U",
        "outputId": "6d3716a7-85e8-4fb2-886c-41aa54b6787b",
        "colab": {
          "base_uri": "https://localhost:8080/"
        }
      },
      "id": "mbp6H0mURx8U",
      "execution_count": 41,
      "outputs": [
        {
          "output_type": "stream",
          "name": "stdout",
          "text": [
            "Model: \"sequential_6\"\n",
            "_________________________________________________________________\n",
            " Layer (type)                Output Shape              Param #   \n",
            "=================================================================\n",
            " dense_30 (Dense)            (None, 256)               512       \n",
            "                                                                 \n",
            " dense_31 (Dense)            (None, 128)               32896     \n",
            "                                                                 \n",
            " dense_32 (Dense)            (None, 64)                8256      \n",
            "                                                                 \n",
            " dense_33 (Dense)            (None, 32)                2080      \n",
            "                                                                 \n",
            " dense_34 (Dense)            (None, 1)                 33        \n",
            "                                                                 \n",
            "=================================================================\n",
            "Total params: 43777 (171.00 KB)\n",
            "Trainable params: 43777 (171.00 KB)\n",
            "Non-trainable params: 0 (0.00 Byte)\n",
            "_________________________________________________________________\n",
            "Epoch 1/50\n",
            "27/27 [==============================] - 2s 10ms/step - loss: 21.9486 - val_loss: 5.6114\n",
            "Epoch 2/50\n",
            "27/27 [==============================] - 0s 5ms/step - loss: 5.2922 - val_loss: 1.9239\n",
            "Epoch 3/50\n",
            "27/27 [==============================] - 0s 5ms/step - loss: 1.4798 - val_loss: 0.6743\n",
            "Epoch 4/50\n",
            "27/27 [==============================] - 0s 7ms/step - loss: 0.5460 - val_loss: 0.1547\n",
            "Epoch 5/50\n",
            "27/27 [==============================] - 0s 5ms/step - loss: 0.2580 - val_loss: 0.1180\n",
            "Epoch 6/50\n",
            "27/27 [==============================] - 0s 5ms/step - loss: 0.1920 - val_loss: 0.0928\n",
            "Epoch 7/50\n",
            "27/27 [==============================] - 0s 5ms/step - loss: 0.2063 - val_loss: 0.1008\n",
            "Epoch 8/50\n",
            "27/27 [==============================] - 0s 5ms/step - loss: 0.1841 - val_loss: 0.0912\n",
            "Epoch 9/50\n",
            "27/27 [==============================] - 0s 5ms/step - loss: 0.1811 - val_loss: 0.1011\n",
            "Epoch 10/50\n",
            "27/27 [==============================] - 0s 5ms/step - loss: 0.1758 - val_loss: 0.1131\n",
            "Epoch 11/50\n",
            "27/27 [==============================] - 0s 5ms/step - loss: 0.1686 - val_loss: 0.0944\n",
            "Epoch 12/50\n",
            "27/27 [==============================] - 0s 5ms/step - loss: 0.1685 - val_loss: 0.0910\n",
            "Epoch 13/50\n",
            "27/27 [==============================] - 0s 5ms/step - loss: 0.1713 - val_loss: 0.1100\n",
            "Epoch 14/50\n",
            "27/27 [==============================] - 0s 5ms/step - loss: 0.1707 - val_loss: 0.0874\n",
            "Epoch 15/50\n",
            "27/27 [==============================] - 0s 5ms/step - loss: 0.1661 - val_loss: 0.1547\n",
            "Epoch 16/50\n",
            "27/27 [==============================] - 0s 5ms/step - loss: 0.1905 - val_loss: 0.0963\n",
            "Epoch 17/50\n",
            "27/27 [==============================] - 0s 5ms/step - loss: 0.1681 - val_loss: 0.1039\n",
            "Epoch 18/50\n",
            "27/27 [==============================] - 0s 6ms/step - loss: 0.2010 - val_loss: 0.1438\n",
            "Epoch 19/50\n",
            "27/27 [==============================] - 0s 5ms/step - loss: 0.1860 - val_loss: 0.1129\n",
            "Epoch 20/50\n",
            "27/27 [==============================] - 0s 4ms/step - loss: 0.1701 - val_loss: 0.0888\n",
            "Epoch 21/50\n",
            "27/27 [==============================] - 0s 4ms/step - loss: 0.1872 - val_loss: 0.0926\n",
            "Epoch 22/50\n",
            "27/27 [==============================] - 0s 5ms/step - loss: 0.1673 - val_loss: 0.0936\n",
            "Epoch 23/50\n",
            "27/27 [==============================] - 0s 5ms/step - loss: 0.1687 - val_loss: 0.1185\n",
            "Epoch 24/50\n",
            "27/27 [==============================] - 0s 5ms/step - loss: 0.1822 - val_loss: 0.1343\n",
            "Epoch 25/50\n",
            "27/27 [==============================] - 0s 5ms/step - loss: 0.1723 - val_loss: 0.0903\n",
            "Epoch 26/50\n",
            "27/27 [==============================] - 0s 7ms/step - loss: 0.1703 - val_loss: 0.1255\n",
            "Epoch 27/50\n",
            "27/27 [==============================] - 0s 7ms/step - loss: 0.1778 - val_loss: 0.0898\n",
            "Epoch 28/50\n",
            "27/27 [==============================] - 0s 6ms/step - loss: 0.1669 - val_loss: 0.1028\n",
            "Epoch 29/50\n",
            "27/27 [==============================] - 0s 7ms/step - loss: 0.1884 - val_loss: 0.1109\n",
            "Epoch 30/50\n",
            "27/27 [==============================] - 0s 6ms/step - loss: 0.1761 - val_loss: 0.0880\n",
            "Epoch 31/50\n",
            "27/27 [==============================] - 0s 7ms/step - loss: 0.1713 - val_loss: 0.0956\n",
            "Epoch 32/50\n",
            "27/27 [==============================] - 0s 6ms/step - loss: 0.1688 - val_loss: 0.0892\n",
            "Epoch 33/50\n",
            "27/27 [==============================] - 0s 7ms/step - loss: 0.1748 - val_loss: 0.0875\n",
            "Epoch 34/50\n",
            "27/27 [==============================] - 0s 7ms/step - loss: 0.1905 - val_loss: 0.2159\n",
            "Epoch 35/50\n",
            "27/27 [==============================] - 0s 7ms/step - loss: 0.1867 - val_loss: 0.0949\n",
            "Epoch 36/50\n",
            "27/27 [==============================] - 0s 9ms/step - loss: 0.1874 - val_loss: 0.0999\n",
            "Epoch 37/50\n",
            "27/27 [==============================] - 0s 7ms/step - loss: 0.1739 - val_loss: 0.1201\n",
            "Epoch 38/50\n",
            "27/27 [==============================] - 0s 9ms/step - loss: 0.1745 - val_loss: 0.0883\n",
            "Epoch 39/50\n",
            "27/27 [==============================] - 0s 7ms/step - loss: 0.1637 - val_loss: 0.0870\n",
            "Epoch 40/50\n",
            "27/27 [==============================] - 0s 6ms/step - loss: 0.1766 - val_loss: 0.1117\n",
            "Epoch 41/50\n",
            "27/27 [==============================] - 0s 5ms/step - loss: 0.1663 - val_loss: 0.0904\n",
            "Epoch 42/50\n",
            "27/27 [==============================] - 0s 5ms/step - loss: 0.1617 - val_loss: 0.1038\n",
            "Epoch 43/50\n",
            "27/27 [==============================] - 0s 4ms/step - loss: 0.1688 - val_loss: 0.0924\n",
            "Epoch 44/50\n",
            "27/27 [==============================] - 0s 4ms/step - loss: 0.1759 - val_loss: 0.1029\n",
            "Epoch 45/50\n",
            "27/27 [==============================] - 0s 5ms/step - loss: 0.1638 - val_loss: 0.0868\n",
            "Epoch 46/50\n",
            "27/27 [==============================] - 0s 5ms/step - loss: 0.1684 - val_loss: 0.2028\n",
            "Epoch 47/50\n",
            "27/27 [==============================] - 0s 5ms/step - loss: 0.1871 - val_loss: 0.0897\n",
            "Epoch 48/50\n",
            "27/27 [==============================] - 0s 5ms/step - loss: 0.1731 - val_loss: 0.1543\n",
            "Epoch 49/50\n",
            "27/27 [==============================] - 0s 5ms/step - loss: 0.2082 - val_loss: 0.2060\n",
            "Epoch 50/50\n",
            "27/27 [==============================] - 0s 5ms/step - loss: 0.2012 - val_loss: 0.1272\n",
            "5/5 [==============================] - 0s 2ms/step\n"
          ]
        },
        {
          "output_type": "execute_result",
          "data": {
            "text/plain": [
              "0.8584414934931505"
            ]
          },
          "metadata": {},
          "execution_count": 41
        }
      ]
    },
    {
      "cell_type": "code",
      "source": [
        "import tensorflow\n",
        "from tensorflow import keras\n",
        "from tensorflow.keras import Sequential\n",
        "from tensorflow.keras.layers import Dense\n",
        "model = Sequential()\n",
        "model.add(Dense(256, activation = 'relu',input_dim = X2_train.shape[1]))\n",
        "model.add(Dense(128, activation = 'relu'))\n",
        "model.add(Dense(64, activation = 'relu'))\n",
        "model.add(Dense(32, activation = 'relu'))\n",
        "model.add(Dense(1, activation = 'linear'))\n",
        "model.summary()\n",
        "\n",
        "model.compile(optimizer='Adam', loss='mean_squared_error')\n",
        "history = model.fit(X2_train, y2_train, epochs = 50, batch_size = 10, verbose = 1, validation_split=0.2)\n",
        "\n",
        "y2_pred = model.predict(X2_test)\n",
        "from sklearn.metrics import r2_score\n",
        "r2_score(y2_test, y2_pred)"
      ],
      "metadata": {
        "id": "WceTS_ndRx5j",
        "outputId": "333c0627-7022-4754-ce4b-522fa4c7004b",
        "colab": {
          "base_uri": "https://localhost:8080/"
        }
      },
      "id": "WceTS_ndRx5j",
      "execution_count": 42,
      "outputs": [
        {
          "output_type": "stream",
          "name": "stdout",
          "text": [
            "Model: \"sequential_7\"\n",
            "_________________________________________________________________\n",
            " Layer (type)                Output Shape              Param #   \n",
            "=================================================================\n",
            " dense_35 (Dense)            (None, 256)               512       \n",
            "                                                                 \n",
            " dense_36 (Dense)            (None, 128)               32896     \n",
            "                                                                 \n",
            " dense_37 (Dense)            (None, 64)                8256      \n",
            "                                                                 \n",
            " dense_38 (Dense)            (None, 32)                2080      \n",
            "                                                                 \n",
            " dense_39 (Dense)            (None, 1)                 33        \n",
            "                                                                 \n",
            "=================================================================\n",
            "Total params: 43777 (171.00 KB)\n",
            "Trainable params: 43777 (171.00 KB)\n",
            "Non-trainable params: 0 (0.00 Byte)\n",
            "_________________________________________________________________\n",
            "Epoch 1/50\n",
            "54/54 [==============================] - 2s 7ms/step - loss: 17.2251 - val_loss: 6.0200\n",
            "Epoch 2/50\n",
            "54/54 [==============================] - 0s 4ms/step - loss: 2.0464 - val_loss: 0.4834\n",
            "Epoch 3/50\n",
            "54/54 [==============================] - 0s 5ms/step - loss: 0.2891 - val_loss: 0.1440\n",
            "Epoch 4/50\n",
            "54/54 [==============================] - 0s 4ms/step - loss: 0.1603 - val_loss: 0.1278\n",
            "Epoch 5/50\n",
            "54/54 [==============================] - 0s 4ms/step - loss: 0.1467 - val_loss: 0.1225\n",
            "Epoch 6/50\n",
            "54/54 [==============================] - 0s 5ms/step - loss: 0.1469 - val_loss: 0.1233\n",
            "Epoch 7/50\n",
            "54/54 [==============================] - 0s 5ms/step - loss: 0.1490 - val_loss: 0.1295\n",
            "Epoch 8/50\n",
            "54/54 [==============================] - 0s 4ms/step - loss: 0.1402 - val_loss: 0.1209\n",
            "Epoch 9/50\n",
            "54/54 [==============================] - 0s 4ms/step - loss: 0.1418 - val_loss: 0.1185\n",
            "Epoch 10/50\n",
            "54/54 [==============================] - 0s 5ms/step - loss: 0.1398 - val_loss: 0.1259\n",
            "Epoch 11/50\n",
            "54/54 [==============================] - 0s 4ms/step - loss: 0.1482 - val_loss: 0.1219\n",
            "Epoch 12/50\n",
            "54/54 [==============================] - 0s 4ms/step - loss: 0.1481 - val_loss: 0.1213\n",
            "Epoch 13/50\n",
            "54/54 [==============================] - 0s 4ms/step - loss: 0.1457 - val_loss: 0.1211\n",
            "Epoch 14/50\n",
            "54/54 [==============================] - 0s 4ms/step - loss: 0.1496 - val_loss: 0.1472\n",
            "Epoch 15/50\n",
            "54/54 [==============================] - 0s 4ms/step - loss: 0.1449 - val_loss: 0.1199\n",
            "Epoch 16/50\n",
            "54/54 [==============================] - 0s 4ms/step - loss: 0.1453 - val_loss: 0.1294\n",
            "Epoch 17/50\n",
            "54/54 [==============================] - 0s 5ms/step - loss: 0.1531 - val_loss: 0.1749\n",
            "Epoch 18/50\n",
            "54/54 [==============================] - 0s 4ms/step - loss: 0.1634 - val_loss: 0.1545\n",
            "Epoch 19/50\n",
            "54/54 [==============================] - 0s 4ms/step - loss: 0.1451 - val_loss: 0.1214\n",
            "Epoch 20/50\n",
            "54/54 [==============================] - 0s 4ms/step - loss: 0.1379 - val_loss: 0.1541\n",
            "Epoch 21/50\n",
            "54/54 [==============================] - 0s 4ms/step - loss: 0.1422 - val_loss: 0.1242\n",
            "Epoch 22/50\n",
            "54/54 [==============================] - 0s 5ms/step - loss: 0.1466 - val_loss: 0.1251\n",
            "Epoch 23/50\n",
            "54/54 [==============================] - 0s 6ms/step - loss: 0.1487 - val_loss: 0.1325\n",
            "Epoch 24/50\n",
            "54/54 [==============================] - 0s 6ms/step - loss: 0.1462 - val_loss: 0.1670\n",
            "Epoch 25/50\n",
            "54/54 [==============================] - 0s 6ms/step - loss: 0.1552 - val_loss: 0.1175\n",
            "Epoch 26/50\n",
            "54/54 [==============================] - 0s 5ms/step - loss: 0.1568 - val_loss: 0.1216\n",
            "Epoch 27/50\n",
            "54/54 [==============================] - 0s 7ms/step - loss: 0.1416 - val_loss: 0.1922\n",
            "Epoch 28/50\n",
            "54/54 [==============================] - 0s 7ms/step - loss: 0.1538 - val_loss: 0.1243\n",
            "Epoch 29/50\n",
            "54/54 [==============================] - 0s 6ms/step - loss: 0.1543 - val_loss: 0.1997\n",
            "Epoch 30/50\n",
            "54/54 [==============================] - 0s 7ms/step - loss: 0.1597 - val_loss: 0.1280\n",
            "Epoch 31/50\n",
            "54/54 [==============================] - 0s 4ms/step - loss: 0.1560 - val_loss: 0.1280\n",
            "Epoch 32/50\n",
            "54/54 [==============================] - 0s 5ms/step - loss: 0.1422 - val_loss: 0.1329\n",
            "Epoch 33/50\n",
            "54/54 [==============================] - 0s 4ms/step - loss: 0.1450 - val_loss: 0.1181\n",
            "Epoch 34/50\n",
            "54/54 [==============================] - 0s 5ms/step - loss: 0.1461 - val_loss: 0.1189\n",
            "Epoch 35/50\n",
            "54/54 [==============================] - 0s 5ms/step - loss: 0.1452 - val_loss: 0.1257\n",
            "Epoch 36/50\n",
            "54/54 [==============================] - 0s 5ms/step - loss: 0.1413 - val_loss: 0.1387\n",
            "Epoch 37/50\n",
            "54/54 [==============================] - 0s 4ms/step - loss: 0.1537 - val_loss: 0.1356\n",
            "Epoch 38/50\n",
            "54/54 [==============================] - 0s 4ms/step - loss: 0.1426 - val_loss: 0.1482\n",
            "Epoch 39/50\n",
            "54/54 [==============================] - 0s 5ms/step - loss: 0.1627 - val_loss: 0.1224\n",
            "Epoch 40/50\n",
            "54/54 [==============================] - 0s 4ms/step - loss: 0.1540 - val_loss: 0.1673\n",
            "Epoch 41/50\n",
            "54/54 [==============================] - 0s 4ms/step - loss: 0.1594 - val_loss: 0.1516\n",
            "Epoch 42/50\n",
            "54/54 [==============================] - 0s 5ms/step - loss: 0.1664 - val_loss: 0.1893\n",
            "Epoch 43/50\n",
            "54/54 [==============================] - 0s 5ms/step - loss: 0.1662 - val_loss: 0.1293\n",
            "Epoch 44/50\n",
            "54/54 [==============================] - 0s 4ms/step - loss: 0.1621 - val_loss: 0.1281\n",
            "Epoch 45/50\n",
            "54/54 [==============================] - 0s 5ms/step - loss: 0.1536 - val_loss: 0.1271\n",
            "Epoch 46/50\n",
            "54/54 [==============================] - 0s 5ms/step - loss: 0.1539 - val_loss: 0.1188\n",
            "Epoch 47/50\n",
            "54/54 [==============================] - 0s 4ms/step - loss: 0.1574 - val_loss: 0.1276\n",
            "Epoch 48/50\n",
            "54/54 [==============================] - 0s 5ms/step - loss: 0.1595 - val_loss: 0.1258\n",
            "Epoch 49/50\n",
            "54/54 [==============================] - 0s 5ms/step - loss: 0.1485 - val_loss: 0.1528\n",
            "Epoch 50/50\n",
            "54/54 [==============================] - 0s 5ms/step - loss: 0.1512 - val_loss: 0.1230\n",
            "9/9 [==============================] - 0s 2ms/step\n"
          ]
        },
        {
          "output_type": "execute_result",
          "data": {
            "text/plain": [
              "0.8610552282153408"
            ]
          },
          "metadata": {},
          "execution_count": 42
        }
      ]
    },
    {
      "cell_type": "code",
      "source": [
        "import tensorflow\n",
        "from tensorflow import keras\n",
        "from tensorflow.keras import Sequential\n",
        "from tensorflow.keras.layers import Dense\n",
        "\n",
        "model = Sequential()\n",
        "model.add(Dense(256, activation='relu', input_dim=X3_train.shape[1]))\n",
        "model.add(Dense(128, activation='relu'))\n",
        "model.add(Dense(64, activation='relu'))\n",
        "model.add(Dense(32, activation='relu'))\n",
        "model.add(Dense(1, activation='linear'))\n",
        "model.summary()\n",
        "\n",
        "model.compile(optimizer='Adam', loss='mean_squared_error')\n",
        "history = model.fit(X3_train, y3_train, epochs=50, batch_size=10, verbose=1, validation_split=0.2)\n",
        "\n",
        "y3_pred = model.predict(X3_test)\n",
        "from sklearn.metrics import r2_score\n",
        "r2_score(y3_test, y3_pred)\n"
      ],
      "metadata": {
        "id": "rO-8_WTeSRtw",
        "outputId": "299dfafa-b7eb-4697-d252-103ef1cb2f5e",
        "colab": {
          "base_uri": "https://localhost:8080/"
        }
      },
      "id": "rO-8_WTeSRtw",
      "execution_count": 43,
      "outputs": [
        {
          "output_type": "stream",
          "name": "stdout",
          "text": [
            "Model: \"sequential_8\"\n",
            "_________________________________________________________________\n",
            " Layer (type)                Output Shape              Param #   \n",
            "=================================================================\n",
            " dense_40 (Dense)            (None, 256)               512       \n",
            "                                                                 \n",
            " dense_41 (Dense)            (None, 128)               32896     \n",
            "                                                                 \n",
            " dense_42 (Dense)            (None, 64)                8256      \n",
            "                                                                 \n",
            " dense_43 (Dense)            (None, 32)                2080      \n",
            "                                                                 \n",
            " dense_44 (Dense)            (None, 1)                 33        \n",
            "                                                                 \n",
            "=================================================================\n",
            "Total params: 43777 (171.00 KB)\n",
            "Trainable params: 43777 (171.00 KB)\n",
            "Non-trainable params: 0 (0.00 Byte)\n",
            "_________________________________________________________________\n",
            "Epoch 1/50\n",
            "81/81 [==============================] - 2s 6ms/step - loss: 11.3053 - val_loss: 1.2433\n",
            "Epoch 2/50\n",
            "81/81 [==============================] - 0s 4ms/step - loss: 0.5566 - val_loss: 0.1674\n",
            "Epoch 3/50\n",
            "81/81 [==============================] - 0s 4ms/step - loss: 0.1702 - val_loss: 0.1438\n",
            "Epoch 4/50\n",
            "81/81 [==============================] - 0s 4ms/step - loss: 0.1563 - val_loss: 0.1454\n",
            "Epoch 5/50\n",
            "81/81 [==============================] - 0s 4ms/step - loss: 0.1516 - val_loss: 0.1423\n",
            "Epoch 6/50\n",
            "81/81 [==============================] - 0s 4ms/step - loss: 0.1473 - val_loss: 0.1495\n",
            "Epoch 7/50\n",
            "81/81 [==============================] - 0s 4ms/step - loss: 0.1509 - val_loss: 0.1371\n",
            "Epoch 8/50\n",
            "81/81 [==============================] - 0s 4ms/step - loss: 0.1476 - val_loss: 0.1371\n",
            "Epoch 9/50\n",
            "81/81 [==============================] - 0s 4ms/step - loss: 0.1445 - val_loss: 0.1370\n",
            "Epoch 10/50\n",
            "81/81 [==============================] - 0s 4ms/step - loss: 0.1509 - val_loss: 0.1405\n",
            "Epoch 11/50\n",
            "81/81 [==============================] - 0s 6ms/step - loss: 0.1461 - val_loss: 0.1605\n",
            "Epoch 12/50\n",
            "81/81 [==============================] - 0s 5ms/step - loss: 0.1450 - val_loss: 0.1597\n",
            "Epoch 13/50\n",
            "81/81 [==============================] - 0s 6ms/step - loss: 0.1478 - val_loss: 0.1539\n",
            "Epoch 14/50\n",
            "81/81 [==============================] - 1s 6ms/step - loss: 0.1476 - val_loss: 0.1646\n",
            "Epoch 15/50\n",
            "81/81 [==============================] - 0s 6ms/step - loss: 0.1602 - val_loss: 0.1583\n",
            "Epoch 16/50\n",
            "81/81 [==============================] - 1s 6ms/step - loss: 0.1502 - val_loss: 0.1724\n",
            "Epoch 17/50\n",
            "81/81 [==============================] - 0s 4ms/step - loss: 0.1402 - val_loss: 0.1541\n",
            "Epoch 18/50\n",
            "81/81 [==============================] - 0s 4ms/step - loss: 0.1573 - val_loss: 0.1452\n",
            "Epoch 19/50\n",
            "81/81 [==============================] - 0s 4ms/step - loss: 0.1477 - val_loss: 0.1375\n",
            "Epoch 20/50\n",
            "81/81 [==============================] - 0s 4ms/step - loss: 0.1431 - val_loss: 0.1509\n",
            "Epoch 21/50\n",
            "81/81 [==============================] - 0s 4ms/step - loss: 0.1456 - val_loss: 0.1541\n",
            "Epoch 22/50\n",
            "81/81 [==============================] - 0s 5ms/step - loss: 0.1424 - val_loss: 0.1514\n",
            "Epoch 23/50\n",
            "81/81 [==============================] - 0s 4ms/step - loss: 0.1466 - val_loss: 0.1566\n",
            "Epoch 24/50\n",
            "81/81 [==============================] - 0s 4ms/step - loss: 0.1548 - val_loss: 0.1733\n",
            "Epoch 25/50\n",
            "81/81 [==============================] - 0s 4ms/step - loss: 0.1498 - val_loss: 0.1608\n",
            "Epoch 26/50\n",
            "81/81 [==============================] - 0s 4ms/step - loss: 0.1494 - val_loss: 0.1397\n",
            "Epoch 27/50\n",
            "81/81 [==============================] - 0s 4ms/step - loss: 0.1506 - val_loss: 0.2056\n",
            "Epoch 28/50\n",
            "81/81 [==============================] - 0s 4ms/step - loss: 0.1591 - val_loss: 0.1402\n",
            "Epoch 29/50\n",
            "81/81 [==============================] - 0s 4ms/step - loss: 0.1440 - val_loss: 0.1505\n",
            "Epoch 30/50\n",
            "81/81 [==============================] - 0s 4ms/step - loss: 0.1761 - val_loss: 0.1418\n",
            "Epoch 31/50\n",
            "81/81 [==============================] - 0s 4ms/step - loss: 0.1487 - val_loss: 0.1481\n",
            "Epoch 32/50\n",
            "81/81 [==============================] - 0s 4ms/step - loss: 0.1535 - val_loss: 0.1655\n",
            "Epoch 33/50\n",
            "81/81 [==============================] - 0s 4ms/step - loss: 0.1500 - val_loss: 0.1788\n",
            "Epoch 34/50\n",
            "81/81 [==============================] - 0s 4ms/step - loss: 0.1722 - val_loss: 0.1533\n",
            "Epoch 35/50\n",
            "81/81 [==============================] - 0s 4ms/step - loss: 0.2141 - val_loss: 0.1427\n",
            "Epoch 36/50\n",
            "81/81 [==============================] - 0s 4ms/step - loss: 0.1443 - val_loss: 0.1567\n",
            "Epoch 37/50\n",
            "81/81 [==============================] - 0s 4ms/step - loss: 0.1480 - val_loss: 0.1489\n",
            "Epoch 38/50\n",
            "81/81 [==============================] - 0s 4ms/step - loss: 0.1480 - val_loss: 0.1392\n",
            "Epoch 39/50\n",
            "81/81 [==============================] - 0s 4ms/step - loss: 0.1562 - val_loss: 0.1550\n",
            "Epoch 40/50\n",
            "81/81 [==============================] - 0s 4ms/step - loss: 0.1524 - val_loss: 0.1945\n",
            "Epoch 41/50\n",
            "81/81 [==============================] - 0s 4ms/step - loss: 0.1669 - val_loss: 0.1563\n",
            "Epoch 42/50\n",
            "81/81 [==============================] - 0s 4ms/step - loss: 0.1496 - val_loss: 0.1396\n",
            "Epoch 43/50\n",
            "81/81 [==============================] - 0s 4ms/step - loss: 0.1559 - val_loss: 0.1420\n",
            "Epoch 44/50\n",
            "81/81 [==============================] - 0s 4ms/step - loss: 0.1525 - val_loss: 0.1559\n",
            "Epoch 45/50\n",
            "81/81 [==============================] - 0s 4ms/step - loss: 0.1481 - val_loss: 0.1434\n",
            "Epoch 46/50\n",
            "81/81 [==============================] - 0s 4ms/step - loss: 0.1519 - val_loss: 0.2243\n",
            "Epoch 47/50\n",
            "81/81 [==============================] - 0s 6ms/step - loss: 0.1573 - val_loss: 0.1507\n",
            "Epoch 48/50\n",
            "81/81 [==============================] - 0s 6ms/step - loss: 0.1501 - val_loss: 0.1552\n",
            "Epoch 49/50\n",
            "81/81 [==============================] - 0s 6ms/step - loss: 0.1577 - val_loss: 0.1606\n",
            "Epoch 50/50\n",
            "81/81 [==============================] - 0s 6ms/step - loss: 0.1602 - val_loss: 0.1455\n",
            "14/14 [==============================] - 0s 2ms/step\n"
          ]
        },
        {
          "output_type": "execute_result",
          "data": {
            "text/plain": [
              "0.8722212272588785"
            ]
          },
          "metadata": {},
          "execution_count": 43
        }
      ]
    },
    {
      "cell_type": "code",
      "source": [
        "import tensorflow\n",
        "from tensorflow import keras\n",
        "from tensorflow.keras import Sequential\n",
        "from tensorflow.keras.layers import Dense\n",
        "\n",
        "model = Sequential()\n",
        "model.add(Dense(256, activation='relu', input_dim=X4_train.shape[1]))\n",
        "model.add(Dense(128, activation='relu'))\n",
        "model.add(Dense(64, activation='relu'))\n",
        "model.add(Dense(32, activation='relu'))\n",
        "model.add(Dense(1, activation='linear'))\n",
        "model.summary()\n",
        "\n",
        "model.compile(optimizer='Adam', loss='mean_squared_error')\n",
        "history = model.fit(X4_train, y4_train, epochs=50, batch_size=10, verbose=1, validation_split=0.2)\n",
        "\n",
        "y4_pred = model.predict(X4_test)\n",
        "from sklearn.metrics import r2_score\n",
        "r2_score(y4_test, y4_pred)\n"
      ],
      "metadata": {
        "id": "5i4j9v4qSRqD",
        "outputId": "1cc1e842-49dd-4fca-9888-0c6e52a2c292",
        "colab": {
          "base_uri": "https://localhost:8080/"
        }
      },
      "id": "5i4j9v4qSRqD",
      "execution_count": 44,
      "outputs": [
        {
          "output_type": "stream",
          "name": "stdout",
          "text": [
            "Model: \"sequential_9\"\n",
            "_________________________________________________________________\n",
            " Layer (type)                Output Shape              Param #   \n",
            "=================================================================\n",
            " dense_45 (Dense)            (None, 256)               512       \n",
            "                                                                 \n",
            " dense_46 (Dense)            (None, 128)               32896     \n",
            "                                                                 \n",
            " dense_47 (Dense)            (None, 64)                8256      \n",
            "                                                                 \n",
            " dense_48 (Dense)            (None, 32)                2080      \n",
            "                                                                 \n",
            " dense_49 (Dense)            (None, 1)                 33        \n",
            "                                                                 \n",
            "=================================================================\n",
            "Total params: 43777 (171.00 KB)\n",
            "Trainable params: 43777 (171.00 KB)\n",
            "Non-trainable params: 0 (0.00 Byte)\n",
            "_________________________________________________________________\n",
            "Epoch 1/50\n",
            "108/108 [==============================] - 2s 5ms/step - loss: 6.8609 - val_loss: 0.3607\n",
            "Epoch 2/50\n",
            "108/108 [==============================] - 0s 4ms/step - loss: 0.1959 - val_loss: 0.1635\n",
            "Epoch 3/50\n",
            "108/108 [==============================] - 0s 4ms/step - loss: 0.1583 - val_loss: 0.1617\n",
            "Epoch 4/50\n",
            "108/108 [==============================] - 0s 4ms/step - loss: 0.1653 - val_loss: 0.1546\n",
            "Epoch 5/50\n",
            "108/108 [==============================] - 0s 4ms/step - loss: 0.1561 - val_loss: 0.1462\n",
            "Epoch 6/50\n",
            "108/108 [==============================] - 0s 4ms/step - loss: 0.1553 - val_loss: 0.1487\n",
            "Epoch 7/50\n",
            "108/108 [==============================] - 0s 4ms/step - loss: 0.1611 - val_loss: 0.1469\n",
            "Epoch 8/50\n",
            "108/108 [==============================] - 0s 4ms/step - loss: 0.1548 - val_loss: 0.1442\n",
            "Epoch 9/50\n",
            "108/108 [==============================] - 0s 4ms/step - loss: 0.1540 - val_loss: 0.1451\n",
            "Epoch 10/50\n",
            "108/108 [==============================] - 0s 4ms/step - loss: 0.1572 - val_loss: 0.1538\n",
            "Epoch 11/50\n",
            "108/108 [==============================] - 0s 4ms/step - loss: 0.1682 - val_loss: 0.1742\n",
            "Epoch 12/50\n",
            "108/108 [==============================] - 0s 4ms/step - loss: 0.1672 - val_loss: 0.1517\n",
            "Epoch 13/50\n",
            "108/108 [==============================] - 0s 4ms/step - loss: 0.1601 - val_loss: 0.1709\n",
            "Epoch 14/50\n",
            "108/108 [==============================] - 0s 4ms/step - loss: 0.1595 - val_loss: 0.1675\n",
            "Epoch 15/50\n",
            "108/108 [==============================] - 0s 4ms/step - loss: 0.1569 - val_loss: 0.1590\n",
            "Epoch 16/50\n",
            "108/108 [==============================] - 0s 4ms/step - loss: 0.1539 - val_loss: 0.1920\n",
            "Epoch 17/50\n",
            "108/108 [==============================] - 0s 4ms/step - loss: 0.1850 - val_loss: 0.1440\n",
            "Epoch 18/50\n",
            "108/108 [==============================] - 0s 4ms/step - loss: 0.1617 - val_loss: 0.1457\n",
            "Epoch 19/50\n",
            "108/108 [==============================] - 0s 4ms/step - loss: 0.1582 - val_loss: 0.2099\n",
            "Epoch 20/50\n",
            "108/108 [==============================] - 0s 4ms/step - loss: 0.1873 - val_loss: 0.1699\n",
            "Epoch 21/50\n",
            "108/108 [==============================] - 0s 4ms/step - loss: 0.1693 - val_loss: 0.2231\n",
            "Epoch 22/50\n",
            "108/108 [==============================] - 1s 5ms/step - loss: 0.1788 - val_loss: 0.1464\n",
            "Epoch 23/50\n",
            "108/108 [==============================] - 1s 6ms/step - loss: 0.1593 - val_loss: 0.1451\n",
            "Epoch 24/50\n",
            "108/108 [==============================] - 1s 6ms/step - loss: 0.1548 - val_loss: 0.1619\n",
            "Epoch 25/50\n",
            "108/108 [==============================] - 1s 6ms/step - loss: 0.1513 - val_loss: 0.1464\n",
            "Epoch 26/50\n",
            "108/108 [==============================] - 1s 6ms/step - loss: 0.1699 - val_loss: 0.1900\n",
            "Epoch 27/50\n",
            "108/108 [==============================] - 0s 4ms/step - loss: 0.1631 - val_loss: 0.1542\n",
            "Epoch 28/50\n",
            "108/108 [==============================] - 0s 4ms/step - loss: 0.1658 - val_loss: 0.1530\n",
            "Epoch 29/50\n",
            "108/108 [==============================] - 0s 4ms/step - loss: 0.1694 - val_loss: 0.1466\n",
            "Epoch 30/50\n",
            "108/108 [==============================] - 0s 4ms/step - loss: 0.1661 - val_loss: 0.1457\n",
            "Epoch 31/50\n",
            "108/108 [==============================] - 0s 4ms/step - loss: 0.1499 - val_loss: 0.1587\n",
            "Epoch 32/50\n",
            "108/108 [==============================] - 0s 4ms/step - loss: 0.1554 - val_loss: 0.1496\n",
            "Epoch 33/50\n",
            "108/108 [==============================] - 0s 4ms/step - loss: 0.1723 - val_loss: 0.1781\n",
            "Epoch 34/50\n",
            "108/108 [==============================] - 0s 4ms/step - loss: 0.1597 - val_loss: 0.1583\n",
            "Epoch 35/50\n",
            "108/108 [==============================] - 0s 4ms/step - loss: 0.1570 - val_loss: 0.1483\n",
            "Epoch 36/50\n",
            "108/108 [==============================] - 0s 4ms/step - loss: 0.1816 - val_loss: 0.1476\n",
            "Epoch 37/50\n",
            "108/108 [==============================] - 0s 4ms/step - loss: 0.1546 - val_loss: 0.1856\n",
            "Epoch 38/50\n",
            "108/108 [==============================] - 0s 4ms/step - loss: 0.1567 - val_loss: 0.1506\n",
            "Epoch 39/50\n",
            "108/108 [==============================] - 0s 4ms/step - loss: 0.1611 - val_loss: 0.1907\n",
            "Epoch 40/50\n",
            "108/108 [==============================] - 0s 4ms/step - loss: 0.1587 - val_loss: 0.1481\n",
            "Epoch 41/50\n",
            "108/108 [==============================] - 0s 4ms/step - loss: 0.1650 - val_loss: 0.1421\n",
            "Epoch 42/50\n",
            "108/108 [==============================] - 0s 4ms/step - loss: 0.1607 - val_loss: 0.1766\n",
            "Epoch 43/50\n",
            "108/108 [==============================] - 0s 4ms/step - loss: 0.1574 - val_loss: 0.1473\n",
            "Epoch 44/50\n",
            "108/108 [==============================] - 0s 4ms/step - loss: 0.1576 - val_loss: 0.1542\n",
            "Epoch 45/50\n",
            "108/108 [==============================] - 0s 4ms/step - loss: 0.1568 - val_loss: 0.1553\n",
            "Epoch 46/50\n",
            "108/108 [==============================] - 0s 4ms/step - loss: 0.1589 - val_loss: 0.1441\n",
            "Epoch 47/50\n",
            "108/108 [==============================] - 0s 4ms/step - loss: 0.1658 - val_loss: 0.2033\n",
            "Epoch 48/50\n",
            "108/108 [==============================] - 0s 4ms/step - loss: 0.1643 - val_loss: 0.2610\n",
            "Epoch 49/50\n",
            "108/108 [==============================] - 0s 4ms/step - loss: 0.1662 - val_loss: 0.1509\n",
            "Epoch 50/50\n",
            "108/108 [==============================] - 1s 5ms/step - loss: 0.1522 - val_loss: 0.1521\n",
            "18/18 [==============================] - 0s 2ms/step\n"
          ]
        },
        {
          "output_type": "execute_result",
          "data": {
            "text/plain": [
              "0.8806889293552737"
            ]
          },
          "metadata": {},
          "execution_count": 44
        }
      ]
    },
    {
      "cell_type": "code",
      "source": [
        "import tensorflow\n",
        "from tensorflow import keras\n",
        "from tensorflow.keras import Sequential\n",
        "from tensorflow.keras.layers import Dense\n",
        "\n",
        "model = Sequential()\n",
        "model.add(Dense(256, activation='relu', input_dim=X5_train.shape[1]))\n",
        "model.add(Dense(128, activation='relu'))\n",
        "model.add(Dense(64, activation='relu'))\n",
        "model.add(Dense(32, activation='relu'))\n",
        "model.add(Dense(1, activation='linear'))\n",
        "model.summary()\n",
        "\n",
        "model.compile(optimizer='Adam', loss='mean_squared_error')\n",
        "history = model.fit(X5_train, y5_train, epochs=50, batch_size=10, verbose=1, validation_split=0.2)\n",
        "\n",
        "y5_pred = model.predict(X5_test)\n",
        "from sklearn.metrics import r2_score\n",
        "r2_score(y5_test, y5_pred)\n"
      ],
      "metadata": {
        "id": "cB10-SLWSRnF",
        "outputId": "628b3f43-4b7d-45d0-d916-c7fb9593e8f7",
        "colab": {
          "base_uri": "https://localhost:8080/"
        }
      },
      "id": "cB10-SLWSRnF",
      "execution_count": 46,
      "outputs": [
        {
          "output_type": "stream",
          "name": "stdout",
          "text": [
            "Model: \"sequential_11\"\n",
            "_________________________________________________________________\n",
            " Layer (type)                Output Shape              Param #   \n",
            "=================================================================\n",
            " dense_55 (Dense)            (None, 256)               512       \n",
            "                                                                 \n",
            " dense_56 (Dense)            (None, 128)               32896     \n",
            "                                                                 \n",
            " dense_57 (Dense)            (None, 64)                8256      \n",
            "                                                                 \n",
            " dense_58 (Dense)            (None, 32)                2080      \n",
            "                                                                 \n",
            " dense_59 (Dense)            (None, 1)                 33        \n",
            "                                                                 \n",
            "=================================================================\n",
            "Total params: 43777 (171.00 KB)\n",
            "Trainable params: 43777 (171.00 KB)\n",
            "Non-trainable params: 0 (0.00 Byte)\n",
            "_________________________________________________________________\n",
            "Epoch 1/50\n",
            "135/135 [==============================] - 2s 6ms/step - loss: 6.8555 - val_loss: 0.2243\n",
            "Epoch 2/50\n",
            "135/135 [==============================] - 1s 4ms/step - loss: 0.1674 - val_loss: 0.1712\n",
            "Epoch 3/50\n",
            "135/135 [==============================] - 1s 6ms/step - loss: 0.1588 - val_loss: 0.1696\n",
            "Epoch 4/50\n",
            "135/135 [==============================] - 1s 5ms/step - loss: 0.1611 - val_loss: 0.1522\n",
            "Epoch 5/50\n",
            "135/135 [==============================] - 1s 6ms/step - loss: 0.1534 - val_loss: 0.1545\n",
            "Epoch 6/50\n",
            "135/135 [==============================] - 1s 6ms/step - loss: 0.1618 - val_loss: 0.1692\n",
            "Epoch 7/50\n",
            "135/135 [==============================] - 1s 4ms/step - loss: 0.1704 - val_loss: 0.1514\n",
            "Epoch 8/50\n",
            "135/135 [==============================] - 1s 4ms/step - loss: 0.1567 - val_loss: 0.1587\n",
            "Epoch 9/50\n",
            "135/135 [==============================] - 1s 4ms/step - loss: 0.1583 - val_loss: 0.1606\n",
            "Epoch 10/50\n",
            "135/135 [==============================] - 1s 4ms/step - loss: 0.1693 - val_loss: 0.1617\n",
            "Epoch 11/50\n",
            "135/135 [==============================] - 1s 4ms/step - loss: 0.1657 - val_loss: 0.2621\n",
            "Epoch 12/50\n",
            "135/135 [==============================] - 1s 4ms/step - loss: 0.1605 - val_loss: 0.1534\n",
            "Epoch 13/50\n",
            "135/135 [==============================] - 1s 4ms/step - loss: 0.1729 - val_loss: 0.1626\n",
            "Epoch 14/50\n",
            "135/135 [==============================] - 1s 4ms/step - loss: 0.1578 - val_loss: 0.1591\n",
            "Epoch 15/50\n",
            "135/135 [==============================] - 1s 4ms/step - loss: 0.1648 - val_loss: 0.2112\n",
            "Epoch 16/50\n",
            "135/135 [==============================] - 1s 4ms/step - loss: 0.1725 - val_loss: 0.1689\n",
            "Epoch 17/50\n",
            "135/135 [==============================] - 1s 4ms/step - loss: 0.1596 - val_loss: 0.1690\n",
            "Epoch 18/50\n",
            "135/135 [==============================] - 1s 4ms/step - loss: 0.1654 - val_loss: 0.1654\n",
            "Epoch 19/50\n",
            "135/135 [==============================] - 1s 4ms/step - loss: 0.1661 - val_loss: 0.1669\n",
            "Epoch 20/50\n",
            "135/135 [==============================] - 1s 4ms/step - loss: 0.1676 - val_loss: 0.1620\n",
            "Epoch 21/50\n",
            "135/135 [==============================] - 1s 4ms/step - loss: 0.1727 - val_loss: 0.1527\n",
            "Epoch 22/50\n",
            "135/135 [==============================] - 1s 7ms/step - loss: 0.1671 - val_loss: 0.1658\n",
            "Epoch 23/50\n",
            "135/135 [==============================] - 1s 10ms/step - loss: 0.1614 - val_loss: 0.1840\n",
            "Epoch 24/50\n",
            "135/135 [==============================] - 1s 10ms/step - loss: 0.1780 - val_loss: 0.1583\n",
            "Epoch 25/50\n",
            "135/135 [==============================] - 2s 11ms/step - loss: 0.1691 - val_loss: 0.2157\n",
            "Epoch 26/50\n",
            "135/135 [==============================] - 1s 8ms/step - loss: 0.1762 - val_loss: 0.1708\n",
            "Epoch 27/50\n",
            "135/135 [==============================] - 1s 7ms/step - loss: 0.1603 - val_loss: 0.1522\n",
            "Epoch 28/50\n",
            "135/135 [==============================] - 1s 9ms/step - loss: 0.1676 - val_loss: 0.1883\n",
            "Epoch 29/50\n",
            "135/135 [==============================] - 1s 8ms/step - loss: 0.1566 - val_loss: 0.1621\n",
            "Epoch 30/50\n",
            "135/135 [==============================] - 1s 8ms/step - loss: 0.1636 - val_loss: 0.1509\n",
            "Epoch 31/50\n",
            "135/135 [==============================] - 1s 7ms/step - loss: 0.1668 - val_loss: 0.1628\n",
            "Epoch 32/50\n",
            "135/135 [==============================] - 1s 7ms/step - loss: 0.1677 - val_loss: 0.1616\n",
            "Epoch 33/50\n",
            "135/135 [==============================] - 1s 8ms/step - loss: 0.1641 - val_loss: 0.1863\n",
            "Epoch 34/50\n",
            "135/135 [==============================] - 1s 7ms/step - loss: 0.1642 - val_loss: 0.1545\n",
            "Epoch 35/50\n",
            "135/135 [==============================] - 1s 7ms/step - loss: 0.1706 - val_loss: 0.1808\n",
            "Epoch 36/50\n",
            "135/135 [==============================] - 1s 8ms/step - loss: 0.1601 - val_loss: 0.1569\n",
            "Epoch 37/50\n",
            "135/135 [==============================] - 1s 10ms/step - loss: 0.1706 - val_loss: 0.1845\n",
            "Epoch 38/50\n",
            "135/135 [==============================] - 1s 10ms/step - loss: 0.1659 - val_loss: 0.1631\n",
            "Epoch 39/50\n",
            "135/135 [==============================] - 1s 10ms/step - loss: 0.1627 - val_loss: 0.1777\n",
            "Epoch 40/50\n",
            "135/135 [==============================] - 1s 7ms/step - loss: 0.1574 - val_loss: 0.1702\n",
            "Epoch 41/50\n",
            "135/135 [==============================] - 1s 7ms/step - loss: 0.1671 - val_loss: 0.1578\n",
            "Epoch 42/50\n",
            "135/135 [==============================] - 1s 7ms/step - loss: 0.1702 - val_loss: 0.1681\n",
            "Epoch 43/50\n",
            "135/135 [==============================] - 1s 8ms/step - loss: 0.1641 - val_loss: 0.2297\n",
            "Epoch 44/50\n",
            "135/135 [==============================] - 1s 5ms/step - loss: 0.1611 - val_loss: 0.1525\n",
            "Epoch 45/50\n",
            "135/135 [==============================] - 1s 4ms/step - loss: 0.1635 - val_loss: 0.1567\n",
            "Epoch 46/50\n",
            "135/135 [==============================] - 1s 4ms/step - loss: 0.1553 - val_loss: 0.1602\n",
            "Epoch 47/50\n",
            "135/135 [==============================] - 1s 4ms/step - loss: 0.1636 - val_loss: 0.1744\n",
            "Epoch 48/50\n",
            "135/135 [==============================] - 1s 4ms/step - loss: 0.1643 - val_loss: 0.1693\n",
            "Epoch 49/50\n",
            "135/135 [==============================] - 1s 4ms/step - loss: 0.1509 - val_loss: 0.1620\n",
            "Epoch 50/50\n",
            "135/135 [==============================] - 1s 4ms/step - loss: 0.1614 - val_loss: 0.1656\n",
            "23/23 [==============================] - 0s 2ms/step\n"
          ]
        },
        {
          "output_type": "execute_result",
          "data": {
            "text/plain": [
              "0.8574037202600259"
            ]
          },
          "metadata": {},
          "execution_count": 46
        }
      ]
    },
    {
      "cell_type": "code",
      "source": [
        "# \tRF\tXGB\tHybrid\tDL\n",
        "# Split 1\t0.92\t0.962\t0.933\t0.983\n",
        "# Split 2\t0.928\t0.979\t0.963\t0.978\n",
        "# Split 3\t0.963\t0.977\t0.969\t0.966\n",
        "# Split 4\t0.958\t0.98\t0.981\t0.978\n",
        "# Split 5\t0.966\t0.975\t0.982\t0.977\n",
        "\n",
        "\n",
        "# With COD only\n",
        "# \t0.835\t0.791\t0.841\t0.858\n",
        "# \t0.825\t0.771\t0.839\t0.861\n",
        "# \t0.811\t0.795\t0.858\t0.872\n",
        "# \t0.856\t0.85\t0.879\t0.88\n",
        "# \t0.812\t0.827\t0.866\t0.857\n"
      ],
      "metadata": {
        "id": "W5Xm5kb6Vsg8"
      },
      "id": "W5Xm5kb6Vsg8",
      "execution_count": null,
      "outputs": []
    },
    {
      "cell_type": "code",
      "source": [
        "import matplotlib.pyplot as plt\n",
        "\n",
        "# Data\n",
        "splits = ['Split 1', 'Split 2', 'Split 3', 'Split 4', 'Split 5']\n",
        "RF_scores = [0.92, 0.928, 0.963, 0.958, 0.966]\n",
        "XGB_scores = [0.962, 0.979, 0.977, 0.98, 0.975]\n",
        "Hybrid_scores = [0.933, 0.963, 0.969, 0.981, 0.982]\n",
        "DL_scores = [0.983, 0.978, 0.966, 0.978, 0.977]\n",
        "\n",
        "# Plot\n",
        "plt.figure(figsize=(10, 6))\n",
        "plt.plot(splits, RF_scores, marker='o', label='RF')\n",
        "plt.plot(splits, XGB_scores, marker='o', label='XGB')\n",
        "plt.plot(splits, Hybrid_scores, marker='o', label='Hybrid')\n",
        "plt.plot(splits, DL_scores, marker='o', label='DL')\n",
        "\n",
        "# Add labels and title\n",
        "plt.xlabel('Splits')\n",
        "plt.ylabel('R2 Score')\n",
        "plt.title('R2 Score Comparison')\n",
        "plt.legend()\n",
        "\n",
        "# Show plot\n",
        "plt.grid(True)\n",
        "plt.show()\n"
      ],
      "metadata": {
        "id": "rBLFL1E-WX3U",
        "outputId": "82bb050a-7518-4350-ff3a-7f64fa4c0f1a",
        "colab": {
          "base_uri": "https://localhost:8080/",
          "height": 564
        }
      },
      "id": "rBLFL1E-WX3U",
      "execution_count": 47,
      "outputs": [
        {
          "output_type": "display_data",
          "data": {
            "text/plain": [
              "<Figure size 1000x600 with 1 Axes>"
            ],
            "image/png": "[encoded data removed]"
          },
          "metadata": {}
        }
      ]
    },
    {
      "cell_type": "code",
      "source": [
        "import matplotlib.pyplot as plt\n",
        "\n",
        "# Data\n",
        "splits = ['Split 1', 'Split 2', 'Split 3', 'Split 4', 'Split 5']\n",
        "RF_scores = [0.835, 0.825, 0.811, 0.856, 0.812]\n",
        "XGB_scores = [0.791, 0.771, 0.795, 0.85, 0.827]\n",
        "Hybrid_scores = [0.841, 0.839, 0.858, 0.879, 0.866]\n",
        "DL_scores = [0.858, 0.861, 0.872, 0.88, 0.857]\n",
        "\n",
        "# Plot\n",
        "plt.figure(figsize=(10, 6))\n",
        "plt.plot(splits, RF_scores, marker='o', label='RF')\n",
        "plt.plot(splits, XGB_scores, marker='o', label='XGB')\n",
        "plt.plot(splits, Hybrid_scores, marker='o', label='Hybrid')\n",
        "plt.plot(splits, DL_scores, marker='o', label='DL')\n",
        "\n",
        "# Add labels and title\n",
        "plt.xlabel('Splits')\n",
        "plt.ylabel('R2 Score')\n",
        "plt.title('R2 Score Comparison (COD only)')\n",
        "plt.legend()\n",
        "\n",
        "# Show plot\n",
        "plt.grid(True)\n",
        "plt.show()\n"
      ],
      "metadata": {
        "id": "N85a0c8QSRkc",
        "outputId": "eadfa479-290d-4c59-e8cd-17e1e2a7ff8f",
        "colab": {
          "base_uri": "https://localhost:8080/",
          "height": 564
        }
      },
      "id": "N85a0c8QSRkc",
      "execution_count": 48,
      "outputs": [
        {
          "output_type": "display_data",
          "data": {
            "text/plain": [
              "<Figure size 1000x600 with 1 Axes>"
            ],
            "image/png": "[encoded data removed]"
          },
          "metadata": {}
        }
      ]
    },
    {
      "cell_type": "markdown",
      "source": [
        "### Project Overview\n",
        "\n",
        "The objective of this project was to evaluate the performance of different machine learning (ML), hybrid ML, and deep learning (DL) models in predicting dissolved oxygen (DO) levels using varying amounts of data and different input features. The study was conducted in two phases:\n",
        "\n",
        "1. **Using COD and Temperature as Inputs:**\n",
        "   - Models: Random Forest (RF), XGBoost (XGB), Hybrid Model (combining ML techniques), and Deep Learning (DL).\n",
        "   - Data splits: Five splits with increasing amounts of data (1/5 to 5/5).\n",
        "\n",
        "2. **Using COD Only as Input:**\n",
        "   - Models: RF, XGB, Hybrid Model, and DL.\n",
        "   - Data splits: Same five splits as in the first phase.\n",
        "\n",
        "### Phase 1: Using COD and Temperature as Inputs\n",
        "\n",
        "**Results:**\n",
        "- **Random Forest (RF):** Performance improved steadily with more data, peaking at the fifth split.\n",
        "- **XGBoost (XGB):** Showed the highest performance in the second split but remained consistently high across all splits.\n",
        "- **Hybrid Model:** Performance improved significantly with more data, showing the highest score in the fifth split.\n",
        "- **Deep Learning (DL):** Performance was highest in the first split, then stabilized slightly lower but consistently good.\n",
        "\n",
        "**Analysis:**\n",
        "- **Consistency:** XGBoost and DL models exhibited more consistent performance across different data splits compared to RF and the Hybrid model.\n",
        "- **Sensitivity to Data Size:** RF showed the greatest improvement with increasing data, suggesting it benefits more from larger datasets.\n",
        "- **Peak Performance:** DL and XGB had the highest initial performance, indicating their robustness even with smaller datasets.\n",
        "\n",
        "### Phase 2: Using COD Only as Input\n",
        "\n",
        "**Results:**\n",
        "- **Random Forest (RF):** Performance fluctuated with a general decrease compared to using both inputs.\n",
        "- **XGBoost (XGB):** Performance decreased significantly when temperature was removed, showing more variability.\n",
        "- **Hybrid Model:** Maintained relatively high performance, with slight improvement in higher splits.\n",
        "- **Deep Learning (DL):** Maintained the highest consistency and overall performance, similar to the hybrid model but slightly better.\n",
        "\n",
        "**Analysis:**\n",
        "- **Feature Sensitivity:** Removing temperature as an input negatively impacted all models, with RF and XGB experiencing the most significant drops.\n",
        "- **Model Robustness:** DL and the Hybrid model were more robust to the reduced feature set, maintaining higher performance levels.\n",
        "- **Data Utilization:** Despite the reduced feature set, increasing the data size still benefited all models, indicating the importance of data volume.\n",
        "\n",
        "### Conclusions\n",
        "\n",
        "1. **Model Performance:**\n",
        "   - **Deep Learning:** Consistently outperformed other models in both phases, showing robustness to both data volume and feature set changes.\n",
        "   - **XGBoost:** High performance with all features, but more sensitive to feature reduction.\n",
        "   - **Random Forest:** Benefited significantly from larger datasets but was more affected by feature reduction.\n",
        "   - **Hybrid Model:** Showed a balanced performance, improving significantly with more data and maintaining robustness with fewer features.\n",
        "\n",
        "2. **Impact of Data Volume:**\n",
        "   - Increasing the amount of data generally improved model performance across all types, especially for RF and the Hybrid model.\n",
        "\n",
        "3. **Impact of Feature Set:**\n",
        "   - The inclusion of temperature as a feature significantly improved prediction accuracy. Removing temperature reduced the performance of all models, highlighting the importance of comprehensive feature selection.\n",
        "\n",
        "\n",
        "This assessment provides a clear understanding of how different models respond to changes in data volume and feature sets, guiding future efforts in model selection and data collection strategies for predicting dissolved oxygen levels.\n"
      ],
      "metadata": {
        "id": "f5fN1HJsYaPr"
      },
      "id": "f5fN1HJsYaPr"
    },
    {
      "cell_type": "code",
      "source": [],
      "metadata": {
        "id": "F5Mrnf4TYZ5T"
      },
      "id": "F5Mrnf4TYZ5T",
      "execution_count": null,
      "outputs": []
    },
    {
      "cell_type": "markdown",
      "source": [
        "## Optimization of DL"
      ],
      "metadata": {
        "id": "fxLTMGCrSs0z"
      },
      "id": "fxLTMGCrSs0z"
    },
    {
      "cell_type": "code",
      "source": [
        "pip install keras-tuner\n"
      ],
      "metadata": {
        "colab": {
          "base_uri": "https://localhost:8080/"
        },
        "id": "s1flDK4eRRlT",
        "outputId": "ccb8f49e-9d35-4235-ad55-c582c0c722b5"
      },
      "id": "s1flDK4eRRlT",
      "execution_count": null,
      "outputs": [
        {
          "output_type": "stream",
          "name": "stdout",
          "text": [
            "Collecting keras-tuner\n",
            "  Downloading keras_tuner-1.4.7-py3-none-any.whl (129 kB)\n",
            "\u001b[2K     \u001b[90m━━━━━━━━━━━━━━━━━━━━━━━━━━━━━━━━━━━━━━━━\u001b[0m \u001b[32m129.1/129.1 kB\u001b[0m \u001b[31m2.5 MB/s\u001b[0m eta \u001b[36m0:00:00\u001b[0m\n",
            "\u001b[?25hRequirement already satisfied: keras in /usr/local/lib/python3.10/dist-packages (from keras-tuner) (2.15.0)\n",
            "Requirement already satisfied: packaging in /usr/local/lib/python3.10/dist-packages (from keras-tuner) (24.0)\n",
            "Requirement already satisfied: requests in /usr/local/lib/python3.10/dist-packages (from keras-tuner) (2.31.0)\n",
            "Collecting kt-legacy (from keras-tuner)\n",
            "  Downloading kt_legacy-1.0.5-py3-none-any.whl (9.6 kB)\n",
            "Requirement already satisfied: charset-normalizer<4,>=2 in /usr/local/lib/python3.10/dist-packages (from requests->keras-tuner) (3.3.2)\n",
            "Requirement already satisfied: idna<4,>=2.5 in /usr/local/lib/python3.10/dist-packages (from requests->keras-tuner) (3.7)\n",
            "Requirement already satisfied: urllib3<3,>=1.21.1 in /usr/local/lib/python3.10/dist-packages (from requests->keras-tuner) (2.0.7)\n",
            "Requirement already satisfied: certifi>=2017.4.17 in /usr/local/lib/python3.10/dist-packages (from requests->keras-tuner) (2024.6.2)\n",
            "Installing collected packages: kt-legacy, keras-tuner\n",
            "Successfully installed keras-tuner-1.4.7 kt-legacy-1.0.5\n"
          ]
        }
      ]
    },
    {
      "cell_type": "code",
      "source": [
        "import tensorflow as tf\n",
        "from tensorflow import keras\n",
        "from tensorflow.keras import Sequential\n",
        "from tensorflow.keras.layers import Dense\n",
        "from kerastuner.tuners import RandomSearch\n",
        "\n",
        "def build_model(hp):\n",
        "    model = Sequential()\n",
        "    model.add(Dense(units=hp.Int('units_input', min_value=32, max_value=512, step=32),\n",
        "                    activation='relu', input_dim=X_train.shape[1]))\n",
        "\n",
        "    for i in range(hp.Int('num_layers', 1, 5)):\n",
        "        model.add(Dense(units=hp.Int(f'units_{i}', min_value=32, max_value=512, step=32),\n",
        "                        activation=hp.Choice(f'activation_{i}', ['relu', 'tanh', 'sigmoid'])))\n",
        "\n",
        "    model.add(Dense(1, activation='linear'))\n",
        "\n",
        "    model.compile(optimizer='adam', loss='mean_squared_error', metrics=['mean_absolute_error'])\n",
        "\n",
        "    return model\n",
        "\n",
        "tuner = RandomSearch(\n",
        "    build_model,\n",
        "    objective='val_mean_absolute_error',\n",
        "    max_trials=5,\n",
        "    executions_per_trial=3,\n",
        "    directory='my_dir',\n",
        "    project_name='keras_tuner'\n",
        ")\n",
        "\n",
        "tuner.search(X_train, y_train, epochs=5, validation_data=(X_test, y_test))\n",
        "\n",
        "best_model = tuner.get_best_models(num_models=1)[0]\n",
        "\n",
        "best_model.summary()\n"
      ],
      "metadata": {
        "colab": {
          "base_uri": "https://localhost:8080/"
        },
        "id": "M2ChEDqsQnoC",
        "outputId": "8a2f52fb-dc12-410d-c934-01d0aa1056da"
      },
      "id": "M2ChEDqsQnoC",
      "execution_count": null,
      "outputs": [
        {
          "output_type": "stream",
          "name": "stdout",
          "text": [
            "Trial 5 Complete [00h 00m 14s]\n",
            "val_mean_absolute_error: 0.08092322200536728\n",
            "\n",
            "Best val_mean_absolute_error So Far: 0.07375294466813405\n",
            "Total elapsed time: 00h 01m 13s\n",
            "Model: \"sequential\"\n",
            "_________________________________________________________________\n",
            " Layer (type)                Output Shape              Param #   \n",
            "=================================================================\n",
            " dense (Dense)               (None, 448)               1344      \n",
            "                                                                 \n",
            " dense_1 (Dense)             (None, 320)               143680    \n",
            "                                                                 \n",
            " dense_2 (Dense)             (None, 160)               51360     \n",
            "                                                                 \n",
            " dense_3 (Dense)             (None, 1)                 161       \n",
            "                                                                 \n",
            "=================================================================\n",
            "Total params: 196545 (767.75 KB)\n",
            "Trainable params: 196545 (767.75 KB)\n",
            "Non-trainable params: 0 (0.00 Byte)\n",
            "_________________________________________________________________\n"
          ]
        }
      ]
    },
    {
      "cell_type": "code",
      "source": [
        "import tensorflow as tf\n",
        "from tensorflow.keras import Sequential\n",
        "from tensorflow.keras.layers import Dense\n",
        "\n",
        "model = Sequential()\n",
        "model.add(Dense(448, activation='relu', input_dim=X_train.shape[1]))\n",
        "model.add(Dense(320, activation='relu'))\n",
        "model.add(Dense(160, activation='relu'))\n",
        "model.add(Dense(1, activation='linear'))\n",
        "model.summary()\n",
        "\n",
        "model.compile(optimizer='Adam', loss='mean_squared_error')\n",
        "history = model.fit(X_train, y_train, epochs = 50, batch_size = 10, verbose = 1, validation_split=0.2)\n",
        "\n",
        "\n",
        "y_pred = model.predict(X_test)\n",
        "from sklearn.metrics import r2_score\n",
        "r2_score(y_test, y_pred)"
      ],
      "metadata": {
        "colab": {
          "base_uri": "https://localhost:8080/"
        },
        "id": "y-kU5AgvRGGd",
        "outputId": "7ac36f8c-83f1-4298-d645-a32ebf70784b"
      },
      "id": "y-kU5AgvRGGd",
      "execution_count": null,
      "outputs": [
        {
          "output_type": "stream",
          "name": "stdout",
          "text": [
            "Model: \"sequential_1\"\n",
            "_________________________________________________________________\n",
            " Layer (type)                Output Shape              Param #   \n",
            "=================================================================\n",
            " dense_4 (Dense)             (None, 448)               1344      \n",
            "                                                                 \n",
            " dense_5 (Dense)             (None, 320)               143680    \n",
            "                                                                 \n",
            " dense_6 (Dense)             (None, 160)               51360     \n",
            "                                                                 \n",
            " dense_7 (Dense)             (None, 1)                 161       \n",
            "                                                                 \n",
            "=================================================================\n",
            "Total params: 196545 (767.75 KB)\n",
            "Trainable params: 196545 (767.75 KB)\n",
            "Non-trainable params: 0 (0.00 Byte)\n",
            "_________________________________________________________________\n"
          ]
        }
      ]
    },
    {
      "cell_type": "code",
      "source": [],
      "metadata": {
        "id": "PfpKvzvNRF-i"
      },
      "id": "PfpKvzvNRF-i",
      "execution_count": null,
      "outputs": []
    },
    {
      "cell_type": "code",
      "source": [],
      "metadata": {
        "id": "whWTeIc5RF7r"
      },
      "id": "whWTeIc5RF7r",
      "execution_count": null,
      "outputs": []
    },
    {
      "cell_type": "markdown",
      "source": [
        "# In Depth Analysis"
      ],
      "metadata": {
        "id": "ssZPXW8Xo_C7"
      },
      "id": "ssZPXW8Xo_C7"
    },
    {
      "cell_type": "markdown",
      "source": [
        "## SHAP"
      ],
      "metadata": {
        "id": "F7jSk9uZyU-G"
      },
      "id": "F7jSk9uZyU-G"
    },
    {
      "cell_type": "code",
      "source": [
        "pip install shap\n"
      ],
      "metadata": {
        "colab": {
          "base_uri": "https://localhost:8080/"
        },
        "id": "XjeU7Dfoo60v",
        "outputId": "ae8c3f41-556c-441f-a82c-a849d2cdb836"
      },
      "id": "XjeU7Dfoo60v",
      "execution_count": null,
      "outputs": [
        {
          "output_type": "stream",
          "name": "stdout",
          "text": [
            "Collecting shap\n",
            "  Downloading shap-0.45.1-cp310-cp310-manylinux_2_12_x86_64.manylinux2010_x86_64.manylinux_2_17_x86_64.manylinux2014_x86_64.whl (540 kB)\n",
            "\u001b[2K     \u001b[90m━━━━━━━━━━━━━━━━━━━━━━━━━━━━━━━━━━━━━━━━\u001b[0m \u001b[32m540.5/540.5 kB\u001b[0m \u001b[31m3.6 MB/s\u001b[0m eta \u001b[36m0:00:00\u001b[0m\n",
            "\u001b[?25hRequirement already satisfied: numpy in /usr/local/lib/python3.10/dist-packages (from shap) (1.25.2)\n",
            "Requirement already satisfied: scipy in /usr/local/lib/python3.10/dist-packages (from shap) (1.11.4)\n",
            "Requirement already satisfied: scikit-learn in /usr/local/lib/python3.10/dist-packages (from shap) (1.2.2)\n",
            "Requirement already satisfied: pandas in /usr/local/lib/python3.10/dist-packages (from shap) (2.0.3)\n",
            "Requirement already satisfied: tqdm>=4.27.0 in /usr/local/lib/python3.10/dist-packages (from shap) (4.66.4)\n",
            "Requirement already satisfied: packaging>20.9 in /usr/local/lib/python3.10/dist-packages (from shap) (24.0)\n",
            "Collecting slicer==0.0.8 (from shap)\n",
            "  Downloading slicer-0.0.8-py3-none-any.whl (15 kB)\n",
            "Requirement already satisfied: numba in /usr/local/lib/python3.10/dist-packages (from shap) (0.58.1)\n",
            "Requirement already satisfied: cloudpickle in /usr/local/lib/python3.10/dist-packages (from shap) (2.2.1)\n",
            "Requirement already satisfied: llvmlite<0.42,>=0.41.0dev0 in /usr/local/lib/python3.10/dist-packages (from numba->shap) (0.41.1)\n",
            "Requirement already satisfied: python-dateutil>=2.8.2 in /usr/local/lib/python3.10/dist-packages (from pandas->shap) (2.8.2)\n",
            "Requirement already satisfied: pytz>=2020.1 in /usr/local/lib/python3.10/dist-packages (from pandas->shap) (2023.4)\n",
            "Requirement already satisfied: tzdata>=2022.1 in /usr/local/lib/python3.10/dist-packages (from pandas->shap) (2024.1)\n",
            "Requirement already satisfied: joblib>=1.1.1 in /usr/local/lib/python3.10/dist-packages (from scikit-learn->shap) (1.4.2)\n",
            "Requirement already satisfied: threadpoolctl>=2.0.0 in /usr/local/lib/python3.10/dist-packages (from scikit-learn->shap) (3.5.0)\n",
            "Requirement already satisfied: six>=1.5 in /usr/local/lib/python3.10/dist-packages (from python-dateutil>=2.8.2->pandas->shap) (1.16.0)\n",
            "Installing collected packages: slicer, shap\n",
            "Successfully installed shap-0.45.1 slicer-0.0.8\n"
          ]
        }
      ]
    },
    {
      "cell_type": "code",
      "source": [
        "import shap\n",
        "\n",
        "# RandomForestRegressor Shapley Analysis\n",
        "rf_explainer = shap.Explainer(rf_clf, X_train)\n",
        "rf_shap_values = rf_explainer.shap_values(X_test)\n",
        "\n",
        "# XGBRegressor Shapley Analysis\n",
        "xgb_explainer = shap.Explainer(xgb_clf, X_train)\n",
        "xgb_shap_values = xgb_explainer.shap_values(X_test)\n",
        "\n",
        "# ANN Shapley Analysis\n",
        "ann_explainer = shap.Explainer(model, X_train)\n",
        "ann_shap_values = ann_explainer.shap_values(X_test)\n"
      ],
      "metadata": {
        "colab": {
          "base_uri": "https://localhost:8080/"
        },
        "id": "0nfGZuEFo6xZ",
        "outputId": "18811dae-1f69-4a7e-8d09-a5a0a060793a"
      },
      "id": "0nfGZuEFo6xZ",
      "execution_count": null,
      "outputs": [
        {
          "output_type": "stream",
          "name": "stderr",
          "text": [
            "PermutationExplainer explainer: 721it [00:29, 22.09it/s]                         \n"
          ]
        }
      ]
    },
    {
      "cell_type": "code",
      "source": [
        "\n",
        "# RandomForestRegressor Shapley summary beeswarm plot\n",
        "shap.summary_plot(rf_shap_values, X_test, plot_type=\"dot\")\n",
        "\n",
        "# XGBRegressor Shapley summary beeswarm plot\n",
        "shap.summary_plot(xgb_shap_values, X_test, plot_type=\"dot\")\n",
        "\n",
        "# ANN Shapley summary beeswarm plot\n",
        "shap.summary_plot(ann_shap_values, X_test, plot_type=\"dot\")"
      ],
      "metadata": {
        "colab": {
          "base_uri": "https://localhost:8080/",
          "height": 1000
        },
        "id": "S6hQGs0As24A",
        "outputId": "0cb51cda-9069-4f7b-a191-d65a9931f797"
      },
      "id": "S6hQGs0As24A",
      "execution_count": null,
      "outputs": [
        {
          "output_type": "display_data",
          "data": {
            "text/plain": [
              "<Figure size 800x750 with 2 Axes>"
            ],
            "image/png": "[encoded data removed]"
          },
          "metadata": {}
        },
        {
          "output_type": "display_data",
          "data": {
            "text/plain": [
              "<Figure size 800x750 with 2 Axes>"
            ],
            "image/png": "[encoded data removed]"
          },
          "metadata": {}
        },
        {
          "output_type": "display_data",
          "data": {
            "text/plain": [
              "<Figure size 800x750 with 2 Axes>"
            ],
            "image/png": "[encoded data removed]"
          },
          "metadata": {}
        }
      ]
    },
    {
      "cell_type": "code",
      "source": [],
      "metadata": {
        "id": "8_lMvpOJo6nC"
      },
      "id": "8_lMvpOJo6nC",
      "execution_count": null,
      "outputs": []
    },
    {
      "cell_type": "code",
      "source": [
        "pip install lime\n"
      ],
      "metadata": {
        "colab": {
          "base_uri": "https://localhost:8080/"
        },
        "id": "hCOQQNz1yxrb",
        "outputId": "77556e50-ee91-4cb9-8dcb-92b26445c92d"
      },
      "id": "hCOQQNz1yxrb",
      "execution_count": null,
      "outputs": [
        {
          "output_type": "stream",
          "name": "stdout",
          "text": [
            "Collecting lime\n",
            "  Downloading lime-0.2.0.1.tar.gz (275 kB)\n",
            "\u001b[2K     \u001b[90m━━━━━━━━━━━━━━━━━━━━━━━━━━━━━━━━━━━━━━━━\u001b[0m \u001b[32m275.7/275.7 kB\u001b[0m \u001b[31m3.9 MB/s\u001b[0m eta \u001b[36m0:00:00\u001b[0m\n",
            "\u001b[?25h  Preparing metadata (setup.py) ... \u001b[?25l\u001b[?25hdone\n",
            "Requirement already satisfied: matplotlib in /usr/local/lib/python3.10/dist-packages (from lime) (3.7.1)\n",
            "Requirement already satisfied: numpy in /usr/local/lib/python3.10/dist-packages (from lime) (1.25.2)\n",
            "Requirement already satisfied: scipy in /usr/local/lib/python3.10/dist-packages (from lime) (1.11.4)\n",
            "Requirement already satisfied: tqdm in /usr/local/lib/python3.10/dist-packages (from lime) (4.66.4)\n",
            "Requirement already satisfied: scikit-learn>=0.18 in /usr/local/lib/python3.10/dist-packages (from lime) (1.2.2)\n",
            "Requirement already satisfied: scikit-image>=0.12 in /usr/local/lib/python3.10/dist-packages (from lime) (0.19.3)\n",
            "Requirement already satisfied: networkx>=2.2 in /usr/local/lib/python3.10/dist-packages (from scikit-image>=0.12->lime) (3.3)\n",
            "Requirement already satisfied: pillow!=7.1.0,!=7.1.1,!=8.3.0,>=6.1.0 in /usr/local/lib/python3.10/dist-packages (from scikit-image>=0.12->lime) (9.4.0)\n",
            "Requirement already satisfied: imageio>=2.4.1 in /usr/local/lib/python3.10/dist-packages (from scikit-image>=0.12->lime) (2.31.6)\n",
            "Requirement already satisfied: tifffile>=2019.7.26 in /usr/local/lib/python3.10/dist-packages (from scikit-image>=0.12->lime) (2024.4.24)\n",
            "Requirement already satisfied: PyWavelets>=1.1.1 in /usr/local/lib/python3.10/dist-packages (from scikit-image>=0.12->lime) (1.6.0)\n",
            "Requirement already satisfied: packaging>=20.0 in /usr/local/lib/python3.10/dist-packages (from scikit-image>=0.12->lime) (24.0)\n",
            "Requirement already satisfied: joblib>=1.1.1 in /usr/local/lib/python3.10/dist-packages (from scikit-learn>=0.18->lime) (1.4.2)\n",
            "Requirement already satisfied: threadpoolctl>=2.0.0 in /usr/local/lib/python3.10/dist-packages (from scikit-learn>=0.18->lime) (3.5.0)\n",
            "Requirement already satisfied: contourpy>=1.0.1 in /usr/local/lib/python3.10/dist-packages (from matplotlib->lime) (1.2.1)\n",
            "Requirement already satisfied: cycler>=0.10 in /usr/local/lib/python3.10/dist-packages (from matplotlib->lime) (0.12.1)\n",
            "Requirement already satisfied: fonttools>=4.22.0 in /usr/local/lib/python3.10/dist-packages (from matplotlib->lime) (4.51.0)\n",
            "Requirement already satisfied: kiwisolver>=1.0.1 in /usr/local/lib/python3.10/dist-packages (from matplotlib->lime) (1.4.5)\n",
            "Requirement already satisfied: pyparsing>=2.3.1 in /usr/local/lib/python3.10/dist-packages (from matplotlib->lime) (3.1.2)\n",
            "Requirement already satisfied: python-dateutil>=2.7 in /usr/local/lib/python3.10/dist-packages (from matplotlib->lime) (2.8.2)\n",
            "Requirement already satisfied: six>=1.5 in /usr/local/lib/python3.10/dist-packages (from python-dateutil>=2.7->matplotlib->lime) (1.16.0)\n",
            "Building wheels for collected packages: lime\n",
            "  Building wheel for lime (setup.py) ... \u001b[?25l\u001b[?25hdone\n",
            "  Created wheel for lime: filename=lime-0.2.0.1-py3-none-any.whl size=283835 sha256=e0246f6a87824263d43a1ac3cc8ed1e976b1d1328f056d9a2c5c42dd272e3d5e\n",
            "  Stored in directory: /root/.cache/pip/wheels/fd/a2/af/9ac0a1a85a27f314a06b39e1f492bee1547d52549a4606ed89\n",
            "Successfully built lime\n",
            "Installing collected packages: lime\n",
            "Successfully installed lime-0.2.0.1\n"
          ]
        }
      ]
    },
    {
      "cell_type": "code",
      "source": [
        "X.columns"
      ],
      "metadata": {
        "colab": {
          "base_uri": "https://localhost:8080/"
        },
        "id": "pV_UvgEi3vVW",
        "outputId": "ad4a7458-f28c-4d8d-9b52-883dc85f9215"
      },
      "id": "pV_UvgEi3vVW",
      "execution_count": null,
      "outputs": [
        {
          "output_type": "execute_result",
          "data": {
            "text/plain": [
              "Index(['NH3', 'Turbidity', 'P', 'N', 'KjeN', 'Inor N', 'Temp', 'D', 'Salinity',\n",
              "       'PH', 'Fecal', 'Ecoli', 'COD', 'Chlo A', 'BOD'],\n",
              "      dtype='object')"
            ]
          },
          "metadata": {},
          "execution_count": 84
        }
      ]
    },
    {
      "cell_type": "code",
      "source": [
        "from sklearn.ensemble import RandomForestRegressor\n",
        "from xgboost import XGBRegressor\n",
        "from sklearn.model_selection import cross_val_score\n",
        "# Assuming X_train, X_test, y_train, and y_test are your training and testing data\n",
        "\n",
        "# RandomForestRegressor\n",
        "rf_clf = RandomForestRegressor()\n",
        "rf_clf.fit(X, y)\n",
        "\n",
        "\n",
        "# Initialize XGBoost regressor\n",
        "xgb_clf = XGBRegressor()\n",
        "xgb_clf.fit(X, y)\n",
        "\n",
        "model.compile(optimizer='Adam', loss='mean_squared_error')\n",
        "history = model.fit(X, y, epochs = 50, batch_size = 10, verbose = 1, validation_split=0.2)\n",
        "\n"
      ],
      "metadata": {
        "colab": {
          "base_uri": "https://localhost:8080/"
        },
        "id": "8wO34Y0-4FcT",
        "outputId": "3ad14ca4-79fe-462d-dc85-49ab11eb4474"
      },
      "id": "8wO34Y0-4FcT",
      "execution_count": null,
      "outputs": [
        {
          "output_type": "stream",
          "name": "stdout",
          "text": [
            "Epoch 1/50\n",
            "192/192 [==============================] - 3s 6ms/step - loss: 63758.0586 - val_loss: 27.0975\n",
            "Epoch 2/50\n",
            "192/192 [==============================] - 1s 5ms/step - loss: 95.5661 - val_loss: 18.7636\n",
            "Epoch 3/50\n",
            "192/192 [==============================] - 1s 5ms/step - loss: 28.8602 - val_loss: 70.9779\n",
            "Epoch 4/50\n",
            "192/192 [==============================] - 1s 4ms/step - loss: 20.9974 - val_loss: 14.2091\n",
            "Epoch 5/50\n",
            "192/192 [==============================] - 1s 4ms/step - loss: 19.0981 - val_loss: 11.3697\n",
            "Epoch 6/50\n",
            "192/192 [==============================] - 1s 4ms/step - loss: 6.7493 - val_loss: 6.0158\n",
            "Epoch 7/50\n",
            "192/192 [==============================] - 1s 4ms/step - loss: 9.2628 - val_loss: 2.4855\n",
            "Epoch 8/50\n",
            "192/192 [==============================] - 1s 4ms/step - loss: 12.2856 - val_loss: 14.4726\n",
            "Epoch 9/50\n",
            "192/192 [==============================] - 1s 4ms/step - loss: 13.8447 - val_loss: 5.6822\n",
            "Epoch 10/50\n",
            "192/192 [==============================] - 1s 4ms/step - loss: 8.4822 - val_loss: 3.6907\n",
            "Epoch 11/50\n",
            "192/192 [==============================] - 1s 4ms/step - loss: 9.7924 - val_loss: 22.8246\n",
            "Epoch 12/50\n",
            "192/192 [==============================] - 1s 4ms/step - loss: 4.7946 - val_loss: 12.5655\n",
            "Epoch 13/50\n",
            "192/192 [==============================] - 1s 4ms/step - loss: 95.9800 - val_loss: 10.7008\n",
            "Epoch 14/50\n",
            "192/192 [==============================] - 1s 4ms/step - loss: 19.9088 - val_loss: 18.3302\n",
            "Epoch 15/50\n",
            "192/192 [==============================] - 1s 4ms/step - loss: 18.4673 - val_loss: 12.2271\n",
            "Epoch 16/50\n",
            "192/192 [==============================] - 1s 4ms/step - loss: 10.2561 - val_loss: 4.2513\n",
            "Epoch 17/50\n",
            "192/192 [==============================] - 1s 5ms/step - loss: 15.7005 - val_loss: 64.0492\n",
            "Epoch 18/50\n",
            "192/192 [==============================] - 1s 5ms/step - loss: 18.1169 - val_loss: 13.0243\n",
            "Epoch 19/50\n",
            "192/192 [==============================] - 1s 5ms/step - loss: 6.2706 - val_loss: 3.2739\n",
            "Epoch 20/50\n",
            "192/192 [==============================] - 1s 4ms/step - loss: 8.4118 - val_loss: 5.8404\n",
            "Epoch 21/50\n",
            "192/192 [==============================] - 1s 4ms/step - loss: 20.9947 - val_loss: 2.9575\n",
            "Epoch 22/50\n",
            "192/192 [==============================] - 1s 4ms/step - loss: 1.8955 - val_loss: 1.1845\n",
            "Epoch 23/50\n",
            "192/192 [==============================] - 1s 4ms/step - loss: 0.8484 - val_loss: 0.5766\n",
            "Epoch 24/50\n",
            "192/192 [==============================] - 1s 4ms/step - loss: 0.7182 - val_loss: 0.6821\n",
            "Epoch 25/50\n",
            "192/192 [==============================] - 1s 4ms/step - loss: 0.5468 - val_loss: 0.4560\n",
            "Epoch 26/50\n",
            "192/192 [==============================] - 1s 4ms/step - loss: 0.4974 - val_loss: 0.5395\n",
            "Epoch 27/50\n",
            "192/192 [==============================] - 1s 4ms/step - loss: 0.7208 - val_loss: 0.6061\n",
            "Epoch 28/50\n",
            "192/192 [==============================] - 1s 4ms/step - loss: 0.4834 - val_loss: 0.5041\n",
            "Epoch 29/50\n",
            "192/192 [==============================] - 1s 4ms/step - loss: 0.4105 - val_loss: 0.4405\n",
            "Epoch 30/50\n",
            "192/192 [==============================] - 1s 4ms/step - loss: 0.3948 - val_loss: 0.3855\n",
            "Epoch 31/50\n",
            "192/192 [==============================] - 1s 4ms/step - loss: 0.3834 - val_loss: 0.4132\n",
            "Epoch 32/50\n",
            "192/192 [==============================] - 1s 4ms/step - loss: 0.3656 - val_loss: 0.4309\n",
            "Epoch 33/50\n",
            "192/192 [==============================] - 1s 4ms/step - loss: 0.3558 - val_loss: 0.3635\n",
            "Epoch 34/50\n",
            "192/192 [==============================] - 1s 5ms/step - loss: 0.3405 - val_loss: 0.3280\n",
            "Epoch 35/50\n",
            "192/192 [==============================] - 1s 5ms/step - loss: 0.3307 - val_loss: 0.2773\n",
            "Epoch 36/50\n",
            "192/192 [==============================] - 1s 6ms/step - loss: 0.3952 - val_loss: 0.3704\n",
            "Epoch 37/50\n",
            "192/192 [==============================] - 1s 4ms/step - loss: 0.3081 - val_loss: 0.4560\n",
            "Epoch 38/50\n",
            "192/192 [==============================] - 1s 4ms/step - loss: 0.3171 - val_loss: 0.3355\n",
            "Epoch 39/50\n",
            "192/192 [==============================] - 1s 4ms/step - loss: 0.3182 - val_loss: 0.2696\n",
            "Epoch 40/50\n",
            "192/192 [==============================] - 1s 4ms/step - loss: 0.3037 - val_loss: 0.2375\n",
            "Epoch 41/50\n",
            "192/192 [==============================] - 1s 4ms/step - loss: 0.2839 - val_loss: 0.2486\n",
            "Epoch 42/50\n",
            "192/192 [==============================] - 1s 4ms/step - loss: 0.3423 - val_loss: 0.3810\n",
            "Epoch 43/50\n",
            "192/192 [==============================] - 1s 4ms/step - loss: 0.3588 - val_loss: 0.3626\n",
            "Epoch 44/50\n",
            "192/192 [==============================] - 1s 4ms/step - loss: 0.4063 - val_loss: 0.4063\n",
            "Epoch 45/50\n",
            "192/192 [==============================] - 1s 4ms/step - loss: 0.3105 - val_loss: 0.3435\n",
            "Epoch 46/50\n",
            "192/192 [==============================] - 1s 4ms/step - loss: 0.3336 - val_loss: 0.2804\n",
            "Epoch 47/50\n",
            "192/192 [==============================] - 1s 4ms/step - loss: 0.3926 - val_loss: 0.3369\n",
            "Epoch 48/50\n",
            "192/192 [==============================] - 1s 4ms/step - loss: 0.4562 - val_loss: 7.4151\n",
            "Epoch 49/50\n",
            "192/192 [==============================] - 1s 4ms/step - loss: 10.5711 - val_loss: 0.6576\n",
            "Epoch 50/50\n",
            "192/192 [==============================] - 1s 5ms/step - loss: 0.5705 - val_loss: 0.6263\n"
          ]
        }
      ]
    },
    {
      "cell_type": "code",
      "source": [
        "from sklearn.inspection import PartialDependenceDisplay\n",
        "\n",
        "# Assuming 'model' is your trained model\n",
        "# Assuming 'X' is your feature dataframe\n",
        "features_to_visualize = [X.columns[i] for i in [0, 2, 4, 8, 12]]\n",
        "X_subset = X.iloc[:, [0, 2, 4, 8, 12]]\n",
        "\n",
        "display = PartialDependenceDisplay.from_estimator(rf_clf, X_subset, features=features_to_visualize)\n",
        "display.plot()\n"
      ],
      "metadata": {
        "colab": {
          "base_uri": "https://localhost:8080/",
          "height": 898
        },
        "id": "bmtwgfsk5aUg",
        "outputId": "b2d23ecb-d27b-4c9a-a00c-c4a1d2d88004"
      },
      "id": "bmtwgfsk5aUg",
      "execution_count": null,
      "outputs": [
        {
          "output_type": "execute_result",
          "data": {
            "text/plain": [
              "<sklearn.inspection._plot.partial_dependence.PartialDependenceDisplay at 0x7db8e27b4250>"
            ]
          },
          "metadata": {},
          "execution_count": 91
        },
        {
          "output_type": "display_data",
          "data": {
            "text/plain": [
              "<Figure size 640x480 with 6 Axes>"
            ],
            "image/png": "[encoded data removed]"
          },
          "metadata": {}
        },
        {
          "output_type": "display_data",
          "data": {
            "text/plain": [
              "<Figure size 640x480 with 6 Axes>"
            ],
            "image/png": "[encoded data removed]"
          },
          "metadata": {}
        }
      ]
    },
    {
      "cell_type": "code",
      "source": [
        "from sklearn.inspection import PartialDependenceDisplay\n",
        "\n",
        "# Assuming 'model' is your trained model\n",
        "# Assuming 'X' is your feature dataframe\n",
        "features = X.columns\n",
        "display = PartialDependenceDisplay.from_estimator(rf_clf, X, features)\n",
        "display.plot()\n"
      ],
      "metadata": {
        "colab": {
          "base_uri": "https://localhost:8080/",
          "height": 898
        },
        "id": "CH8potFj2YQI",
        "outputId": "9d669635-3754-4e16-84dc-3a2b6ad98b7e"
      },
      "id": "CH8potFj2YQI",
      "execution_count": null,
      "outputs": [
        {
          "output_type": "execute_result",
          "data": {
            "text/plain": [
              "<sklearn.inspection._plot.partial_dependence.PartialDependenceDisplay at 0x7db8ef642f80>"
            ]
          },
          "metadata": {},
          "execution_count": 87
        },
        {
          "output_type": "display_data",
          "data": {
            "text/plain": [
              "<Figure size 640x480 with 16 Axes>"
            ],
            "image/png": "[encoded data removed]"
          },
          "metadata": {}
        },
        {
          "output_type": "display_data",
          "data": {
            "text/plain": [
              "<Figure size 640x480 with 16 Axes>"
            ],
            "image/png": "[encoded data removed]"
          },
          "metadata": {}
        }
      ]
    },
    {
      "cell_type": "code",
      "source": [
        "X_train.columns"
      ],
      "metadata": {
        "colab": {
          "base_uri": "https://localhost:8080/",
          "height": 141
        },
        "id": "6AyeyNxZ1-iN",
        "outputId": "33664f51-777d-4c45-bdd5-3d239bf7b218"
      },
      "id": "6AyeyNxZ1-iN",
      "execution_count": null,
      "outputs": [
        {
          "output_type": "error",
          "ename": "AttributeError",
          "evalue": "'numpy.ndarray' object has no attribute 'columns'",
          "traceback": [
            "\u001b[0;31m---------------------------------------------------------------------------\u001b[0m",
            "\u001b[0;31mAttributeError\u001b[0m                            Traceback (most recent call last)",
            "\u001b[0;32m<ipython-input-81-2625f76b8a6d>\u001b[0m in \u001b[0;36m<cell line: 1>\u001b[0;34m()\u001b[0m\n\u001b[0;32m----> 1\u001b[0;31m \u001b[0mX_train\u001b[0m\u001b[0;34m.\u001b[0m\u001b[0mcolumns\u001b[0m\u001b[0;34m\u001b[0m\u001b[0;34m\u001b[0m\u001b[0m\n\u001b[0m",
            "\u001b[0;31mAttributeError\u001b[0m: 'numpy.ndarray' object has no attribute 'columns'"
          ]
        }
      ]
    },
    {
      "cell_type": "code",
      "source": [
        "from pdpbox import pdp, get_dataset, info_plots\n",
        "import matplotlib.pyplot as plt\n",
        "\n",
        "# Assuming model is your trained machine learning model\n",
        "# Assuming X_train is your training data\n",
        "\n",
        "# Create a PDP for a single feature\n",
        "feature_to_plot = 'feature_name'  # Replace 'feature_name' with the feature you want to plot\n",
        "\n",
        "# Create the data for plotting\n",
        "pdp_goals = pdp.pdp_isolate(model=model, dataset=X_train, model_features=X_train.columns, feature=feature_to_plot)\n",
        "\n",
        "# Plot it\n",
        "pdp.pdp_plot(pdp_goals, feature_to_plot)\n",
        "plt.show()\n"
      ],
      "metadata": {
        "colab": {
          "base_uri": "https://localhost:8080/",
          "height": 477
        },
        "id": "4Hc0eM-myZAD",
        "outputId": "763f8e8c-3c00-40cf-96e5-ed823904e2bc"
      },
      "id": "4Hc0eM-myZAD",
      "execution_count": null,
      "outputs": [
        {
          "output_type": "error",
          "ename": "KeyError",
          "evalue": "44",
          "traceback": [
            "\u001b[0;31m---------------------------------------------------------------------------\u001b[0m",
            "\u001b[0;31mKeyError\u001b[0m                                  Traceback (most recent call last)",
            "\u001b[0;32m/usr/local/lib/python3.10/dist-packages/pandas/core/indexes/base.py\u001b[0m in \u001b[0;36mget_loc\u001b[0;34m(self, key)\u001b[0m\n\u001b[1;32m   3652\u001b[0m         \u001b[0;32mtry\u001b[0m\u001b[0;34m:\u001b[0m\u001b[0;34m\u001b[0m\u001b[0;34m\u001b[0m\u001b[0m\n\u001b[0;32m-> 3653\u001b[0;31m             \u001b[0;32mreturn\u001b[0m \u001b[0mself\u001b[0m\u001b[0;34m.\u001b[0m\u001b[0m_engine\u001b[0m\u001b[0;34m.\u001b[0m\u001b[0mget_loc\u001b[0m\u001b[0;34m(\u001b[0m\u001b[0mcasted_key\u001b[0m\u001b[0;34m)\u001b[0m\u001b[0;34m\u001b[0m\u001b[0;34m\u001b[0m\u001b[0m\n\u001b[0m\u001b[1;32m   3654\u001b[0m         \u001b[0;32mexcept\u001b[0m \u001b[0mKeyError\u001b[0m \u001b[0;32mas\u001b[0m \u001b[0merr\u001b[0m\u001b[0;34m:\u001b[0m\u001b[0;34m\u001b[0m\u001b[0;34m\u001b[0m\u001b[0m\n",
            "\u001b[0;32m/usr/local/lib/python3.10/dist-packages/pandas/_libs/index.pyx\u001b[0m in \u001b[0;36mpandas._libs.index.IndexEngine.get_loc\u001b[0;34m()\u001b[0m\n",
            "\u001b[0;32m/usr/local/lib/python3.10/dist-packages/pandas/_libs/index.pyx\u001b[0m in \u001b[0;36mpandas._libs.index.IndexEngine.get_loc\u001b[0;34m()\u001b[0m\n",
            "\u001b[0;32mpandas/_libs/hashtable_class_helper.pxi\u001b[0m in \u001b[0;36mpandas._libs.hashtable.Int64HashTable.get_item\u001b[0;34m()\u001b[0m\n",
            "\u001b[0;32mpandas/_libs/hashtable_class_helper.pxi\u001b[0m in \u001b[0;36mpandas._libs.hashtable.Int64HashTable.get_item\u001b[0;34m()\u001b[0m\n",
            "\u001b[0;31mKeyError\u001b[0m: 44",
            "\nThe above exception was the direct cause of the following exception:\n",
            "\u001b[0;31mKeyError\u001b[0m                                  Traceback (most recent call last)",
            "\u001b[0;32m<ipython-input-74-105e887fdfb7>\u001b[0m in \u001b[0;36m<cell line: 16>\u001b[0;34m()\u001b[0m\n\u001b[1;32m     14\u001b[0m \u001b[0msample_idx\u001b[0m \u001b[0;34m=\u001b[0m \u001b[0mnp\u001b[0m\u001b[0;34m.\u001b[0m\u001b[0mrandom\u001b[0m\u001b[0;34m.\u001b[0m\u001b[0mrandint\u001b[0m\u001b[0;34m(\u001b[0m\u001b[0;36m0\u001b[0m\u001b[0;34m,\u001b[0m \u001b[0mlen\u001b[0m\u001b[0;34m(\u001b[0m\u001b[0mX_test\u001b[0m\u001b[0;34m)\u001b[0m\u001b[0;34m)\u001b[0m  \u001b[0;31m# Generate a random index\u001b[0m\u001b[0;34m\u001b[0m\u001b[0;34m\u001b[0m\u001b[0m\n\u001b[1;32m     15\u001b[0m \u001b[0msample\u001b[0m \u001b[0;34m=\u001b[0m \u001b[0mX_test\u001b[0m\u001b[0;34m[\u001b[0m\u001b[0msample_idx\u001b[0m\u001b[0;34m]\u001b[0m\u001b[0;34m\u001b[0m\u001b[0;34m\u001b[0m\u001b[0m\n\u001b[0;32m---> 16\u001b[0;31m \u001b[0mtrue_label\u001b[0m \u001b[0;34m=\u001b[0m \u001b[0my_test\u001b[0m\u001b[0;34m[\u001b[0m\u001b[0msample_idx\u001b[0m\u001b[0;34m]\u001b[0m\u001b[0;34m\u001b[0m\u001b[0;34m\u001b[0m\u001b[0m\n\u001b[0m\u001b[1;32m     17\u001b[0m \u001b[0;34m\u001b[0m\u001b[0m\n\u001b[1;32m     18\u001b[0m \u001b[0;31m# Explain the prediction for the selected sample\u001b[0m\u001b[0;34m\u001b[0m\u001b[0;34m\u001b[0m\u001b[0m\n",
            "\u001b[0;32m/usr/local/lib/python3.10/dist-packages/pandas/core/series.py\u001b[0m in \u001b[0;36m__getitem__\u001b[0;34m(self, key)\u001b[0m\n\u001b[1;32m   1005\u001b[0m \u001b[0;34m\u001b[0m\u001b[0m\n\u001b[1;32m   1006\u001b[0m         \u001b[0;32melif\u001b[0m \u001b[0mkey_is_scalar\u001b[0m\u001b[0;34m:\u001b[0m\u001b[0;34m\u001b[0m\u001b[0;34m\u001b[0m\u001b[0m\n\u001b[0;32m-> 1007\u001b[0;31m             \u001b[0;32mreturn\u001b[0m \u001b[0mself\u001b[0m\u001b[0;34m.\u001b[0m\u001b[0m_get_value\u001b[0m\u001b[0;34m(\u001b[0m\u001b[0mkey\u001b[0m\u001b[0;34m)\u001b[0m\u001b[0;34m\u001b[0m\u001b[0;34m\u001b[0m\u001b[0m\n\u001b[0m\u001b[1;32m   1008\u001b[0m \u001b[0;34m\u001b[0m\u001b[0m\n\u001b[1;32m   1009\u001b[0m         \u001b[0;32mif\u001b[0m \u001b[0mis_hashable\u001b[0m\u001b[0;34m(\u001b[0m\u001b[0mkey\u001b[0m\u001b[0;34m)\u001b[0m\u001b[0;34m:\u001b[0m\u001b[0;34m\u001b[0m\u001b[0;34m\u001b[0m\u001b[0m\n",
            "\u001b[0;32m/usr/local/lib/python3.10/dist-packages/pandas/core/series.py\u001b[0m in \u001b[0;36m_get_value\u001b[0;34m(self, label, takeable)\u001b[0m\n\u001b[1;32m   1114\u001b[0m \u001b[0;34m\u001b[0m\u001b[0m\n\u001b[1;32m   1115\u001b[0m         \u001b[0;31m# Similar to Index.get_value, but we do not fall back to positional\u001b[0m\u001b[0;34m\u001b[0m\u001b[0;34m\u001b[0m\u001b[0m\n\u001b[0;32m-> 1116\u001b[0;31m         \u001b[0mloc\u001b[0m \u001b[0;34m=\u001b[0m \u001b[0mself\u001b[0m\u001b[0;34m.\u001b[0m\u001b[0mindex\u001b[0m\u001b[0;34m.\u001b[0m\u001b[0mget_loc\u001b[0m\u001b[0;34m(\u001b[0m\u001b[0mlabel\u001b[0m\u001b[0;34m)\u001b[0m\u001b[0;34m\u001b[0m\u001b[0;34m\u001b[0m\u001b[0m\n\u001b[0m\u001b[1;32m   1117\u001b[0m \u001b[0;34m\u001b[0m\u001b[0m\n\u001b[1;32m   1118\u001b[0m         \u001b[0;32mif\u001b[0m \u001b[0mis_integer\u001b[0m\u001b[0;34m(\u001b[0m\u001b[0mloc\u001b[0m\u001b[0;34m)\u001b[0m\u001b[0;34m:\u001b[0m\u001b[0;34m\u001b[0m\u001b[0;34m\u001b[0m\u001b[0m\n",
            "\u001b[0;32m/usr/local/lib/python3.10/dist-packages/pandas/core/indexes/base.py\u001b[0m in \u001b[0;36mget_loc\u001b[0;34m(self, key)\u001b[0m\n\u001b[1;32m   3653\u001b[0m             \u001b[0;32mreturn\u001b[0m \u001b[0mself\u001b[0m\u001b[0;34m.\u001b[0m\u001b[0m_engine\u001b[0m\u001b[0;34m.\u001b[0m\u001b[0mget_loc\u001b[0m\u001b[0;34m(\u001b[0m\u001b[0mcasted_key\u001b[0m\u001b[0;34m)\u001b[0m\u001b[0;34m\u001b[0m\u001b[0;34m\u001b[0m\u001b[0m\n\u001b[1;32m   3654\u001b[0m         \u001b[0;32mexcept\u001b[0m \u001b[0mKeyError\u001b[0m \u001b[0;32mas\u001b[0m \u001b[0merr\u001b[0m\u001b[0;34m:\u001b[0m\u001b[0;34m\u001b[0m\u001b[0;34m\u001b[0m\u001b[0m\n\u001b[0;32m-> 3655\u001b[0;31m             \u001b[0;32mraise\u001b[0m \u001b[0mKeyError\u001b[0m\u001b[0;34m(\u001b[0m\u001b[0mkey\u001b[0m\u001b[0;34m)\u001b[0m \u001b[0;32mfrom\u001b[0m \u001b[0merr\u001b[0m\u001b[0;34m\u001b[0m\u001b[0;34m\u001b[0m\u001b[0m\n\u001b[0m\u001b[1;32m   3656\u001b[0m         \u001b[0;32mexcept\u001b[0m \u001b[0mTypeError\u001b[0m\u001b[0;34m:\u001b[0m\u001b[0;34m\u001b[0m\u001b[0;34m\u001b[0m\u001b[0m\n\u001b[1;32m   3657\u001b[0m             \u001b[0;31m# If we have a listlike key, _check_indexing_error will raise\u001b[0m\u001b[0;34m\u001b[0m\u001b[0;34m\u001b[0m\u001b[0m\n",
            "\u001b[0;31mKeyError\u001b[0m: 44"
          ]
        }
      ]
    },
    {
      "cell_type": "code",
      "source": [],
      "metadata": {
        "id": "MVodO41RyY9G"
      },
      "id": "MVodO41RyY9G",
      "execution_count": null,
      "outputs": []
    },
    {
      "cell_type": "code",
      "source": [],
      "metadata": {
        "id": "RlbiuQhqyY6I"
      },
      "id": "RlbiuQhqyY6I",
      "execution_count": null,
      "outputs": []
    },
    {
      "cell_type": "code",
      "source": [],
      "metadata": {
        "id": "cq6XwHDoyY3c"
      },
      "id": "cq6XwHDoyY3c",
      "execution_count": null,
      "outputs": []
    },
    {
      "cell_type": "code",
      "source": [],
      "metadata": {
        "id": "S6oQGXeJyY0O"
      },
      "id": "S6oQGXeJyY0O",
      "execution_count": null,
      "outputs": []
    },
    {
      "cell_type": "code",
      "source": [],
      "metadata": {
        "id": "cmaxKG-uo6j0"
      },
      "id": "cmaxKG-uo6j0",
      "execution_count": null,
      "outputs": []
    },
    {
      "cell_type": "code",
      "source": [
        "# X = df3.drop(['DO'],axis='columns')   #input\n",
        "# y = df3['DO']\n",
        "\n",
        "# from sklearn.preprocessing import StandardScaler\n",
        "# scaler = StandardScaler()\n",
        "# X = scaler.fit_transform(X)\n",
        "\n",
        "# from sklearn.model_selection import train_test_split\n",
        "# X_train, X_test, y_train, y_test = train_test_split(X,y,test_size=0.3,random_state=10)\n",
        "# print(X_train.shape)\n",
        "# print(X_test.shape)\n",
        "\n",
        "# from sklearn.ensemble import RandomForestRegressor\n",
        "# from xgboost import XGBRegressor\n",
        "# # Assuming X_train, X_test, y_train, and y_test are your training and testing data\n",
        "\n",
        "# # RandomForestRegressor\n",
        "# rf_clf = RandomForestRegressor()\n",
        "# rf_clf.fit(X_train, y_train)\n",
        "# rf_score = rf_clf.score(X_test, y_test)\n",
        "\n",
        "# # Initialize XGBoost regressor\n",
        "# xgb_clf = XGBRegressor()\n",
        "# xgb_clf.fit(X_train, y_train)\n",
        "# xgb_score = xgb_clf.score(X_test, y_test)\n",
        "\n",
        "\n",
        "# # Print scores\n",
        "# print(\"RandomForestRegressor score:\", rf_score)\n",
        "# print(\"Xtreme GradientBoostingRegressor score:\", xgb_score)\n",
        "\n",
        "\n",
        "# import tensorflow\n",
        "# from tensorflow import keras\n",
        "# from tensorflow.keras import Sequential\n",
        "# from tensorflow.keras.layers import Dense\n",
        "# model = Sequential()\n",
        "# model.add(Dense(416, activation = 'relu',input_dim = X_train.shape[1]))\n",
        "# model.add(Dense(416, activation = 'relu'))\n",
        "# model.add(Dense(32, activation = 'relu'))\n",
        "# model.add(Dense(32, activation = 'relu'))\n",
        "# model.add(Dense(32, activation = 'relu'))\n",
        "# model.add(Dense(1, activation = 'linear'))\n",
        "# model.summary()\n",
        "\n",
        "\n",
        "# model.compile(optimizer='Adam', loss='mean_squared_error')\n",
        "# history = model.fit(X_train, y_train, epochs = 50, batch_size = 10, verbose = 1, validation_split=0.2)\n",
        "\n",
        "# y_pred = model.predict(X_test)\n",
        "# from sklearn.metrics import r2_score\n",
        "# r2_score(y_test, y_pred)"
      ],
      "metadata": {
        "id": "1gwfPmfEdKEK"
      },
      "id": "1gwfPmfEdKEK",
      "execution_count": null,
      "outputs": []
    },
    {
      "cell_type": "code",
      "source": [],
      "metadata": {
        "id": "WjiILEkgDM1Q"
      },
      "id": "WjiILEkgDM1Q",
      "execution_count": null,
      "outputs": []
    },
    {
      "cell_type": "code",
      "source": [],
      "metadata": {
        "id": "yWxdJV4nDMyZ"
      },
      "id": "yWxdJV4nDMyZ",
      "execution_count": null,
      "outputs": []
    },
    {
      "cell_type": "code",
      "source": [],
      "metadata": {
        "id": "_hKhiu_aDMvT"
      },
      "id": "_hKhiu_aDMvT",
      "execution_count": null,
      "outputs": []
    },
    {
      "cell_type": "code",
      "source": [],
      "metadata": {
        "id": "Zq4k8XcUDMrv"
      },
      "id": "Zq4k8XcUDMrv",
      "execution_count": null,
      "outputs": []
    }
  ],
  "metadata": {
    "kernelspec": {
      "display_name": "Python 3",
      "name": "python3"
    },
    "language_info": {
      "codemirror_mode": {
        "name": "ipython",
        "version": 3
      },
      "file_extension": ".py",
      "mimetype": "text/x-python",
      "name": "python",
      "nbconvert_exporter": "python",
      "pygments_lexer": "ipython3",
      "version": "3.11.5"
    },
    "colab": {
      "provenance": [],
      "gpuType": "T4",
      "toc_visible": true
    },
    "accelerator": "GPU"
  },
  "nbformat": 4,
  "nbformat_minor": 5
}